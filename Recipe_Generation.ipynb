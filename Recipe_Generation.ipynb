{
  "nbformat": 4,
  "nbformat_minor": 0,
  "metadata": {
    "colab": {
      "provenance": [],
      "machine_shape": "hm",
      "gpuType": "T4",
      "authorship_tag": "ABX9TyNV+PjqS+ymzTZdpJKthKha",
      "include_colab_link": true
    },
    "kernelspec": {
      "name": "python3",
      "display_name": "Python 3"
    },
    "language_info": {
      "name": "python"
    },
    "accelerator": "GPU"
  },
  "cells": [
    {
      "cell_type": "markdown",
      "metadata": {
        "id": "view-in-github",
        "colab_type": "text"
      },
      "source": [
        "<a href=\"https://colab.research.google.com/github/MaryEDeignan/NLP_Recipe_Guide/blob/main/Recipe_Generation.ipynb\" target=\"_parent\"><img src=\"https://colab.research.google.com/assets/colab-badge.svg\" alt=\"Open In Colab\"/></a>"
      ]
    },
    {
      "cell_type": "markdown",
      "source": [
        "# About this Notebook\n",
        "- You will need to change the path to data, the data file is in the Data folder in github\n",
        "- if you want to try to improve the recipe generation, feel free to increase the number of epochs. Keep in mind that each epoch takes roughly 30-40 minutes to run so it will take a long time to run this section.\n",
        "\n",
        "## Based on link below:\n",
        "https://www.kdnuggets.com/2020/07/generating-cooking-recipes-using-tensorflow.html\n"
      ],
      "metadata": {
        "id": "PXRgwPmRU7dK"
      }
    },
    {
      "cell_type": "code",
      "source": [
        "!pip install wget"
      ],
      "metadata": {
        "colab": {
          "base_uri": "https://localhost:8080/"
        },
        "id": "vcOShpnp4rks",
        "outputId": "9ebd4cd7-f573-4036-c0ff-8451faaf276e"
      },
      "execution_count": 1,
      "outputs": [
        {
          "output_type": "stream",
          "name": "stdout",
          "text": [
            "Collecting wget\n",
            "  Downloading wget-3.2.zip (10 kB)\n",
            "  Preparing metadata (setup.py) ... \u001b[?25l\u001b[?25hdone\n",
            "Building wheels for collected packages: wget\n",
            "  Building wheel for wget (setup.py) ... \u001b[?25l\u001b[?25hdone\n",
            "  Created wheel for wget: filename=wget-3.2-py3-none-any.whl size=9655 sha256=2cd670a091bedd004f544691976991d507f3d58f92193fab241700ff3bb28996\n",
            "  Stored in directory: /root/.cache/pip/wheels/8b/f1/7f/5c94f0a7a505ca1c81cd1d9208ae2064675d97582078e6c769\n",
            "Successfully built wget\n",
            "Installing collected packages: wget\n",
            "Successfully installed wget-3.2\n"
          ]
        }
      ]
    },
    {
      "cell_type": "code",
      "execution_count": 2,
      "metadata": {
        "id": "6w0bs4K1tOYa"
      },
      "outputs": [],
      "source": [
        "# imports\n",
        "import tensorflow as tf\n",
        "import matplotlib.pyplot as plt\n",
        "import numpy as np\n",
        "import json\n",
        "import platform\n",
        "import time\n",
        "import pathlib\n",
        "import os\n",
        "import wget\n",
        "import zipfile\n",
        "import pandas as pd\n",
        "\n",
        "from tensorflow import keras\n",
        "from google.colab import drive"
      ]
    },
    {
      "cell_type": "code",
      "source": [
        "# connect to your google drive, you don't need to change anything here if you are running in collab\n",
        "drive.mount('/content/drive')"
      ],
      "metadata": {
        "colab": {
          "base_uri": "https://localhost:8080/"
        },
        "id": "8i0bF4Ei47hN",
        "outputId": "b3bbf7da-4c91-467d-dab2-3467f164d260"
      },
      "execution_count": 3,
      "outputs": [
        {
          "output_type": "stream",
          "name": "stdout",
          "text": [
            "Mounted at /content/drive\n"
          ]
        }
      ]
    },
    {
      "cell_type": "code",
      "source": [
        "# making sure that we have the right version, we need tensorflow to be the second version (2.__._)\n",
        "print('Python version:', platform.python_version())\n",
        "print('Tensorflow version:', tf.__version__)\n",
        "print('Keras version:', tf.__version__)"
      ],
      "metadata": {
        "colab": {
          "base_uri": "https://localhost:8080/"
        },
        "id": "YfSINhRitfRm",
        "outputId": "06a1b2df-dffb-4d67-890e-69d2c429d1d2"
      },
      "execution_count": 4,
      "outputs": [
        {
          "output_type": "stream",
          "name": "stdout",
          "text": [
            "Python version: 3.10.12\n",
            "Tensorflow version: 2.15.0\n",
            "Keras version: 2.15.0\n"
          ]
        }
      ]
    },
    {
      "cell_type": "code",
      "source": [
        "# Setting the CACHE_DIR variable to the string './tmp', representing the directory path for caching\n",
        "CACHE_DIR = './tmp'\n",
        "\n",
        "# Creating the directory specified by CACHE_DIR if it doesn't already exist\n",
        "pathlib.Path(CACHE_DIR).mkdir(exist_ok=True)"
      ],
      "metadata": {
        "id": "okvMjN7NtxBU"
      },
      "execution_count": 5,
      "outputs": []
    },
    {
      "cell_type": "code",
      "source": [
        "# Verify the contents of the directory\n",
        "# here you will need to change to the google drive folder that you data is located in\n",
        "!ls -l '/content/drive/MyDrive/Fall_2023/NLP/Final/'\n",
        "\n",
        "# Define the path to the zip file\n",
        "# here you will need to change to the path to your zip file\n",
        "zip_file_path = '/content/drive/MyDrive/Fall_2023/NLP/Final/recipes_raw.zip'\n",
        "\n",
        "# Check if the file exists\n",
        "!ls -l {zip_file_path}\n",
        "\n",
        "# Define the destination folder for extraction\n",
        "unzip_destination = '/content/extracted_data/'\n",
        "\n",
        "# Create the destination folder if it doesn't exist\n",
        "!mkdir -p {unzip_destination}\n",
        "\n",
        "# Unzip the file\n",
        "!unzip -o {zip_file_path} -d {unzip_destination}"
      ],
      "metadata": {
        "colab": {
          "base_uri": "https://localhost:8080/"
        },
        "id": "7750_H9yuXVg",
        "outputId": "27d27b0c-93d7-4fc3-807f-672cf24af9f3"
      },
      "execution_count": 6,
      "outputs": [
        {
          "output_type": "stream",
          "name": "stdout",
          "text": [
            "total 122598\n",
            "-rw------- 1 root root   282010 Dec 22 21:32 'Copy of Recipe_Generation.ipynb'\n",
            "-rw------- 1 root root   467808 Dec 22 04:56  HuggingFaceData-checkpoint.ipynb\n",
            "-rw------- 1 root root  2855456 Dec 21 21:52  merged_df.csv\n",
            "-rw------- 1 root root  2634942 Dec 21 21:52  merged_df_featured.csv\n",
            "-rw------- 1 root root   284078 Dec 22 20:45  Recipe_Generation.ipynb\n",
            "-rw------- 1 root root 65658940 Dec 22 20:37  recipe_generation_rnn_raw.h5\n",
            "-rw------- 1 root root 53355492 Dec 21 19:04  recipes_raw.zip\n",
            "-rw------- 1 root root 53355492 Dec 21 19:04 /content/drive/MyDrive/Fall_2023/NLP/Final/recipes_raw.zip\n",
            "Archive:  /content/drive/MyDrive/Fall_2023/NLP/Final/recipes_raw.zip\n",
            "  inflating: /content/extracted_data/recipes_raw_nosource_ar.json  \n",
            "  inflating: /content/extracted_data/recipes_raw_nosource_epi.json  \n",
            "  inflating: /content/extracted_data/recipes_raw_nosource_fn.json  \n",
            "  inflating: /content/extracted_data/LICENSE  \n"
          ]
        }
      ]
    },
    {
      "cell_type": "code",
      "source": [
        "# Defining a function named 'load_dataset' with optional 'silent' parameter to control printing output\n",
        "def load_dataset(silent=False):\n",
        "    # List of dataset files we want to merge\n",
        "    dataset_file_names = [\n",
        "        'recipes_raw_nosource_ar.json',\n",
        "        'recipes_raw_nosource_epi.json',\n",
        "        'recipes_raw_nosource_fn.json',\n",
        "    ]\n",
        "    # Initializing an empty list to store the combined dataset\n",
        "    dataset = []\n",
        "\n",
        "    # Iterating through each dataset file name\n",
        "    for dataset_file_name in dataset_file_names:\n",
        "        # Constructing the full path to the dataset file\n",
        "        dataset_file_path = os.path.join('/content/extracted_data', dataset_file_name)\n",
        "\n",
        "      # Opening the dataset file and loading its content into a dictionary using the json module\n",
        "        with open(dataset_file_path) as dataset_file:\n",
        "            json_data_dict = json.load(dataset_file)\n",
        "            # Extracting a list of values (individual recipes) from the dictionary\n",
        "            json_data_list = list(json_data_dict.values())\n",
        "            # Extracting and sorting the keys of the first recipe in the list\n",
        "            dict_keys = [key for key in json_data_list[0]]\n",
        "            dict_keys.sort()\n",
        "            # Adding the recipes to the dataset list\n",
        "            dataset += json_data_list\n",
        "\n",
        "            # This code block outputs the summary for each dataset\n",
        "            if not silent:\n",
        "                print(dataset_file_path)\n",
        "                print('===========================================')\n",
        "                print('Number of examples: ', len(json_data_list), '\\n')\n",
        "                print('Example object keys:\\n', dict_keys, '\\n')\n",
        "                print('Example object:\\n', json_data_list[0], '\\n')\n",
        "                print('Required keys:\\n')\n",
        "                print('  title: ', json_data_list[0]['title'], '\\n')\n",
        "                print('  ingredients: ', json_data_list[0]['ingredients'], '\\n')\n",
        "                print('  instructions: ', json_data_list[0]['instructions'])\n",
        "                print('\\n\\n')\n",
        "    # Returning the combined dataset\n",
        "    return dataset\n",
        "\n",
        "# Calling the 'load_dataset' function to load and merge the specified dataset files, resulting dataset is assigned to the variable 'dataset_raw'\n",
        "dataset_raw = load_dataset()"
      ],
      "metadata": {
        "colab": {
          "base_uri": "https://localhost:8080/"
        },
        "id": "-yvCilO2yAnZ",
        "outputId": "08de021c-dc2b-4b89-a9c5-c55f1bea69b0"
      },
      "execution_count": 7,
      "outputs": [
        {
          "output_type": "stream",
          "name": "stdout",
          "text": [
            "/content/extracted_data/recipes_raw_nosource_ar.json\n",
            "===========================================\n",
            "Number of examples:  39802 \n",
            "\n",
            "Example object keys:\n",
            " ['ingredients', 'instructions', 'picture_link', 'title'] \n",
            "\n",
            "Example object:\n",
            " {'title': 'Slow Cooker Chicken and Dumplings', 'ingredients': ['4 skinless, boneless chicken breast halves ADVERTISEMENT', '2 tablespoons butter ADVERTISEMENT', '2 (10.75 ounce) cans condensed cream of chicken soup ADVERTISEMENT', '1 onion, finely diced ADVERTISEMENT', '2 (10 ounce) packages refrigerated biscuit dough, torn into pieces ADVERTISEMENT', 'ADVERTISEMENT'], 'instructions': 'Place the chicken, butter, soup, and onion in a slow cooker, and fill with enough water to cover.\\nCover, and cook for 5 to 6 hours on High. About 30 minutes before serving, place the torn biscuit dough in the slow cooker. Cook until the dough is no longer raw in the center.\\n', 'picture_link': '55lznCYBbs2mT8BTx6BTkLhynGHzM.S'} \n",
            "\n",
            "Required keys:\n",
            "\n",
            "  title:  Slow Cooker Chicken and Dumplings \n",
            "\n",
            "  ingredients:  ['4 skinless, boneless chicken breast halves ADVERTISEMENT', '2 tablespoons butter ADVERTISEMENT', '2 (10.75 ounce) cans condensed cream of chicken soup ADVERTISEMENT', '1 onion, finely diced ADVERTISEMENT', '2 (10 ounce) packages refrigerated biscuit dough, torn into pieces ADVERTISEMENT', 'ADVERTISEMENT'] \n",
            "\n",
            "  instructions:  Place the chicken, butter, soup, and onion in a slow cooker, and fill with enough water to cover.\n",
            "Cover, and cook for 5 to 6 hours on High. About 30 minutes before serving, place the torn biscuit dough in the slow cooker. Cook until the dough is no longer raw in the center.\n",
            "\n",
            "\n",
            "\n",
            "\n",
            "/content/extracted_data/recipes_raw_nosource_epi.json\n",
            "===========================================\n",
            "Number of examples:  25323 \n",
            "\n",
            "Example object keys:\n",
            " ['ingredients', 'instructions', 'picture_link', 'title'] \n",
            "\n",
            "Example object:\n",
            " {'ingredients': ['12 egg whites', '12 egg yolks', '1 1/2 cups sugar', '3/4 cup rye whiskey', '12 egg whites', '3/4 cup brandy', '1/2 cup rum', '1 to 2 cups heavy cream, lightly whipped', 'Garnish: ground nutmeg'], 'picture_link': None, 'instructions': 'Beat the egg whites until stiff, gradually adding in 3/4 cup sugar. Set aside. Beat the egg yolks until they are thick and pale and add the other 3/4 cup sugar and stir in rye whiskey. Blend well. Fold the egg white mixture into the yolk mixture and add the brandy and the rum. Beat the mixture well. To serve, fold the lightly whipped heavy cream into the eggnog. (If a thinner mixture is desired, add the heavy cream unwhipped.) Sprinkle the top of the eggnog with the nutmeg to taste.\\nBeat the egg whites until stiff, gradually adding in 3/4 cup sugar. Set aside. Beat the egg yolks until they are thick and pale and add the other 3/4 cup sugar and stir in rye whiskey. Blend well. Fold the egg white mixture into the yolk mixture and add the brandy and the rum. Beat the mixture well. To serve, fold the lightly whipped heavy cream into the eggnog. (If a thinner mixture is desired, add the heavy cream unwhipped.) Sprinkle the top of the eggnog with the nutmeg to taste.', 'title': 'Christmas Eggnog '} \n",
            "\n",
            "Required keys:\n",
            "\n",
            "  title:  Christmas Eggnog  \n",
            "\n",
            "  ingredients:  ['12 egg whites', '12 egg yolks', '1 1/2 cups sugar', '3/4 cup rye whiskey', '12 egg whites', '3/4 cup brandy', '1/2 cup rum', '1 to 2 cups heavy cream, lightly whipped', 'Garnish: ground nutmeg'] \n",
            "\n",
            "  instructions:  Beat the egg whites until stiff, gradually adding in 3/4 cup sugar. Set aside. Beat the egg yolks until they are thick and pale and add the other 3/4 cup sugar and stir in rye whiskey. Blend well. Fold the egg white mixture into the yolk mixture and add the brandy and the rum. Beat the mixture well. To serve, fold the lightly whipped heavy cream into the eggnog. (If a thinner mixture is desired, add the heavy cream unwhipped.) Sprinkle the top of the eggnog with the nutmeg to taste.\n",
            "Beat the egg whites until stiff, gradually adding in 3/4 cup sugar. Set aside. Beat the egg yolks until they are thick and pale and add the other 3/4 cup sugar and stir in rye whiskey. Blend well. Fold the egg white mixture into the yolk mixture and add the brandy and the rum. Beat the mixture well. To serve, fold the lightly whipped heavy cream into the eggnog. (If a thinner mixture is desired, add the heavy cream unwhipped.) Sprinkle the top of the eggnog with the nutmeg to taste.\n",
            "\n",
            "\n",
            "\n",
            "/content/extracted_data/recipes_raw_nosource_fn.json\n",
            "===========================================\n",
            "Number of examples:  60039 \n",
            "\n",
            "Example object keys:\n",
            " ['ingredients', 'instructions', 'picture_link', 'title'] \n",
            "\n",
            "Example object:\n",
            " {'instructions': 'Toss ingredients lightly and spoon into a buttered baking dish. Top with additional crushed cracker crumbs, and brush with melted butter. Bake in a preheated at 350 degrees oven for 25 to 30 minutes or until delicately browned.', 'ingredients': ['1/2 cup celery, finely chopped', '1 small green pepper finely chopped', '1/2 cup finely sliced green onions', '1/4 cup chopped parsley', '1 pound crabmeat', '1 1/4 cups coarsely crushed cracker crumbs', '1/2 teaspoon salt', '3/4 teaspoons dry mustard', 'Dash hot sauce', '1/4 cup heavy cream', '1/2 cup melted butter'], 'title': \"Grammie Hamblet's Deviled Crab\", 'picture_link': None} \n",
            "\n",
            "Required keys:\n",
            "\n",
            "  title:  Grammie Hamblet's Deviled Crab \n",
            "\n",
            "  ingredients:  ['1/2 cup celery, finely chopped', '1 small green pepper finely chopped', '1/2 cup finely sliced green onions', '1/4 cup chopped parsley', '1 pound crabmeat', '1 1/4 cups coarsely crushed cracker crumbs', '1/2 teaspoon salt', '3/4 teaspoons dry mustard', 'Dash hot sauce', '1/4 cup heavy cream', '1/2 cup melted butter'] \n",
            "\n",
            "  instructions:  Toss ingredients lightly and spoon into a buttered baking dish. Top with additional crushed cracker crumbs, and brush with melted butter. Bake in a preheated at 350 degrees oven for 25 to 30 minutes or until delicately browned.\n",
            "\n",
            "\n",
            "\n"
          ]
        }
      ]
    },
    {
      "cell_type": "code",
      "source": [
        "# Printing the total number of examples in the 'dataset_raw' list to see how many recipes we have\n",
        "print('Total number of raw examples: ', len(dataset_raw))"
      ],
      "metadata": {
        "colab": {
          "base_uri": "https://localhost:8080/"
        },
        "id": "RhQafATly-XB",
        "outputId": "e2bf5295-14a6-4261-96a2-014ea928089a"
      },
      "execution_count": null,
      "outputs": [
        {
          "output_type": "stream",
          "name": "stdout",
          "text": [
            "Total number of raw examples:  125164\n"
          ]
        }
      ]
    },
    {
      "cell_type": "code",
      "source": [],
      "metadata": {
        "id": "lsvvvN_YcfsR"
      },
      "execution_count": 7,
      "outputs": []
    },
    {
      "cell_type": "code",
      "source": [
        "# Defining a function named 'recipe_validate_required_fields' to validate if a recipe contains required fields\n",
        "def recipe_validate_required_fields(recipe):\n",
        "    # List of keys that are required for a recipe to be considered valid\n",
        "    required_keys = ['title', 'ingredients', 'instructions']\n",
        "\n",
        "    # If the recipe is empty or None, it is considered invalid\n",
        "    if not recipe:\n",
        "        return False\n",
        "\n",
        "    # Iterating through each required key\n",
        "    for required_key in required_keys:\n",
        "        # If the value for the required key is empty or None, the recipe is considered invalid\n",
        "        if not recipe[required_key]:\n",
        "            return False\n",
        "\n",
        "        # If the value for the required key is a list and it's empty, the recipe is considered invalid\n",
        "        if type(recipe[required_key]) == list and len(recipe[required_key]) == 0:\n",
        "            return False\n",
        "    # If all required fields are present and non-empty, the recipe is considered valid\n",
        "    return True"
      ],
      "metadata": {
        "id": "WkUQXB-Pzsnr"
      },
      "execution_count": 8,
      "outputs": []
    },
    {
      "cell_type": "code",
      "source": [
        "# Filtering the 'dataset_raw' to include only recipes that pass the validation using the 'recipe_validate_required_fields' function\n",
        "dataset_validated = [recipe for recipe in dataset_raw if recipe_validate_required_fields(recipe)]\n",
        "\n",
        "# Printing the sizes of the dataset before and after the validation so we can see how many were removed\n",
        "print('Dataset size BEFORE validation', len(dataset_raw))\n",
        "print('Dataset size AFTER validation', len(dataset_validated))"
      ],
      "metadata": {
        "colab": {
          "base_uri": "https://localhost:8080/"
        },
        "id": "wHJJEq3mzu-y",
        "outputId": "571c91e1-4afc-4419-b89e-851ea3d80fe7"
      },
      "execution_count": 9,
      "outputs": [
        {
          "output_type": "stream",
          "name": "stdout",
          "text": [
            "Dataset size BEFORE validation 125164\n",
            "Dataset size AFTER validation 122938\n"
          ]
        }
      ]
    },
    {
      "cell_type": "code",
      "source": [
        "# Defining the stop words for processing and formatting recipes\n",
        "STOP_WORD_TITLE = '???? '\n",
        "STOP_WORD_INGREDIENTS = '\\n????\\n\\n'\n",
        "STOP_WORD_INSTRUCTIONS = '\\n????\\n\\n'\n",
        "\n",
        "# Defining a function named 'recipe_to_string' to convert a recipe dictionary into a formatted string\n",
        "def recipe_to_string(recipe):\n",
        "    # String to be removed from ingredients and instructions (cleaning up noise)\n",
        "    noize_string = 'ADVERTISEMENT'\n",
        "\n",
        "    # Extracting title, ingredients, and instructions from the recipe dictionary\n",
        "    title = recipe['title']\n",
        "    ingredients = recipe['ingredients']\n",
        "    instructions = recipe['instructions'].split('\\n')\n",
        "\n",
        "    # Creating a formatted string for ingredients\n",
        "    ingredients_string = ''\n",
        "    for ingredient in ingredients:\n",
        "        ingredient = ingredient.replace(noize_string, '')\n",
        "        if ingredient:\n",
        "            ingredients_string += f'• {ingredient}\\n'\n",
        "\n",
        "    # Creating a formatted string for instructions\n",
        "    instructions_string = ''\n",
        "    for instruction in instructions:\n",
        "        instruction = instruction.replace(noize_string, '')\n",
        "        if instruction:\n",
        "            instructions_string += f'▪︎ {instruction}\\n'\n",
        "\n",
        "    # Combining the formatted title, ingredients, and instructions into a single string\n",
        "    return f'{STOP_WORD_TITLE}{title}\\n{STOP_WORD_INGREDIENTS}{ingredients_string}{STOP_WORD_INSTRUCTIONS}{instructions_string}'"
      ],
      "metadata": {
        "id": "hkpawDKjz23r"
      },
      "execution_count": 10,
      "outputs": []
    },
    {
      "cell_type": "code",
      "source": [
        "# Converting each validated recipe in 'dataset_validated' to a formatted string using the 'recipe_to_string' function\n",
        "dataset_stringified = [recipe_to_string(recipe) for recipe in dataset_validated]\n",
        "\n",
        "# Checking the size of the stringified dataset\n",
        "print('Stringified dataset size: ', len(dataset_stringified))"
      ],
      "metadata": {
        "colab": {
          "base_uri": "https://localhost:8080/"
        },
        "id": "tSoSgcJEz594",
        "outputId": "9ff4d5c1-2dca-4c42-944e-ce3215a4bdab"
      },
      "execution_count": 11,
      "outputs": [
        {
          "output_type": "stream",
          "name": "stdout",
          "text": [
            "Stringified dataset size:  122938\n"
          ]
        }
      ]
    },
    {
      "cell_type": "code",
      "source": [
        "# Iterating through the first three recipes in the stringified dataset and printing them to see how they look\n",
        "for recipe_index, recipe_string in enumerate(dataset_stringified[:3]):\n",
        "    print('Recipe #{}\\n---------'.format(recipe_index + 1))\n",
        "    print(recipe_string)\n",
        "    print('\\n')"
      ],
      "metadata": {
        "colab": {
          "base_uri": "https://localhost:8080/"
        },
        "id": "M0UnDkOZz8Zj",
        "outputId": "c170fd54-4596-47fe-cad3-9e27e0fcb540"
      },
      "execution_count": 12,
      "outputs": [
        {
          "output_type": "stream",
          "name": "stdout",
          "text": [
            "Recipe #1\n",
            "---------\n",
            "???? Slow Cooker Chicken and Dumplings\n",
            "\n",
            "????\n",
            "\n",
            "• 4 skinless, boneless chicken breast halves \n",
            "• 2 tablespoons butter \n",
            "• 2 (10.75 ounce) cans condensed cream of chicken soup \n",
            "• 1 onion, finely diced \n",
            "• 2 (10 ounce) packages refrigerated biscuit dough, torn into pieces \n",
            "\n",
            "????\n",
            "\n",
            "▪︎ Place the chicken, butter, soup, and onion in a slow cooker, and fill with enough water to cover.\n",
            "▪︎ Cover, and cook for 5 to 6 hours on High. About 30 minutes before serving, place the torn biscuit dough in the slow cooker. Cook until the dough is no longer raw in the center.\n",
            "\n",
            "\n",
            "\n",
            "Recipe #2\n",
            "---------\n",
            "???? Awesome Slow Cooker Pot Roast\n",
            "\n",
            "????\n",
            "\n",
            "• 2 (10.75 ounce) cans condensed cream of mushroom soup \n",
            "• 1 (1 ounce) package dry onion soup mix \n",
            "• 1 1/4 cups water \n",
            "• 5 1/2 pounds pot roast \n",
            "\n",
            "????\n",
            "\n",
            "▪︎ In a slow cooker, mix cream of mushroom soup, dry onion soup mix and water. Place pot roast in slow cooker and coat with soup mixture.\n",
            "▪︎ Cook on High setting for 3 to 4 hours, or on Low setting for 8 to 9 hours.\n",
            "\n",
            "\n",
            "\n",
            "Recipe #3\n",
            "---------\n",
            "???? Brown Sugar Meatloaf\n",
            "\n",
            "????\n",
            "\n",
            "• 1/2 cup packed brown sugar \n",
            "• 1/2 cup ketchup \n",
            "• 1 1/2 pounds lean ground beef \n",
            "• 3/4 cup milk \n",
            "• 2 eggs \n",
            "• 1 1/2 teaspoons salt \n",
            "• 1/4 teaspoon ground black pepper \n",
            "• 1 small onion, chopped \n",
            "• 1/4 teaspoon ground ginger \n",
            "• 3/4 cup finely crushed saltine cracker crumbs \n",
            "\n",
            "????\n",
            "\n",
            "▪︎ Preheat oven to 350 degrees F (175 degrees C). Lightly grease a 5x9 inch loaf pan.\n",
            "▪︎ Press the brown sugar in the bottom of the prepared loaf pan and spread the ketchup over the sugar.\n",
            "▪︎ In a mixing bowl, mix thoroughly all remaining ingredients and shape into a loaf. Place on top of the ketchup.\n",
            "▪︎ Bake in preheated oven for 1 hour or until juices are clear.\n",
            "\n",
            "\n",
            "\n"
          ]
        }
      ]
    },
    {
      "cell_type": "code",
      "source": [
        "# Calculating the lengths of each recipe in the stringified dataset and creating a histogram\n",
        "recipes_lengths = []\n",
        "for recipe_text in dataset_stringified:\n",
        "    recipes_lengths.append(len(recipe_text))\n",
        "\n",
        "# Creating a histogram of recipe lengths to see where an appropriate cut off might be\n",
        "plt.hist(recipes_lengths, range=(0, 8000), bins=50)\n",
        "plt.show()"
      ],
      "metadata": {
        "colab": {
          "base_uri": "https://localhost:8080/",
          "height": 433
        },
        "id": "PbEh6OIB0DCr",
        "outputId": "b72e7191-d20b-4aaa-c822-24e2fa8b1869"
      },
      "execution_count": 13,
      "outputs": [
        {
          "output_type": "display_data",
          "data": {
            "text/plain": [
              "<Figure size 640x480 with 1 Axes>"
            ],
            "image/png": "[encoded data removed]"
          },
          "metadata": {}
        }
      ]
    },
    {
      "cell_type": "code",
      "source": [
        "# Defining the maximum allowed length for recipes based on histogram above\n",
        "MAX_RECIPE_LENGTH = 2000\n",
        "\n",
        "# Defining a function named 'filter_recipes_by_length' to filter recipes based on their length\n",
        "def filter_recipes_by_length(recipe_test):\n",
        "    return len(recipe_test) <= MAX_RECIPE_LENGTH\n",
        "\n",
        "# Filtering recipes in 'dataset_stringified' based on the specified maximum length using the 'filter_recipes_by_length' function\n",
        "dataset_filtered = [recipe_text for recipe_text in dataset_stringified if filter_recipes_by_length(recipe_text)]\n",
        "\n",
        "# Checking the sizes of the dataset before and after filtering\n",
        "print('Dataset size BEFORE filtering: ', len(dataset_stringified))\n",
        "print('Dataset size AFTER filtering: ', len(dataset_filtered))"
      ],
      "metadata": {
        "colab": {
          "base_uri": "https://localhost:8080/"
        },
        "id": "22VU9rzf0HET",
        "outputId": "60624dfd-8734-4188-d91d-ff15b0b00a4b"
      },
      "execution_count": 14,
      "outputs": [
        {
          "output_type": "stream",
          "name": "stdout",
          "text": [
            "Dataset size BEFORE filtering:  122938\n",
            "Dataset size AFTER filtering:  100001\n"
          ]
        }
      ]
    },
    {
      "cell_type": "code",
      "source": [
        "# Assigning the total number of recipes after filtering to the variable 'TOTAL_RECIPES_NUM'\n",
        "TOTAL_RECIPES_NUM = len(dataset_filtered)\n",
        "\n",
        "# checking that filtering above worked\n",
        "print('MAX_RECIPE_LENGTH: ', MAX_RECIPE_LENGTH)\n",
        "print('TOTAL_RECIPES_NUM: ', TOTAL_RECIPES_NUM)"
      ],
      "metadata": {
        "colab": {
          "base_uri": "https://localhost:8080/"
        },
        "id": "BrehjT8t0Q-l",
        "outputId": "e787d3b6-4831-4321-b3c5-64a722a31a34"
      },
      "execution_count": 15,
      "outputs": [
        {
          "output_type": "stream",
          "name": "stdout",
          "text": [
            "MAX_RECIPE_LENGTH:  2000\n",
            "TOTAL_RECIPES_NUM:  100001\n"
          ]
        }
      ]
    },
    {
      "cell_type": "code",
      "source": [
        "# Defining a stop sign to be used in tokenization\n",
        "STOP_SIGN = '␣'\n",
        "\n",
        "# Initializing a Tokenizer with specified parameters\n",
        "tokenizer = tf.keras.preprocessing.text.Tokenizer(\n",
        "    char_level=True,  # Tokenizing at the character level\n",
        "    filters='',  # No characters to be filtered\n",
        "    lower=False,  # Keeping the case of characters as is\n",
        "    split=''  # Splitting at the character level\n",
        ")\n",
        "\n",
        "# Fitting the tokenizer on the stop sign to ensure it is recognized during tokenization\n",
        "tokenizer.fit_on_texts([STOP_SIGN])\n",
        "\n",
        "# Fitting the tokenizer on the filtered dataset to learn the vocabulary\n",
        "tokenizer.fit_on_texts(dataset_filtered)\n",
        "\n",
        "# Getting the configuration of the tokenizer\n",
        "tokenizer.get_config()"
      ],
      "metadata": {
        "colab": {
          "base_uri": "https://localhost:8080/"
        },
        "id": "JwzSjPmM0YpT",
        "outputId": "c651e7c9-fd24-411a-c6e0-8483d6b77d25"
      },
      "execution_count": 16,
      "outputs": [
        {
          "output_type": "execute_result",
          "data": {
            "text/plain": [
              "{'num_words': None,\n",
              " 'filters': '',\n",
              " 'lower': False,\n",
              " 'split': '',\n",
              " 'char_level': True,\n",
              " 'oov_token': None,\n",
              " 'document_count': 100002,\n",
              " 'word_counts': '{\"\\\\u2423\": 1, \"?\": 1200337, \" \": 17456341, \"S\": 269334, \"l\": 3799351, \"o\": 5962595, \"w\": 960376, \"C\": 222127, \"k\": 887422, \"e\": 9257735, \"r\": 4741353, \"h\": 2908968, \"i\": 4891153, \"c\": 2872419, \"n\": 5282692, \"a\": 6042166, \"d\": 3086749, \"D\": 63726, \"u\": 2706138, \"m\": 1786991, \"p\": 2668709, \"g\": 1691743, \"s\": 4684699, \"\\\\n\": 1949725, \"\\\\u2022\": 919860, \"4\": 231801, \",\": 1125887, \"b\": 1388955, \"t\": 5971681, \"v\": 743650, \"2\": 492133, \"(\": 144468, \"1\": 851115, \"0\": 144643, \".\": 1048251, \"7\": 31019, \"5\": 153573, \")\": 144461, \"f\": 1038022, \"y\": 663513, \"\\\\u25aa\": 329932, \"\\\\ufe0e\": 329932, \"P\": 199874, \"6\": 51190, \"H\": 43774, \"A\": 133626, \"3\": 212769, \"R\": 100857, \"x\": 200639, \"/\": 344177, \"I\": 81359, \"L\": 45967, \"8\": 55146, \"9\": 17642, \"B\": 123389, \"M\": 78391, \"F\": 103981, \"j\": 109527, \"-\": 218143, \"W\": 61318, \"\\\\u00ae\": 10151, \"N\": 12762, \"q\": 69291, \"T\": 100919, \";\": 71813, \"\\'\": 26737, \"Z\": 2420, \"z\": 115415, \"G\": 51865, \":\": 31090, \"E\": 18534, \"K\": 18337, \"X\": 382, \"\\\\\"\": 6409, \"O\": 28831, \"Y\": 6031, \"\\\\u2122\": 538, \"Q\": 3894, \"J\": 10231, \"!\": 3002, \"U\": 14060, \"V\": 12137, \"&\": 1038, \"+\": 87, \"=\": 113, \"%\": 993, \"*\": 3216, \"\\\\u00a9\": 99, \"[\": 30, \"]\": 31, \"\\\\u00e9\": 6663, \"<\": 76, \">\": 86, \"\\\\u00bd\": 166, \"#\": 168, \"\\\\u00f1\": 884, \"\\\\u2019\": 111, \"\\\\u00b0\": 6750, \"\\\\u201d\": 6, \"$\": 84, \"@\": 5, \"{\": 8, \"}\": 9, \"\\\\u2013\": 1224, \"\\\\u0096\": 7, \"\\\\u00e0\": 24, \"\\\\u00e2\": 106, \"\\\\u00e8\": 830, \"\\\\u00e1\": 70, \"\\\\u2014\": 215, \"\\\\u2044\": 16, \"\\\\u00ee\": 404, \"\\\\u00e7\": 171, \"_\": 26, \"\\\\u00fa\": 48, \"\\\\u00ef\": 43, \"\\\\u201a\": 20, \"\\\\u00fb\": 36, \"\\\\u00f3\": 74, \"\\\\u00ed\": 126, \"\\\\u25ca\": 4, \"\\\\u00f9\": 12, \"\\\\u00d7\": 6, \"\\\\u00ec\": 8, \"\\\\u00fc\": 29, \"\\\\u2031\": 4, \"\\\\u00ba\": 19, \"\\\\u201c\": 4, \"\\\\u00ad\": 25, \"\\\\u00ea\": 27, \"\\\\u00f6\": 9, \"\\\\u0301\": 11, \"\\\\u00f4\": 8, \"\\\\u00c1\": 1, \"\\\\u00be\": 23, \"\\\\u00bc\": 95, \"\\\\u00eb\": 2, \"\\\\u0097\": 2, \"\\\\u215b\": 3, \"\\\\u2027\": 4, \"\\\\u00e4\": 15, \"\\\\u001a\": 2, \"\\\\u00f8\": 2, \"\\\\ufffd\": 20, \"\\\\u02da\": 6, \"\\\\u00bf\": 264, \"\\\\u2153\": 2, \"|\": 2, \"\\\\u00e5\": 3, \"\\\\u00a4\": 1, \"\\\\u201f\": 1, \"\\\\u00a7\": 5, \"\\\\ufb02\": 3, \"\\\\u00a0\": 1, \"\\\\u01b0\": 2, \"\\\\u01a1\": 1, \"\\\\u0103\": 1, \"\\\\u0300\": 1, \"\\\\u00bb\": 6, \"`\": 3, \"\\\\u0092\": 2, \"\\\\u215e\": 1, \"\\\\u202d\": 4, \"\\\\u00b4\": 2, \"\\\\u2012\": 2, \"\\\\u00c9\": 40, \"\\\\u00da\": 14, \"\\\\u20ac\": 1, \"\\\\\\\\\": 5, \"~\": 1, \"\\\\u0095\": 1, \"\\\\u00c2\": 2}',\n",
              " 'word_docs': '{\"\\\\u2423\": 1, \"e\": 100001, \"m\": 99777, \"d\": 99983, \"h\": 99950, \"c\": 99979, \"o\": 99994, \"w\": 99016, \"\\\\n\": 100001, \"a\": 99994, \"3\": 78938, \"y\": 96176, \"6\": 35100, \"4\": 82252, \"r\": 99996, \"t\": 99991, \"\\\\u2022\": 100001, \"0\": 61787, \"H\": 31809, \"v\": 97637, \")\": 67439, \"b\": 99491, \"2\": 96533, \"(\": 67452, \"i\": 99996, \"s\": 99993, \",\": 98313, \"g\": 99764, \"A\": 60713, \"P\": 79174, \"D\": 40732, \"\\\\u25aa\": 100001, \"p\": 99835, \"\\\\ufe0e\": 100001, \"7\": 24318, \"l\": 99995, \"1\": 99109, \"S\": 89048, \"?\": 100001, \"5\": 65320, \"n\": 99987, \".\": 99952, \"k\": 97105, \" \": 100001, \"C\": 83131, \"u\": 99950, \"f\": 98120, \"9\": 14079, \"x\": 71957, \"8\": 36888, \"L\": 31995, \"I\": 46567, \"/\": 88846, \"R\": 53876, \"B\": 64114, \"M\": 48188, \"F\": 57778, \"j\": 47295, \"-\": 74511, \"T\": 53584, \"N\": 9944, \"W\": 38849, \"\\\\u00ae\": 5814, \"q\": 36415, \";\": 33783, \"Z\": 2176, \"G\": 35266, \"z\": 42302, \"\\'\": 18069, \":\": 18108, \"E\": 12128, \"K\": 14771, \"X\": 320, \"\\\\\"\": 2603, \"O\": 20024, \"Y\": 5124, \"\\\\u2122\": 448, \"Q\": 3136, \"J\": 8197, \"!\": 2422, \"U\": 10575, \"V\": 9683, \"&\": 748, \"+\": 32, \"=\": 48, \"%\": 717, \"*\": 1773, \"\\\\u00a9\": 91, \"[\": 25, \"]\": 26, \"\\\\u00e9\": 2441, \">\": 33, \"<\": 27, \"\\\\u00bd\": 81, \"#\": 139, \"\\\\u00f1\": 420, \"\\\\u2019\": 64, \"\\\\u00b0\": 3037, \"\\\\u201d\": 3, \"$\": 49, \"@\": 4, \"{\": 7, \"}\": 8, \"\\\\u2013\": 489, \"\\\\u0096\": 7, \"\\\\u00e0\": 21, \"\\\\u00e2\": 45, \"\\\\u00e8\": 331, \"\\\\u00e1\": 36, \"\\\\u2014\": 95, \"\\\\u2044\": 9, \"\\\\u00ee\": 120, \"_\": 8, \"\\\\u00e7\": 120, \"\\\\u00fa\": 25, \"\\\\u00ef\": 24, \"\\\\u201a\": 10, \"\\\\u00fb\": 29, \"\\\\u00f3\": 40, \"\\\\u00ed\": 51, \"\\\\u25ca\": 2, \"\\\\u00f9\": 6, \"\\\\u00d7\": 4, \"\\\\u00ec\": 4, \"\\\\u00fc\": 19, \"\\\\u2031\": 2, \"\\\\u00ba\": 9, \"\\\\u201c\": 2, \"\\\\u00ad\": 11, \"\\\\u00ea\": 4, \"\\\\u00f6\": 4, \"\\\\u0301\": 6, \"\\\\u00f4\": 5, \"\\\\u00c1\": 1, \"\\\\u00be\": 18, \"\\\\u00bc\": 55, \"\\\\u00eb\": 2, \"\\\\u0097\": 1, \"\\\\u215b\": 2, \"\\\\u2027\": 3, \"\\\\u00e4\": 8, \"\\\\u001a\": 1, \"\\\\u00f8\": 1, \"\\\\ufffd\": 4, \"\\\\u02da\": 3, \"\\\\u00bf\": 191, \"\\\\u2153\": 1, \"|\": 2, \"\\\\u00e5\": 1, \"\\\\u00a4\": 1, \"\\\\u00a7\": 3, \"\\\\u201f\": 1, \"\\\\ufb02\": 1, \"\\\\u01b0\": 1, \"\\\\u01a1\": 1, \"\\\\u00a0\": 1, \"\\\\u0300\": 1, \"\\\\u0103\": 1, \"\\\\u00bb\": 2, \"`\": 3, \"\\\\u0092\": 2, \"\\\\u215e\": 1, \"\\\\u202d\": 1, \"\\\\u00b4\": 1, \"\\\\u2012\": 1, \"\\\\u00c9\": 15, \"\\\\u00da\": 5, \"\\\\u20ac\": 1, \"\\\\\\\\\": 5, \"~\": 1, \"\\\\u0095\": 1, \"\\\\u00c2\": 1}',\n",
              " 'index_docs': '{\"1\": 100001, \"161\": 1, \"2\": 100001, \"17\": 99777, \"11\": 99983, \"12\": 99950, \"13\": 99979, \"5\": 99994, \"24\": 99016, \"16\": 100001, \"3\": 99994, \"38\": 78938, \"29\": 96176, \"60\": 35100, \"35\": 82252, \"8\": 99996, \"4\": 99991, \"25\": 100001, \"42\": 61787, \"62\": 31809, \"28\": 97637, \"44\": 67439, \"19\": 99491, \"30\": 96533, \"43\": 67452, \"7\": 99996, \"9\": 99993, \"21\": 98313, \"18\": 99764, \"45\": 60713, \"40\": 79174, \"56\": 40732, \"32\": 100001, \"15\": 99835, \"33\": 100001, \"64\": 24318, \"10\": 99995, \"27\": 99109, \"34\": 89048, \"20\": 100001, \"41\": 65320, \"6\": 99987, \"22\": 99952, \"26\": 97105, \"36\": 83131, \"14\": 99950, \"23\": 98120, \"69\": 14079, \"39\": 71957, \"58\": 36888, \"61\": 31995, \"52\": 46567, \"31\": 88846, \"51\": 53876, \"46\": 64114, \"53\": 48188, \"49\": 57778, \"48\": 47295, \"37\": 74511, \"50\": 53584, \"71\": 9944, \"57\": 38849, \"74\": 5814, \"55\": 36415, \"54\": 33783, \"82\": 2176, \"59\": 35266, \"47\": 42302, \"66\": 18069, \"63\": 18108, \"67\": 12128, \"68\": 14771, \"90\": 320, \"77\": 2603, \"65\": 20024, \"78\": 5124, \"88\": 448, \"79\": 3136, \"73\": 8197, \"81\": 2422, \"70\": 10575, \"72\": 9683, \"84\": 748, \"102\": 32, \"97\": 48, \"85\": 717, \"80\": 1773, \"100\": 91, \"113\": 25, \"112\": 26, \"76\": 2441, \"103\": 33, \"105\": 27, \"95\": 81, \"94\": 139, \"86\": 420, \"98\": 64, \"75\": 3037, \"134\": 3, \"104\": 49, \"138\": 4, \"130\": 7, \"128\": 8, \"83\": 489, \"133\": 7, \"118\": 21, \"99\": 45, \"87\": 331, \"107\": 36, \"92\": 95, \"123\": 9, \"89\": 120, \"116\": 8, \"93\": 120, \"108\": 25, \"109\": 24, \"120\": 10, \"111\": 29, \"106\": 40, \"96\": 51, \"141\": 2, \"126\": 6, \"135\": 4, \"131\": 4, \"114\": 19, \"142\": 2, \"122\": 9, \"143\": 2, \"117\": 11, \"115\": 4, \"129\": 4, \"127\": 6, \"132\": 5, \"162\": 1, \"119\": 18, \"101\": 55, \"150\": 2, \"151\": 1, \"146\": 2, \"144\": 3, \"124\": 8, \"152\": 1, \"153\": 1, \"121\": 4, \"136\": 3, \"91\": 191, \"154\": 1, \"155\": 2, \"147\": 1, \"163\": 1, \"139\": 3, \"164\": 1, \"148\": 1, \"156\": 1, \"166\": 1, \"165\": 1, \"168\": 1, \"167\": 1, \"137\": 2, \"149\": 3, \"157\": 2, \"169\": 1, \"145\": 1, \"158\": 1, \"159\": 1, \"110\": 15, \"125\": 5, \"170\": 1, \"140\": 5, \"171\": 1, \"172\": 1, \"160\": 1}',\n",
              " 'index_word': '{\"1\": \" \", \"2\": \"e\", \"3\": \"a\", \"4\": \"t\", \"5\": \"o\", \"6\": \"n\", \"7\": \"i\", \"8\": \"r\", \"9\": \"s\", \"10\": \"l\", \"11\": \"d\", \"12\": \"h\", \"13\": \"c\", \"14\": \"u\", \"15\": \"p\", \"16\": \"\\\\n\", \"17\": \"m\", \"18\": \"g\", \"19\": \"b\", \"20\": \"?\", \"21\": \",\", \"22\": \".\", \"23\": \"f\", \"24\": \"w\", \"25\": \"\\\\u2022\", \"26\": \"k\", \"27\": \"1\", \"28\": \"v\", \"29\": \"y\", \"30\": \"2\", \"31\": \"/\", \"32\": \"\\\\u25aa\", \"33\": \"\\\\ufe0e\", \"34\": \"S\", \"35\": \"4\", \"36\": \"C\", \"37\": \"-\", \"38\": \"3\", \"39\": \"x\", \"40\": \"P\", \"41\": \"5\", \"42\": \"0\", \"43\": \"(\", \"44\": \")\", \"45\": \"A\", \"46\": \"B\", \"47\": \"z\", \"48\": \"j\", \"49\": \"F\", \"50\": \"T\", \"51\": \"R\", \"52\": \"I\", \"53\": \"M\", \"54\": \";\", \"55\": \"q\", \"56\": \"D\", \"57\": \"W\", \"58\": \"8\", \"59\": \"G\", \"60\": \"6\", \"61\": \"L\", \"62\": \"H\", \"63\": \":\", \"64\": \"7\", \"65\": \"O\", \"66\": \"\\'\", \"67\": \"E\", \"68\": \"K\", \"69\": \"9\", \"70\": \"U\", \"71\": \"N\", \"72\": \"V\", \"73\": \"J\", \"74\": \"\\\\u00ae\", \"75\": \"\\\\u00b0\", \"76\": \"\\\\u00e9\", \"77\": \"\\\\\"\", \"78\": \"Y\", \"79\": \"Q\", \"80\": \"*\", \"81\": \"!\", \"82\": \"Z\", \"83\": \"\\\\u2013\", \"84\": \"&\", \"85\": \"%\", \"86\": \"\\\\u00f1\", \"87\": \"\\\\u00e8\", \"88\": \"\\\\u2122\", \"89\": \"\\\\u00ee\", \"90\": \"X\", \"91\": \"\\\\u00bf\", \"92\": \"\\\\u2014\", \"93\": \"\\\\u00e7\", \"94\": \"#\", \"95\": \"\\\\u00bd\", \"96\": \"\\\\u00ed\", \"97\": \"=\", \"98\": \"\\\\u2019\", \"99\": \"\\\\u00e2\", \"100\": \"\\\\u00a9\", \"101\": \"\\\\u00bc\", \"102\": \"+\", \"103\": \">\", \"104\": \"$\", \"105\": \"<\", \"106\": \"\\\\u00f3\", \"107\": \"\\\\u00e1\", \"108\": \"\\\\u00fa\", \"109\": \"\\\\u00ef\", \"110\": \"\\\\u00c9\", \"111\": \"\\\\u00fb\", \"112\": \"]\", \"113\": \"[\", \"114\": \"\\\\u00fc\", \"115\": \"\\\\u00ea\", \"116\": \"_\", \"117\": \"\\\\u00ad\", \"118\": \"\\\\u00e0\", \"119\": \"\\\\u00be\", \"120\": \"\\\\u201a\", \"121\": \"\\\\ufffd\", \"122\": \"\\\\u00ba\", \"123\": \"\\\\u2044\", \"124\": \"\\\\u00e4\", \"125\": \"\\\\u00da\", \"126\": \"\\\\u00f9\", \"127\": \"\\\\u0301\", \"128\": \"}\", \"129\": \"\\\\u00f6\", \"130\": \"{\", \"131\": \"\\\\u00ec\", \"132\": \"\\\\u00f4\", \"133\": \"\\\\u0096\", \"134\": \"\\\\u201d\", \"135\": \"\\\\u00d7\", \"136\": \"\\\\u02da\", \"137\": \"\\\\u00bb\", \"138\": \"@\", \"139\": \"\\\\u00a7\", \"140\": \"\\\\\\\\\", \"141\": \"\\\\u25ca\", \"142\": \"\\\\u2031\", \"143\": \"\\\\u201c\", \"144\": \"\\\\u2027\", \"145\": \"\\\\u202d\", \"146\": \"\\\\u215b\", \"147\": \"\\\\u00e5\", \"148\": \"\\\\ufb02\", \"149\": \"`\", \"150\": \"\\\\u00eb\", \"151\": \"\\\\u0097\", \"152\": \"\\\\u001a\", \"153\": \"\\\\u00f8\", \"154\": \"\\\\u2153\", \"155\": \"|\", \"156\": \"\\\\u01b0\", \"157\": \"\\\\u0092\", \"158\": \"\\\\u00b4\", \"159\": \"\\\\u2012\", \"160\": \"\\\\u00c2\", \"161\": \"\\\\u2423\", \"162\": \"\\\\u00c1\", \"163\": \"\\\\u00a4\", \"164\": \"\\\\u201f\", \"165\": \"\\\\u00a0\", \"166\": \"\\\\u01a1\", \"167\": \"\\\\u0103\", \"168\": \"\\\\u0300\", \"169\": \"\\\\u215e\", \"170\": \"\\\\u20ac\", \"171\": \"~\", \"172\": \"\\\\u0095\"}',\n",
              " 'word_index': '{\" \": 1, \"e\": 2, \"a\": 3, \"t\": 4, \"o\": 5, \"n\": 6, \"i\": 7, \"r\": 8, \"s\": 9, \"l\": 10, \"d\": 11, \"h\": 12, \"c\": 13, \"u\": 14, \"p\": 15, \"\\\\n\": 16, \"m\": 17, \"g\": 18, \"b\": 19, \"?\": 20, \",\": 21, \".\": 22, \"f\": 23, \"w\": 24, \"\\\\u2022\": 25, \"k\": 26, \"1\": 27, \"v\": 28, \"y\": 29, \"2\": 30, \"/\": 31, \"\\\\u25aa\": 32, \"\\\\ufe0e\": 33, \"S\": 34, \"4\": 35, \"C\": 36, \"-\": 37, \"3\": 38, \"x\": 39, \"P\": 40, \"5\": 41, \"0\": 42, \"(\": 43, \")\": 44, \"A\": 45, \"B\": 46, \"z\": 47, \"j\": 48, \"F\": 49, \"T\": 50, \"R\": 51, \"I\": 52, \"M\": 53, \";\": 54, \"q\": 55, \"D\": 56, \"W\": 57, \"8\": 58, \"G\": 59, \"6\": 60, \"L\": 61, \"H\": 62, \":\": 63, \"7\": 64, \"O\": 65, \"\\'\": 66, \"E\": 67, \"K\": 68, \"9\": 69, \"U\": 70, \"N\": 71, \"V\": 72, \"J\": 73, \"\\\\u00ae\": 74, \"\\\\u00b0\": 75, \"\\\\u00e9\": 76, \"\\\\\"\": 77, \"Y\": 78, \"Q\": 79, \"*\": 80, \"!\": 81, \"Z\": 82, \"\\\\u2013\": 83, \"&\": 84, \"%\": 85, \"\\\\u00f1\": 86, \"\\\\u00e8\": 87, \"\\\\u2122\": 88, \"\\\\u00ee\": 89, \"X\": 90, \"\\\\u00bf\": 91, \"\\\\u2014\": 92, \"\\\\u00e7\": 93, \"#\": 94, \"\\\\u00bd\": 95, \"\\\\u00ed\": 96, \"=\": 97, \"\\\\u2019\": 98, \"\\\\u00e2\": 99, \"\\\\u00a9\": 100, \"\\\\u00bc\": 101, \"+\": 102, \">\": 103, \"$\": 104, \"<\": 105, \"\\\\u00f3\": 106, \"\\\\u00e1\": 107, \"\\\\u00fa\": 108, \"\\\\u00ef\": 109, \"\\\\u00c9\": 110, \"\\\\u00fb\": 111, \"]\": 112, \"[\": 113, \"\\\\u00fc\": 114, \"\\\\u00ea\": 115, \"_\": 116, \"\\\\u00ad\": 117, \"\\\\u00e0\": 118, \"\\\\u00be\": 119, \"\\\\u201a\": 120, \"\\\\ufffd\": 121, \"\\\\u00ba\": 122, \"\\\\u2044\": 123, \"\\\\u00e4\": 124, \"\\\\u00da\": 125, \"\\\\u00f9\": 126, \"\\\\u0301\": 127, \"}\": 128, \"\\\\u00f6\": 129, \"{\": 130, \"\\\\u00ec\": 131, \"\\\\u00f4\": 132, \"\\\\u0096\": 133, \"\\\\u201d\": 134, \"\\\\u00d7\": 135, \"\\\\u02da\": 136, \"\\\\u00bb\": 137, \"@\": 138, \"\\\\u00a7\": 139, \"\\\\\\\\\": 140, \"\\\\u25ca\": 141, \"\\\\u2031\": 142, \"\\\\u201c\": 143, \"\\\\u2027\": 144, \"\\\\u202d\": 145, \"\\\\u215b\": 146, \"\\\\u00e5\": 147, \"\\\\ufb02\": 148, \"`\": 149, \"\\\\u00eb\": 150, \"\\\\u0097\": 151, \"\\\\u001a\": 152, \"\\\\u00f8\": 153, \"\\\\u2153\": 154, \"|\": 155, \"\\\\u01b0\": 156, \"\\\\u0092\": 157, \"\\\\u00b4\": 158, \"\\\\u2012\": 159, \"\\\\u00c2\": 160, \"\\\\u2423\": 161, \"\\\\u00c1\": 162, \"\\\\u00a4\": 163, \"\\\\u201f\": 164, \"\\\\u00a0\": 165, \"\\\\u01a1\": 166, \"\\\\u0103\": 167, \"\\\\u0300\": 168, \"\\\\u215e\": 169, \"\\\\u20ac\": 170, \"~\": 171, \"\\\\u0095\": 172}'}"
            ]
          },
          "metadata": {},
          "execution_count": 16
        }
      ]
    },
    {
      "cell_type": "code",
      "source": [
        "# Calculating the vocabulary size based on the word counts obtained from the tokenizer\n",
        "VOCABULARY_SIZE = len(tokenizer.word_counts) + 1\n",
        "\n",
        "# Printing the calculated vocabulary size\n",
        "print('VOCABULARY_SIZE: ', VOCABULARY_SIZE)"
      ],
      "metadata": {
        "colab": {
          "base_uri": "https://localhost:8080/"
        },
        "id": "67oIM6k_0dZv",
        "outputId": "54fdcc18-3d07-43ff-d46d-bbdbdc194c1a"
      },
      "execution_count": 17,
      "outputs": [
        {
          "output_type": "stream",
          "name": "stdout",
          "text": [
            "VOCABULARY_SIZE:  173\n"
          ]
        }
      ]
    },
    {
      "cell_type": "code",
      "source": [
        "# Converting sequences of word indices back to text using the tokenizer's sequences_to_texts method\n",
        "array_vocabulary = tokenizer.sequences_to_texts([[word_index] for word_index in range(VOCABULARY_SIZE)])\n",
        "\n",
        "# Printing the array of characters in the vocabulary\n",
        "print([char for char in array_vocabulary])"
      ],
      "metadata": {
        "colab": {
          "base_uri": "https://localhost:8080/"
        },
        "id": "fOG_sGH10949",
        "outputId": "a6a42763-185d-4c13-e627-9c5fe6eda93e"
      },
      "execution_count": 18,
      "outputs": [
        {
          "output_type": "stream",
          "name": "stdout",
          "text": [
            "['', ' ', 'e', 'a', 't', 'o', 'n', 'i', 'r', 's', 'l', 'd', 'h', 'c', 'u', 'p', '\\n', 'm', 'g', 'b', '?', ',', '.', 'f', 'w', '•', 'k', '1', 'v', 'y', '2', '/', '▪', '︎', 'S', '4', 'C', '-', '3', 'x', 'P', '5', '0', '(', ')', 'A', 'B', 'z', 'j', 'F', 'T', 'R', 'I', 'M', ';', 'q', 'D', 'W', '8', 'G', '6', 'L', 'H', ':', '7', 'O', \"'\", 'E', 'K', '9', 'U', 'N', 'V', 'J', '®', '°', 'é', '\"', 'Y', 'Q', '*', '!', 'Z', '–', '&', '%', 'ñ', 'è', '™', 'î', 'X', '¿', '—', 'ç', '#', '½', 'í', '=', '’', 'â', '©', '¼', '+', '>', '$', '<', 'ó', 'á', 'ú', 'ï', 'É', 'û', ']', '[', 'ü', 'ê', '_', '\\xad', 'à', '¾', '‚', '�', 'º', '⁄', 'ä', 'Ú', 'ù', '́', '}', 'ö', '{', 'ì', 'ô', '\\x96', '”', '×', '˚', '»', '@', '§', '\\\\', '◊', '‱', '“', '‧', '\\u202d', '⅛', 'å', 'ﬂ', '`', 'ë', '\\x97', '\\x1a', 'ø', '⅓', '|', 'ư', '\\x92', '´', '‒', 'Â', '␣', 'Á', '¤', '‟', '\\xa0', 'ơ', 'ă', '̀', '⅞', '€', '~', '\\x95']\n"
          ]
        }
      ]
    },
    {
      "cell_type": "code",
      "source": [
        "# Converting a text sequence containing the stop word '???? yes' into a sequence of word indices using the tokenizer\n",
        "tokenizer.texts_to_sequences(['???? yes'])"
      ],
      "metadata": {
        "colab": {
          "base_uri": "https://localhost:8080/"
        },
        "id": "1MFMjCfl1Aw8",
        "outputId": "60268fd8-720b-477e-dba2-32df450abfb2"
      },
      "execution_count": 19,
      "outputs": [
        {
          "output_type": "execute_result",
          "data": {
            "text/plain": [
              "[[20, 20, 20, 20, 1, 29, 2, 9]]"
            ]
          },
          "metadata": {},
          "execution_count": 19
        }
      ]
    },
    {
      "cell_type": "code",
      "source": [
        "# Converting the filtered dataset of stringified recipes into sequences of word indices using the tokenizer\n",
        "dataset_vectorized = tokenizer.texts_to_sequences(dataset_filtered)\n",
        "\n",
        "# Printing the size of the vectorized dataset\n",
        "print('Vectorized dataset size', len(dataset_vectorized))"
      ],
      "metadata": {
        "colab": {
          "base_uri": "https://localhost:8080/"
        },
        "id": "UomN_wR61DL-",
        "outputId": "2257b17c-67a2-4d45-9fe6-669af06a0566"
      },
      "execution_count": 20,
      "outputs": [
        {
          "output_type": "stream",
          "name": "stdout",
          "text": [
            "Vectorized dataset size 100001\n"
          ]
        }
      ]
    },
    {
      "cell_type": "code",
      "source": [
        "# Defining a function named 'recipe_sequence_to_string' to convert a recipe sequence back into a string\n",
        "def recipe_sequence_to_string(recipe_sequence):\n",
        "    # Converting the recipe sequence into a string using the tokenizer's sequences_to_texts method.\n",
        "    recipe_stringified = tokenizer.sequences_to_texts([recipe_sequence])[0]\n",
        "    print(recipe_stringified)\n",
        "\n",
        "# Calling the function with the first recipe sequence in the vectorized dataset\n",
        "recipe_sequence_to_string(dataset_vectorized[0])"
      ],
      "metadata": {
        "colab": {
          "base_uri": "https://localhost:8080/"
        },
        "id": "1OTbnFVS1Iwo",
        "outputId": "6fca42d8-f6c8-48b3-aa57-49005e68b78c"
      },
      "execution_count": 21,
      "outputs": [
        {
          "output_type": "stream",
          "name": "stdout",
          "text": [
            "? ? ? ?   S l o w   C o o k e r   C h i c k e n   a n d   D u m p l i n g s \n",
            " \n",
            " ? ? ? ? \n",
            " \n",
            " •   4   s k i n l e s s ,   b o n e l e s s   c h i c k e n   b r e a s t   h a l v e s   \n",
            " •   2   t a b l e s p o o n s   b u t t e r   \n",
            " •   2   ( 1 0 . 7 5   o u n c e )   c a n s   c o n d e n s e d   c r e a m   o f   c h i c k e n   s o u p   \n",
            " •   1   o n i o n ,   f i n e l y   d i c e d   \n",
            " •   2   ( 1 0   o u n c e )   p a c k a g e s   r e f r i g e r a t e d   b i s c u i t   d o u g h ,   t o r n   i n t o   p i e c e s   \n",
            " \n",
            " ? ? ? ? \n",
            " \n",
            " ▪ ︎   P l a c e   t h e   c h i c k e n ,   b u t t e r ,   s o u p ,   a n d   o n i o n   i n   a   s l o w   c o o k e r ,   a n d   f i l l   w i t h   e n o u g h   w a t e r   t o   c o v e r . \n",
            " ▪ ︎   C o v e r ,   a n d   c o o k   f o r   5   t o   6   h o u r s   o n   H i g h .   A b o u t   3 0   m i n u t e s   b e f o r e   s e r v i n g ,   p l a c e   t h e   t o r n   b i s c u i t   d o u g h   i n   t h e   s l o w   c o o k e r .   C o o k   u n t i l   t h e   d o u g h   i s   n o   l o n g e r   r a w   i n   t h e   c e n t e r . \n",
            "\n"
          ]
        }
      ]
    },
    {
      "cell_type": "code",
      "source": [
        "# Iterating through the first ten recipes in the vectorized dataset and printing their lengths\n",
        "for recipe_index, recipe in enumerate(dataset_vectorized[:10]):\n",
        "    print('Recipe #{} length: {}'.format(recipe_index + 1, len(recipe)))"
      ],
      "metadata": {
        "colab": {
          "base_uri": "https://localhost:8080/"
        },
        "id": "HM03KIYk1LXK",
        "outputId": "80af83c3-83f8-4eb9-987c-ebcb66561fec"
      },
      "execution_count": 22,
      "outputs": [
        {
          "output_type": "stream",
          "name": "stdout",
          "text": [
            "Recipe #1 length: 555\n",
            "Recipe #2 length: 410\n",
            "Recipe #3 length: 680\n",
            "Recipe #4 length: 745\n",
            "Recipe #5 length: 1527\n",
            "Recipe #6 length: 749\n",
            "Recipe #7 length: 848\n",
            "Recipe #8 length: 676\n",
            "Recipe #9 length: 1273\n",
            "Recipe #10 length: 863\n"
          ]
        }
      ]
    },
    {
      "cell_type": "code",
      "source": [
        "# Padding the vectorized dataset without stop signs to ensure uniform length for model input\n",
        "dataset_vectorized_padded_without_stops = tf.keras.preprocessing.sequence.pad_sequences(\n",
        "    dataset_vectorized,\n",
        "    padding='post',\n",
        "    truncating='post',\n",
        "    # Using -1 here and +1 in the next step to ensure each sequence has at least 1 stop sign at the end\n",
        "    maxlen=MAX_RECIPE_LENGTH-1,\n",
        "    value=tokenizer.texts_to_sequences([STOP_SIGN])[0]\n",
        ")\n",
        "\n",
        "# Padding the vectorized dataset with stop signs for model input\n",
        "dataset_vectorized_padded = tf.keras.preprocessing.sequence.pad_sequences(\n",
        "    dataset_vectorized_padded_without_stops,\n",
        "    padding='post',\n",
        "    truncating='post',\n",
        "    maxlen=MAX_RECIPE_LENGTH+1,\n",
        "    value=tokenizer.texts_to_sequences([STOP_SIGN])[0]\n",
        ")\n",
        "# Printing the lengths of the first ten recipes in the padded vectorized dataset to make sure they are the same\n",
        "for recipe_index, recipe in enumerate(dataset_vectorized_padded[:10]):\n",
        "    print('Recipe #{} length: {}'.format(recipe_index, len(recipe)))"
      ],
      "metadata": {
        "colab": {
          "base_uri": "https://localhost:8080/"
        },
        "id": "ROnrs-FC1Q_O",
        "outputId": "c08f3977-ac15-40bc-dc1f-2072483cd49a"
      },
      "execution_count": 23,
      "outputs": [
        {
          "output_type": "stream",
          "name": "stdout",
          "text": [
            "Recipe #0 length: 2001\n",
            "Recipe #1 length: 2001\n",
            "Recipe #2 length: 2001\n",
            "Recipe #3 length: 2001\n",
            "Recipe #4 length: 2001\n",
            "Recipe #5 length: 2001\n",
            "Recipe #6 length: 2001\n",
            "Recipe #7 length: 2001\n",
            "Recipe #8 length: 2001\n",
            "Recipe #9 length: 2001\n"
          ]
        }
      ]
    },
    {
      "cell_type": "code",
      "source": [
        "# Calling the 'recipe_sequence_to_string' function with the first padded and vectorized recipe sequence\n",
        "recipe_sequence_to_string(dataset_vectorized_padded[0])"
      ],
      "metadata": {
        "colab": {
          "base_uri": "https://localhost:8080/"
        },
        "id": "l9DLnFcM1Wl7",
        "outputId": "02119aa4-6b9d-4107-a055-39e35234d836"
      },
      "execution_count": 24,
      "outputs": [
        {
          "output_type": "stream",
          "name": "stdout",
          "text": [
            "? ? ? ?   S l o w   C o o k e r   C h i c k e n   a n d   D u m p l i n g s \n",
            " \n",
            " ? ? ? ? \n",
            " \n",
            " •   4   s k i n l e s s ,   b o n e l e s s   c h i c k e n   b r e a s t   h a l v e s   \n",
            " •   2   t a b l e s p o o n s   b u t t e r   \n",
            " •   2   ( 1 0 . 7 5   o u n c e )   c a n s   c o n d e n s e d   c r e a m   o f   c h i c k e n   s o u p   \n",
            " •   1   o n i o n ,   f i n e l y   d i c e d   \n",
            " •   2   ( 1 0   o u n c e )   p a c k a g e s   r e f r i g e r a t e d   b i s c u i t   d o u g h ,   t o r n   i n t o   p i e c e s   \n",
            " \n",
            " ? ? ? ? \n",
            " \n",
            " ▪ ︎   P l a c e   t h e   c h i c k e n ,   b u t t e r ,   s o u p ,   a n d   o n i o n   i n   a   s l o w   c o o k e r ,   a n d   f i l l   w i t h   e n o u g h   w a t e r   t o   c o v e r . \n",
            " ▪ ︎   C o v e r ,   a n d   c o o k   f o r   5   t o   6   h o u r s   o n   H i g h .   A b o u t   3 0   m i n u t e s   b e f o r e   s e r v i n g ,   p l a c e   t h e   t o r n   b i s c u i t   d o u g h   i n   t h e   s l o w   c o o k e r .   C o o k   u n t i l   t h e   d o u g h   i s   n o   l o n g e r   r a w   i n   t h e   c e n t e r . \n",
            " ␣ ␣ ␣ ␣ ␣ ␣ ␣ ␣ ␣ ␣ ␣ ␣ ␣ ␣ ␣ ␣ ␣ ␣ ␣ ␣ ␣ ␣ ␣ ␣ ␣ ␣ ␣ ␣ ␣ ␣ ␣ ␣ ␣ ␣ ␣ ␣ ␣ ␣ ␣ ␣ ␣ ␣ ␣ ␣ ␣ ␣ ␣ ␣ ␣ ␣ ␣ ␣ ␣ ␣ ␣ ␣ ␣ ␣ ␣ ␣ ␣ ␣ ␣ ␣ ␣ ␣ ␣ ␣ ␣ ␣ ␣ ␣ ␣ ␣ ␣ ␣ ␣ ␣ ␣ ␣ ␣ ␣ ␣ ␣ ␣ ␣ ␣ ␣ ␣ ␣ ␣ ␣ ␣ ␣ ␣ ␣ ␣ ␣ ␣ ␣ ␣ ␣ ␣ ␣ ␣ ␣ ␣ ␣ ␣ ␣ ␣ ␣ ␣ ␣ ␣ ␣ ␣ ␣ ␣ ␣ ␣ ␣ ␣ ␣ ␣ ␣ ␣ ␣ ␣ ␣ ␣ ␣ ␣ ␣ ␣ ␣ ␣ ␣ ␣ ␣ ␣ ␣ ␣ ␣ ␣ ␣ ␣ ␣ ␣ ␣ ␣ ␣ ␣ ␣ ␣ ␣ ␣ ␣ ␣ ␣ ␣ ␣ ␣ ␣ ␣ ␣ ␣ ␣ ␣ ␣ ␣ ␣ ␣ ␣ ␣ ␣ ␣ ␣ ␣ ␣ ␣ ␣ ␣ ␣ ␣ ␣ ␣ ␣ ␣ ␣ ␣ ␣ ␣ ␣ ␣ ␣ ␣ ␣ ␣ ␣ ␣ ␣ ␣ ␣ ␣ ␣ ␣ ␣ ␣ ␣ ␣ ␣ ␣ ␣ ␣ ␣ ␣ ␣ ␣ ␣ ␣ ␣ ␣ ␣ ␣ ␣ ␣ ␣ ␣ ␣ ␣ ␣ ␣ ␣ ␣ ␣ ␣ ␣ ␣ ␣ ␣ ␣ ␣ ␣ ␣ ␣ ␣ ␣ ␣ ␣ ␣ ␣ ␣ ␣ ␣ ␣ ␣ ␣ ␣ ␣ ␣ ␣ ␣ ␣ ␣ ␣ ␣ ␣ ␣ ␣ ␣ ␣ ␣ ␣ ␣ ␣ ␣ ␣ ␣ ␣ ␣ ␣ ␣ ␣ ␣ ␣ ␣ ␣ ␣ ␣ ␣ ␣ ␣ ␣ ␣ ␣ ␣ ␣ ␣ ␣ ␣ ␣ ␣ ␣ ␣ ␣ ␣ ␣ ␣ ␣ ␣ ␣ ␣ ␣ ␣ ␣ ␣ ␣ ␣ ␣ ␣ ␣ ␣ ␣ ␣ ␣ ␣ ␣ ␣ ␣ ␣ ␣ ␣ ␣ ␣ ␣ ␣ ␣ ␣ ␣ ␣ ␣ ␣ ␣ ␣ ␣ ␣ ␣ ␣ ␣ ␣ ␣ ␣ ␣ ␣ ␣ ␣ ␣ ␣ ␣ ␣ ␣ ␣ ␣ ␣ ␣ ␣ ␣ ␣ ␣ ␣ ␣ ␣ ␣ ␣ ␣ ␣ ␣ ␣ ␣ ␣ ␣ ␣ ␣ ␣ ␣ ␣ ␣ ␣ ␣ ␣ ␣ ␣ ␣ ␣ ␣ ␣ ␣ ␣ ␣ ␣ ␣ ␣ ␣ ␣ ␣ ␣ ␣ ␣ ␣ ␣ ␣ ␣ ␣ ␣ ␣ ␣ ␣ ␣ ␣ ␣ ␣ ␣ ␣ ␣ ␣ ␣ ␣ ␣ ␣ ␣ ␣ ␣ ␣ ␣ ␣ ␣ ␣ ␣ ␣ ␣ ␣ ␣ ␣ ␣ ␣ ␣ ␣ ␣ ␣ ␣ ␣ ␣ ␣ ␣ ␣ ␣ ␣ ␣ ␣ ␣ ␣ ␣ ␣ ␣ ␣ ␣ ␣ ␣ ␣ ␣ ␣ ␣ ␣ ␣ ␣ ␣ ␣ ␣ ␣ ␣ ␣ ␣ ␣ ␣ ␣ ␣ ␣ ␣ ␣ ␣ ␣ ␣ ␣ ␣ ␣ ␣ ␣ ␣ ␣ ␣ ␣ ␣ ␣ ␣ ␣ ␣ ␣ ␣ ␣ ␣ ␣ ␣ ␣ ␣ ␣ ␣ ␣ ␣ ␣ ␣ ␣ ␣ ␣ ␣ ␣ ␣ ␣ ␣ ␣ ␣ ␣ ␣ ␣ ␣ ␣ ␣ ␣ ␣ ␣ ␣ ␣ ␣ ␣ ␣ ␣ ␣ ␣ ␣ ␣ ␣ ␣ ␣ ␣ ␣ ␣ ␣ ␣ ␣ ␣ ␣ ␣ ␣ ␣ ␣ ␣ ␣ ␣ ␣ ␣ ␣ ␣ ␣ ␣ ␣ ␣ ␣ ␣ ␣ ␣ ␣ ␣ ␣ ␣ ␣ ␣ ␣ ␣ ␣ ␣ ␣ ␣ ␣ ␣ ␣ ␣ ␣ ␣ ␣ ␣ ␣ ␣ ␣ ␣ ␣ ␣ ␣ ␣ ␣ ␣ ␣ ␣ ␣ ␣ ␣ ␣ ␣ ␣ ␣ ␣ ␣ ␣ ␣ ␣ ␣ ␣ ␣ ␣ ␣ ␣ ␣ ␣ ␣ ␣ ␣ ␣ ␣ ␣ ␣ ␣ ␣ ␣ ␣ ␣ ␣ ␣ ␣ ␣ ␣ ␣ ␣ ␣ ␣ ␣ ␣ ␣ ␣ ␣ ␣ ␣ ␣ ␣ ␣ ␣ ␣ ␣ ␣ ␣ ␣ ␣ ␣ ␣ ␣ ␣ ␣ ␣ ␣ ␣ ␣ ␣ ␣ ␣ ␣ ␣ ␣ ␣ ␣ ␣ ␣ ␣ ␣ ␣ ␣ ␣ ␣ ␣ ␣ ␣ ␣ ␣ ␣ ␣ ␣ ␣ ␣ ␣ ␣ ␣ ␣ ␣ ␣ ␣ ␣ ␣ ␣ ␣ ␣ ␣ ␣ ␣ ␣ ␣ ␣ ␣ ␣ ␣ ␣ ␣ ␣ ␣ ␣ ␣ ␣ ␣ ␣ ␣ ␣ ␣ ␣ ␣ ␣ ␣ ␣ ␣ ␣ ␣ ␣ ␣ ␣ ␣ ␣ ␣ ␣ ␣ ␣ ␣ ␣ ␣ ␣ ␣ ␣ ␣ ␣ ␣ ␣ ␣ ␣ ␣ ␣ ␣ ␣ ␣ ␣ ␣ ␣ ␣ ␣ ␣ ␣ ␣ ␣ ␣ ␣ ␣ ␣ ␣ ␣ ␣ ␣ ␣ ␣ ␣ ␣ ␣ ␣ ␣ ␣ ␣ ␣ ␣ ␣ ␣ ␣ ␣ ␣ ␣ ␣ ␣ ␣ ␣ ␣ ␣ ␣ ␣ ␣ ␣ ␣ ␣ ␣ ␣ ␣ ␣ ␣ ␣ ␣ ␣ ␣ ␣ ␣ ␣ ␣ ␣ ␣ ␣ ␣ ␣ ␣ ␣ ␣ ␣ ␣ ␣ ␣ ␣ ␣ ␣ ␣ ␣ ␣ ␣ ␣ ␣ ␣ ␣ ␣ ␣ ␣ ␣ ␣ ␣ ␣ ␣ ␣ ␣ ␣ ␣ ␣ ␣ ␣ ␣ ␣ ␣ ␣ ␣ ␣ ␣ ␣ ␣ ␣ ␣ ␣ ␣ ␣ ␣ ␣ ␣ ␣ ␣ ␣ ␣ ␣ ␣ ␣ ␣ ␣ ␣ ␣ ␣ ␣ ␣ ␣ ␣ ␣ ␣ ␣ ␣ ␣ ␣ ␣ ␣ ␣ ␣ ␣ ␣ ␣ ␣ ␣ ␣ ␣ ␣ ␣ ␣ ␣ ␣ ␣ ␣ ␣ ␣ ␣ ␣ ␣ ␣ ␣ ␣ ␣ ␣ ␣ ␣ ␣ ␣ ␣ ␣ ␣ ␣ ␣ ␣ ␣ ␣ ␣ ␣ ␣ ␣ ␣ ␣ ␣ ␣ ␣ ␣ ␣ ␣ ␣ ␣ ␣ ␣ ␣ ␣ ␣ ␣ ␣ ␣ ␣ ␣ ␣ ␣ ␣ ␣ ␣ ␣ ␣ ␣ ␣ ␣ ␣ ␣ ␣ ␣ ␣ ␣ ␣ ␣ ␣ ␣ ␣ ␣ ␣ ␣ ␣ ␣ ␣ ␣ ␣ ␣ ␣ ␣ ␣ ␣ ␣ ␣ ␣ ␣ ␣ ␣ ␣ ␣ ␣ ␣ ␣ ␣ ␣ ␣ ␣ ␣ ␣ ␣ ␣ ␣ ␣ ␣ ␣ ␣ ␣ ␣ ␣ ␣ ␣ ␣ ␣ ␣ ␣ ␣ ␣ ␣ ␣ ␣ ␣ ␣ ␣ ␣ ␣ ␣ ␣ ␣ ␣ ␣ ␣ ␣ ␣ ␣ ␣ ␣ ␣ ␣ ␣ ␣ ␣ ␣ ␣ ␣ ␣ ␣ ␣ ␣ ␣ ␣ ␣ ␣ ␣ ␣ ␣ ␣ ␣ ␣ ␣ ␣ ␣ ␣ ␣ ␣ ␣ ␣ ␣ ␣ ␣ ␣ ␣ ␣ ␣ ␣ ␣ ␣ ␣ ␣ ␣ ␣ ␣ ␣ ␣ ␣ ␣ ␣ ␣ ␣ ␣ ␣ ␣ ␣ ␣ ␣ ␣ ␣ ␣ ␣ ␣ ␣ ␣ ␣ ␣ ␣ ␣ ␣ ␣ ␣ ␣ ␣ ␣ ␣ ␣ ␣ ␣ ␣ ␣ ␣ ␣ ␣ ␣ ␣ ␣ ␣ ␣ ␣ ␣ ␣ ␣ ␣ ␣ ␣ ␣ ␣ ␣ ␣ ␣ ␣ ␣ ␣ ␣ ␣ ␣ ␣ ␣ ␣ ␣ ␣ ␣ ␣ ␣ ␣ ␣ ␣ ␣ ␣ ␣ ␣ ␣ ␣ ␣ ␣ ␣ ␣ ␣ ␣ ␣ ␣ ␣ ␣ ␣ ␣ ␣ ␣ ␣ ␣ ␣ ␣ ␣ ␣ ␣ ␣ ␣ ␣ ␣ ␣ ␣ ␣ ␣ ␣ ␣ ␣ ␣ ␣ ␣ ␣ ␣ ␣ ␣ ␣ ␣ ␣ ␣ ␣ ␣ ␣ ␣ ␣ ␣ ␣ ␣ ␣ ␣ ␣ ␣ ␣ ␣ ␣ ␣ ␣ ␣ ␣ ␣ ␣ ␣ ␣ ␣ ␣ ␣ ␣ ␣ ␣ ␣ ␣ ␣ ␣ ␣ ␣ ␣ ␣ ␣ ␣ ␣ ␣ ␣ ␣ ␣ ␣ ␣ ␣ ␣ ␣ ␣ ␣ ␣ ␣ ␣ ␣ ␣ ␣ ␣ ␣ ␣ ␣ ␣ ␣ ␣ ␣ ␣ ␣ ␣ ␣ ␣ ␣ ␣ ␣ ␣ ␣ ␣ ␣ ␣ ␣ ␣ ␣ ␣ ␣ ␣ ␣ ␣ ␣ ␣ ␣ ␣ ␣ ␣ ␣ ␣ ␣ ␣ ␣ ␣ ␣ ␣ ␣ ␣ ␣ ␣ ␣ ␣ ␣ ␣ ␣ ␣ ␣ ␣ ␣ ␣ ␣ ␣ ␣ ␣ ␣ ␣ ␣ ␣ ␣ ␣ ␣ ␣ ␣ ␣ ␣ ␣ ␣ ␣ ␣ ␣ ␣ ␣ ␣ ␣ ␣ ␣ ␣ ␣ ␣ ␣ ␣ ␣ ␣ ␣ ␣ ␣ ␣ ␣ ␣ ␣ ␣ ␣ ␣ ␣ ␣ ␣ ␣ ␣ ␣ ␣ ␣ ␣ ␣ ␣ ␣ ␣ ␣ ␣ ␣ ␣ ␣ ␣ ␣ ␣ ␣ ␣ ␣ ␣ ␣ ␣ ␣ ␣ ␣ ␣ ␣ ␣ ␣ ␣ ␣ ␣ ␣ ␣ ␣ ␣ ␣ ␣ ␣ ␣ ␣ ␣ ␣ ␣ ␣ ␣ ␣ ␣ ␣ ␣ ␣ ␣ ␣ ␣ ␣ ␣ ␣\n"
          ]
        }
      ]
    },
    {
      "cell_type": "code",
      "source": [
        "# Creating a TensorFlow dataset from the padded and vectorized recipe sequences\n",
        "dataset = tf.data.Dataset.from_tensor_slices(dataset_vectorized_padded)"
      ],
      "metadata": {
        "id": "3tWGb7V-1dR8"
      },
      "execution_count": 25,
      "outputs": []
    },
    {
      "cell_type": "code",
      "source": [
        "# Iterating through one batch of the dataset and printing the raw and stringified recipe sequences\n",
        "for recipe in dataset.take(1):\n",
        "    print('Raw recipe:\\n', recipe.numpy(), '\\n\\n\\n')\n",
        "    print('Stringified recipe:\\n')\n",
        "    recipe_sequence_to_string(recipe.numpy())"
      ],
      "metadata": {
        "colab": {
          "base_uri": "https://localhost:8080/"
        },
        "id": "qwwKtXVN1gzS",
        "outputId": "5eedb706-fbc3-4d02-94b8-629f2789fc02"
      },
      "execution_count": 26,
      "outputs": [
        {
          "output_type": "stream",
          "name": "stdout",
          "text": [
            "Raw recipe:\n",
            " [ 20  20  20 ... 161 161 161] \n",
            "\n",
            "\n",
            "\n",
            "Stringified recipe:\n",
            "\n",
            "? ? ? ?   S l o w   C o o k e r   C h i c k e n   a n d   D u m p l i n g s \n",
            " \n",
            " ? ? ? ? \n",
            " \n",
            " •   4   s k i n l e s s ,   b o n e l e s s   c h i c k e n   b r e a s t   h a l v e s   \n",
            " •   2   t a b l e s p o o n s   b u t t e r   \n",
            " •   2   ( 1 0 . 7 5   o u n c e )   c a n s   c o n d e n s e d   c r e a m   o f   c h i c k e n   s o u p   \n",
            " •   1   o n i o n ,   f i n e l y   d i c e d   \n",
            " •   2   ( 1 0   o u n c e )   p a c k a g e s   r e f r i g e r a t e d   b i s c u i t   d o u g h ,   t o r n   i n t o   p i e c e s   \n",
            " \n",
            " ? ? ? ? \n",
            " \n",
            " ▪ ︎   P l a c e   t h e   c h i c k e n ,   b u t t e r ,   s o u p ,   a n d   o n i o n   i n   a   s l o w   c o o k e r ,   a n d   f i l l   w i t h   e n o u g h   w a t e r   t o   c o v e r . \n",
            " ▪ ︎   C o v e r ,   a n d   c o o k   f o r   5   t o   6   h o u r s   o n   H i g h .   A b o u t   3 0   m i n u t e s   b e f o r e   s e r v i n g ,   p l a c e   t h e   t o r n   b i s c u i t   d o u g h   i n   t h e   s l o w   c o o k e r .   C o o k   u n t i l   t h e   d o u g h   i s   n o   l o n g e r   r a w   i n   t h e   c e n t e r . \n",
            " ␣ ␣ ␣ ␣ ␣ ␣ ␣ ␣ ␣ ␣ ␣ ␣ ␣ ␣ ␣ ␣ ␣ ␣ ␣ ␣ ␣ ␣ ␣ ␣ ␣ ␣ ␣ ␣ ␣ ␣ ␣ ␣ ␣ ␣ ␣ ␣ ␣ ␣ ␣ ␣ ␣ ␣ ␣ ␣ ␣ ␣ ␣ ␣ ␣ ␣ ␣ ␣ ␣ ␣ ␣ ␣ ␣ ␣ ␣ ␣ ␣ ␣ ␣ ␣ ␣ ␣ ␣ ␣ ␣ ␣ ␣ ␣ ␣ ␣ ␣ ␣ ␣ ␣ ␣ ␣ ␣ ␣ ␣ ␣ ␣ ␣ ␣ ␣ ␣ ␣ ␣ ␣ ␣ ␣ ␣ ␣ ␣ ␣ ␣ ␣ ␣ ␣ ␣ ␣ ␣ ␣ ␣ ␣ ␣ ␣ ␣ ␣ ␣ ␣ ␣ ␣ ␣ ␣ ␣ ␣ ␣ ␣ ␣ ␣ ␣ ␣ ␣ ␣ ␣ ␣ ␣ ␣ ␣ ␣ ␣ ␣ ␣ ␣ ␣ ␣ ␣ ␣ ␣ ␣ ␣ ␣ ␣ ␣ ␣ ␣ ␣ ␣ ␣ ␣ ␣ ␣ ␣ ␣ ␣ ␣ ␣ ␣ ␣ ␣ ␣ ␣ ␣ ␣ ␣ ␣ ␣ ␣ ␣ ␣ ␣ ␣ ␣ ␣ ␣ ␣ ␣ ␣ ␣ ␣ ␣ ␣ ␣ ␣ ␣ ␣ ␣ ␣ ␣ ␣ ␣ ␣ ␣ ␣ ␣ ␣ ␣ ␣ ␣ ␣ ␣ ␣ ␣ ␣ ␣ ␣ ␣ ␣ ␣ ␣ ␣ ␣ ␣ ␣ ␣ ␣ ␣ ␣ ␣ ␣ ␣ ␣ ␣ ␣ ␣ ␣ ␣ ␣ ␣ ␣ ␣ ␣ ␣ ␣ ␣ ␣ ␣ ␣ ␣ ␣ ␣ ␣ ␣ ␣ ␣ ␣ ␣ ␣ ␣ ␣ ␣ ␣ ␣ ␣ ␣ ␣ ␣ ␣ ␣ ␣ ␣ ␣ ␣ ␣ ␣ ␣ ␣ ␣ ␣ ␣ ␣ ␣ ␣ ␣ ␣ ␣ ␣ ␣ ␣ ␣ ␣ ␣ ␣ ␣ ␣ ␣ ␣ ␣ ␣ ␣ ␣ ␣ ␣ ␣ ␣ ␣ ␣ ␣ ␣ ␣ ␣ ␣ ␣ ␣ ␣ ␣ ␣ ␣ ␣ ␣ ␣ ␣ ␣ ␣ ␣ ␣ ␣ ␣ ␣ ␣ ␣ ␣ ␣ ␣ ␣ ␣ ␣ ␣ ␣ ␣ ␣ ␣ ␣ ␣ ␣ ␣ ␣ ␣ ␣ ␣ ␣ ␣ ␣ ␣ ␣ ␣ ␣ ␣ ␣ ␣ ␣ ␣ ␣ ␣ ␣ ␣ ␣ ␣ ␣ ␣ ␣ ␣ ␣ ␣ ␣ ␣ ␣ ␣ ␣ ␣ ␣ ␣ ␣ ␣ ␣ ␣ ␣ ␣ ␣ ␣ ␣ ␣ ␣ ␣ ␣ ␣ ␣ ␣ ␣ ␣ ␣ ␣ ␣ ␣ ␣ ␣ ␣ ␣ ␣ ␣ ␣ ␣ ␣ ␣ ␣ ␣ ␣ ␣ ␣ ␣ ␣ ␣ ␣ ␣ ␣ ␣ ␣ ␣ ␣ ␣ ␣ ␣ ␣ ␣ ␣ ␣ ␣ ␣ ␣ ␣ ␣ ␣ ␣ ␣ ␣ ␣ ␣ ␣ ␣ ␣ ␣ ␣ ␣ ␣ ␣ ␣ ␣ ␣ ␣ ␣ ␣ ␣ ␣ ␣ ␣ ␣ ␣ ␣ ␣ ␣ ␣ ␣ ␣ ␣ ␣ ␣ ␣ ␣ ␣ ␣ ␣ ␣ ␣ ␣ ␣ ␣ ␣ ␣ ␣ ␣ ␣ ␣ ␣ ␣ ␣ ␣ ␣ ␣ ␣ ␣ ␣ ␣ ␣ ␣ ␣ ␣ ␣ ␣ ␣ ␣ ␣ ␣ ␣ ␣ ␣ ␣ ␣ ␣ ␣ ␣ ␣ ␣ ␣ ␣ ␣ ␣ ␣ ␣ ␣ ␣ ␣ ␣ ␣ ␣ ␣ ␣ ␣ ␣ ␣ ␣ ␣ ␣ ␣ ␣ ␣ ␣ ␣ ␣ ␣ ␣ ␣ ␣ ␣ ␣ ␣ ␣ ␣ ␣ ␣ ␣ ␣ ␣ ␣ ␣ ␣ ␣ ␣ ␣ ␣ ␣ ␣ ␣ ␣ ␣ ␣ ␣ ␣ ␣ ␣ ␣ ␣ ␣ ␣ ␣ ␣ ␣ ␣ ␣ ␣ ␣ ␣ ␣ ␣ ␣ ␣ ␣ ␣ ␣ ␣ ␣ ␣ ␣ ␣ ␣ ␣ ␣ ␣ ␣ ␣ ␣ ␣ ␣ ␣ ␣ ␣ ␣ ␣ ␣ ␣ ␣ ␣ ␣ ␣ ␣ ␣ ␣ ␣ ␣ ␣ ␣ ␣ ␣ ␣ ␣ ␣ ␣ ␣ ␣ ␣ ␣ ␣ ␣ ␣ ␣ ␣ ␣ ␣ ␣ ␣ ␣ ␣ ␣ ␣ ␣ ␣ ␣ ␣ ␣ ␣ ␣ ␣ ␣ ␣ ␣ ␣ ␣ ␣ ␣ ␣ ␣ ␣ ␣ ␣ ␣ ␣ ␣ ␣ ␣ ␣ ␣ ␣ ␣ ␣ ␣ ␣ ␣ ␣ ␣ ␣ ␣ ␣ ␣ ␣ ␣ ␣ ␣ ␣ ␣ ␣ ␣ ␣ ␣ ␣ ␣ ␣ ␣ ␣ ␣ ␣ ␣ ␣ ␣ ␣ ␣ ␣ ␣ ␣ ␣ ␣ ␣ ␣ ␣ ␣ ␣ ␣ ␣ ␣ ␣ ␣ ␣ ␣ ␣ ␣ ␣ ␣ ␣ ␣ ␣ ␣ ␣ ␣ ␣ ␣ ␣ ␣ ␣ ␣ ␣ ␣ ␣ ␣ ␣ ␣ ␣ ␣ ␣ ␣ ␣ ␣ ␣ ␣ ␣ ␣ ␣ ␣ ␣ ␣ ␣ ␣ ␣ ␣ ␣ ␣ ␣ ␣ ␣ ␣ ␣ ␣ ␣ ␣ ␣ ␣ ␣ ␣ ␣ ␣ ␣ ␣ ␣ ␣ ␣ ␣ ␣ ␣ ␣ ␣ ␣ ␣ ␣ ␣ ␣ ␣ ␣ ␣ ␣ ␣ ␣ ␣ ␣ ␣ ␣ ␣ ␣ ␣ ␣ ␣ ␣ ␣ ␣ ␣ ␣ ␣ ␣ ␣ ␣ ␣ ␣ ␣ ␣ ␣ ␣ ␣ ␣ ␣ ␣ ␣ ␣ ␣ ␣ ␣ ␣ ␣ ␣ ␣ ␣ ␣ ␣ ␣ ␣ ␣ ␣ ␣ ␣ ␣ ␣ ␣ ␣ ␣ ␣ ␣ ␣ ␣ ␣ ␣ ␣ ␣ ␣ ␣ ␣ ␣ ␣ ␣ ␣ ␣ ␣ ␣ ␣ ␣ ␣ ␣ ␣ ␣ ␣ ␣ ␣ ␣ ␣ ␣ ␣ ␣ ␣ ␣ ␣ ␣ ␣ ␣ ␣ ␣ ␣ ␣ ␣ ␣ ␣ ␣ ␣ ␣ ␣ ␣ ␣ ␣ ␣ ␣ ␣ ␣ ␣ ␣ ␣ ␣ ␣ ␣ ␣ ␣ ␣ ␣ ␣ ␣ ␣ ␣ ␣ ␣ ␣ ␣ ␣ ␣ ␣ ␣ ␣ ␣ ␣ ␣ ␣ ␣ ␣ ␣ ␣ ␣ ␣ ␣ ␣ ␣ ␣ ␣ ␣ ␣ ␣ ␣ ␣ ␣ ␣ ␣ ␣ ␣ ␣ ␣ ␣ ␣ ␣ ␣ ␣ ␣ ␣ ␣ ␣ ␣ ␣ ␣ ␣ ␣ ␣ ␣ ␣ ␣ ␣ ␣ ␣ ␣ ␣ ␣ ␣ ␣ ␣ ␣ ␣ ␣ ␣ ␣ ␣ ␣ ␣ ␣ ␣ ␣ ␣ ␣ ␣ ␣ ␣ ␣ ␣ ␣ ␣ ␣ ␣ ␣ ␣ ␣ ␣ ␣ ␣ ␣ ␣ ␣ ␣ ␣ ␣ ␣ ␣ ␣ ␣ ␣ ␣ ␣ ␣ ␣ ␣ ␣ ␣ ␣ ␣ ␣ ␣ ␣ ␣ ␣ ␣ ␣ ␣ ␣ ␣ ␣ ␣ ␣ ␣ ␣ ␣ ␣ ␣ ␣ ␣ ␣ ␣ ␣ ␣ ␣ ␣ ␣ ␣ ␣ ␣ ␣ ␣ ␣ ␣ ␣ ␣ ␣ ␣ ␣ ␣ ␣ ␣ ␣ ␣ ␣ ␣ ␣ ␣ ␣ ␣ ␣ ␣ ␣ ␣ ␣ ␣ ␣ ␣ ␣ ␣ ␣ ␣ ␣ ␣ ␣ ␣ ␣ ␣ ␣ ␣ ␣ ␣ ␣ ␣ ␣ ␣ ␣ ␣ ␣ ␣ ␣ ␣ ␣ ␣ ␣ ␣ ␣ ␣ ␣ ␣ ␣ ␣ ␣ ␣ ␣ ␣ ␣ ␣ ␣ ␣ ␣ ␣ ␣ ␣ ␣ ␣ ␣ ␣ ␣ ␣ ␣ ␣ ␣ ␣ ␣ ␣ ␣ ␣ ␣ ␣ ␣ ␣ ␣ ␣ ␣ ␣ ␣ ␣ ␣ ␣ ␣ ␣ ␣ ␣ ␣ ␣ ␣ ␣ ␣ ␣ ␣ ␣ ␣ ␣ ␣ ␣ ␣ ␣ ␣ ␣ ␣ ␣ ␣ ␣ ␣ ␣ ␣ ␣ ␣ ␣ ␣ ␣ ␣ ␣ ␣ ␣ ␣ ␣ ␣ ␣ ␣ ␣ ␣ ␣ ␣ ␣ ␣ ␣ ␣ ␣ ␣ ␣ ␣ ␣ ␣ ␣ ␣ ␣ ␣ ␣ ␣ ␣ ␣ ␣ ␣ ␣ ␣ ␣ ␣ ␣ ␣ ␣ ␣ ␣ ␣ ␣ ␣ ␣ ␣ ␣ ␣ ␣ ␣ ␣ ␣ ␣ ␣ ␣ ␣ ␣ ␣ ␣ ␣ ␣ ␣ ␣ ␣ ␣ ␣ ␣ ␣ ␣ ␣ ␣ ␣ ␣ ␣ ␣ ␣ ␣ ␣ ␣ ␣ ␣ ␣ ␣ ␣ ␣ ␣ ␣ ␣ ␣ ␣ ␣ ␣ ␣ ␣ ␣ ␣ ␣ ␣ ␣ ␣ ␣ ␣ ␣ ␣ ␣ ␣ ␣ ␣ ␣ ␣ ␣ ␣ ␣ ␣ ␣ ␣ ␣ ␣ ␣ ␣ ␣ ␣ ␣ ␣ ␣ ␣ ␣ ␣ ␣ ␣ ␣ ␣ ␣ ␣ ␣ ␣ ␣ ␣ ␣ ␣ ␣ ␣ ␣ ␣ ␣ ␣ ␣ ␣ ␣ ␣ ␣ ␣ ␣ ␣ ␣ ␣ ␣ ␣ ␣ ␣ ␣ ␣ ␣ ␣ ␣ ␣ ␣ ␣ ␣ ␣ ␣ ␣ ␣ ␣ ␣ ␣ ␣ ␣ ␣ ␣ ␣ ␣ ␣ ␣ ␣ ␣ ␣ ␣ ␣ ␣ ␣ ␣ ␣ ␣ ␣ ␣ ␣ ␣ ␣ ␣ ␣ ␣ ␣ ␣ ␣ ␣ ␣ ␣ ␣ ␣ ␣ ␣ ␣ ␣ ␣ ␣ ␣ ␣ ␣ ␣ ␣ ␣ ␣ ␣ ␣ ␣ ␣ ␣ ␣ ␣ ␣ ␣ ␣ ␣ ␣ ␣ ␣ ␣ ␣ ␣ ␣ ␣ ␣ ␣ ␣ ␣ ␣ ␣ ␣\n"
          ]
        }
      ]
    },
    {
      "cell_type": "code",
      "source": [
        "# Defining a function named 'split_input_target' to split a recipe sequence into input and target sequences\n",
        "def split_input_target(recipe):\n",
        "    input_text = recipe[:-1]\n",
        "    target_text = recipe[1:]\n",
        "\n",
        "    return input_text, target_text\n",
        "\n",
        "# Mapping the 'split_input_target' function to the dataset to create input-target pairs\n",
        "dataset_targeted = dataset.map(split_input_target)"
      ],
      "metadata": {
        "id": "xrFFFDpj1khL"
      },
      "execution_count": 27,
      "outputs": []
    },
    {
      "cell_type": "code",
      "source": [
        "# Iterating through one batch of the targeted dataset and printing information about the input and target sequences\n",
        "for input_example, target_example in dataset_targeted.take(1):\n",
        "    print('Input sequence size:', repr(len(input_example.numpy())))\n",
        "    print('Target sequence size:', repr(len(target_example.numpy())))\n",
        "    print()\n",
        "\n",
        "    # Converting a subset of the input and target sequences into string for display\n",
        "    input_stringified = tokenizer.sequences_to_texts([input_example.numpy()[:50]])[0]\n",
        "    target_stringified = tokenizer.sequences_to_texts([target_example.numpy()[:50]])[0]\n",
        "\n",
        "    print('Input:  ', repr(''.join(input_stringified)))\n",
        "    print('Target: ', repr(''.join(target_stringified)))"
      ],
      "metadata": {
        "colab": {
          "base_uri": "https://localhost:8080/"
        },
        "id": "gIqpxhAk1ogI",
        "outputId": "e94eb203-9c1c-474e-ad17-5f2129b5e61f"
      },
      "execution_count": 28,
      "outputs": [
        {
          "output_type": "stream",
          "name": "stdout",
          "text": [
            "Input sequence size: 2000\n",
            "Target sequence size: 2000\n",
            "\n",
            "Input:   '? ? ? ?   S l o w   C o o k e r   C h i c k e n   a n d   D u m p l i n g s \\n \\n ? ? ? ? \\n \\n •   4  '\n",
            "Target:  '? ? ?   S l o w   C o o k e r   C h i c k e n   a n d   D u m p l i n g s \\n \\n ? ? ? ? \\n \\n •   4   s'\n"
          ]
        }
      ]
    },
    {
      "cell_type": "code",
      "source": [
        "# Iterating through the first ten steps of the input and target sequences and printing their indices and string representations\n",
        "for i, (input_idx, target_idx) in enumerate(zip(input_example[:10], target_example[:10])):\n",
        "    print('Step {:2d}'.format(i + 1))\n",
        "    print('  input: {} ({:s})'.format(input_idx, repr(tokenizer.sequences_to_texts([[input_idx.numpy()]])[0])))\n",
        "    print('  expected output: {} ({:s})'.format(target_idx, repr(tokenizer.sequences_to_texts([[target_idx.numpy()]])[0])))"
      ],
      "metadata": {
        "colab": {
          "base_uri": "https://localhost:8080/"
        },
        "id": "rA6YiO2P1tNZ",
        "outputId": "87eb5c3b-8688-48c8-ffb9-2ec602a1d57d"
      },
      "execution_count": 29,
      "outputs": [
        {
          "output_type": "stream",
          "name": "stdout",
          "text": [
            "Step  1\n",
            "  input: 20 ('?')\n",
            "  expected output: 20 ('?')\n",
            "Step  2\n",
            "  input: 20 ('?')\n",
            "  expected output: 20 ('?')\n",
            "Step  3\n",
            "  input: 20 ('?')\n",
            "  expected output: 20 ('?')\n",
            "Step  4\n",
            "  input: 20 ('?')\n",
            "  expected output: 1 (' ')\n",
            "Step  5\n",
            "  input: 1 (' ')\n",
            "  expected output: 34 ('S')\n",
            "Step  6\n",
            "  input: 34 ('S')\n",
            "  expected output: 10 ('l')\n",
            "Step  7\n",
            "  input: 10 ('l')\n",
            "  expected output: 5 ('o')\n",
            "Step  8\n",
            "  input: 5 ('o')\n",
            "  expected output: 24 ('w')\n",
            "Step  9\n",
            "  input: 24 ('w')\n",
            "  expected output: 1 (' ')\n",
            "Step 10\n",
            "  input: 1 (' ')\n",
            "  expected output: 36 ('C')\n"
          ]
        }
      ]
    },
    {
      "cell_type": "code",
      "source": [
        "# Defining the batch size for training\n",
        "BATCH_SIZE = 64\n",
        "\n",
        "# Defining the buffer size for shuffling the dataset\n",
        "#(TF data is designed to work with possibly infinite sequences, so it doesn't attempt to shuffle the entire sequence in memory. Instead, it maintains a buffer in which it shuffles elements)\n",
        "SHUFFLE_BUFFER_SIZE = 1000\n",
        "\n",
        "# Creating a training dataset by shuffling and batching the targeted dataset\n",
        "# The 'drop_remainder=True' argument ensures that any remaining examples that don't fit into a full batch are discarded\n",
        "dataset_train = dataset_targeted.shuffle(SHUFFLE_BUFFER_SIZE).batch(BATCH_SIZE, drop_remainder=True).repeat()"
      ],
      "metadata": {
        "id": "SxAlBpF3146t"
      },
      "execution_count": 30,
      "outputs": []
    },
    {
      "cell_type": "code",
      "source": [
        "# Iterating through the first batch of the training dataset and printing the input and target text sequences\n",
        "for input_text, target_text in dataset_train.take(1):\n",
        "    print('1st batch: input_text:', input_text)\n",
        "    print()\n",
        "    print('1st batch: target_text:', target_text)"
      ],
      "metadata": {
        "colab": {
          "base_uri": "https://localhost:8080/"
        },
        "id": "px_eMGAn18RA",
        "outputId": "edb96f7d-f99b-4c51-caca-d3c95033499e"
      },
      "execution_count": 31,
      "outputs": [
        {
          "output_type": "stream",
          "name": "stdout",
          "text": [
            "1st batch: input_text: tf.Tensor(\n",
            "[[ 20  20  20 ... 161 161 161]\n",
            " [ 20  20  20 ... 161 161 161]\n",
            " [ 20  20  20 ... 161 161 161]\n",
            " ...\n",
            " [ 20  20  20 ... 161 161 161]\n",
            " [ 20  20  20 ... 161 161 161]\n",
            " [ 20  20  20 ... 161 161 161]], shape=(64, 2000), dtype=int32)\n",
            "\n",
            "1st batch: target_text: tf.Tensor(\n",
            "[[ 20  20  20 ... 161 161 161]\n",
            " [ 20  20  20 ... 161 161 161]\n",
            " [ 20  20  20 ... 161 161 161]\n",
            " ...\n",
            " [ 20  20  20 ... 161 161 161]\n",
            " [ 20  20  20 ... 161 161 161]\n",
            " [ 20  20  20 ... 161 161 161]], shape=(64, 2000), dtype=int32)\n"
          ]
        }
      ]
    },
    {
      "cell_type": "code",
      "source": [
        "# Defining temporary parameters for the embedding layer and model\n",
        "tmp_vocab_size = 10\n",
        "tmp_embedding_size = 5\n",
        "tmp_input_length = 8\n",
        "tmp_batch_size = 2\n",
        "\n",
        "# Creating a Sequential model and adding an Embedding layer\n",
        "tmp_model = tf.keras.models.Sequential()\n",
        "tmp_model.add(tf.keras.layers.Embedding(\n",
        "  input_dim=tmp_vocab_size,\n",
        "  output_dim=tmp_embedding_size,\n",
        "  input_length=tmp_input_length\n",
        "))\n",
        "\n",
        "# The model will take as input an integer matrix of size (batch, input_length).\n",
        "# The largest integer (i.e. word index) in the input should be no larger than 9 (tmp_vocab_size).\n",
        "# Now model.output_shape == (None, 10, 64), where None is the batch dimension.\n",
        "\n",
        "# Generating a random input array for testing\n",
        "tmp_input_array = np.random.randint(\n",
        "  low=0,\n",
        "  high=tmp_vocab_size,\n",
        "  size=(tmp_batch_size, tmp_input_length)\n",
        ")\n",
        "\n",
        "# Compiling the model with 'rmsprop' optimizer and 'mse' loss\n",
        "tmp_model.compile('rmsprop', 'mse')\n",
        "tmp_output_array = tmp_model.predict(tmp_input_array)\n",
        "\n",
        "# Printing information about the input and output arrays\n",
        "print('tmp_input_array shape:', tmp_input_array.shape)\n",
        "print('tmp_input_array:')\n",
        "print(tmp_input_array)\n",
        "print()\n",
        "print('tmp_output_array shape:', tmp_output_array.shape)\n",
        "print('tmp_output_array:')\n",
        "print(tmp_output_array)"
      ],
      "metadata": {
        "colab": {
          "base_uri": "https://localhost:8080/"
        },
        "id": "WsMlIi9M2j-y",
        "outputId": "dc307644-ac29-4173-9285-54ea4feb735b"
      },
      "execution_count": 32,
      "outputs": [
        {
          "output_type": "stream",
          "name": "stdout",
          "text": [
            "1/1 [==============================] - 0s 95ms/step\n",
            "tmp_input_array shape: (2, 8)\n",
            "tmp_input_array:\n",
            "[[4 5 1 8 9 2 6 4]\n",
            " [5 6 3 2 3 6 5 3]]\n",
            "\n",
            "tmp_output_array shape: (2, 8, 5)\n",
            "tmp_output_array:\n",
            "[[[ 0.01075137 -0.0448327   0.03520346  0.02052024  0.02557049]\n",
            "  [-0.03446863 -0.04412745  0.03929839  0.01546976 -0.00396204]\n",
            "  [ 0.04376331  0.00863398  0.03915283 -0.02966436  0.00066907]\n",
            "  [-0.04373101 -0.03871477  0.03881938  0.02781203 -0.03971809]\n",
            "  [-0.01957703  0.02589533  0.02159623 -0.04574908 -0.02830471]\n",
            "  [-0.00516249  0.04789433 -0.03023021  0.03897375  0.02091254]\n",
            "  [ 0.01167031 -0.01919737  0.00316072 -0.01025742  0.0330268 ]\n",
            "  [ 0.01075137 -0.0448327   0.03520346  0.02052024  0.02557049]]\n",
            "\n",
            " [[-0.03446863 -0.04412745  0.03929839  0.01546976 -0.00396204]\n",
            "  [ 0.01167031 -0.01919737  0.00316072 -0.01025742  0.0330268 ]\n",
            "  [-0.0382445   0.0176493  -0.04462053  0.02893532  0.00883055]\n",
            "  [-0.00516249  0.04789433 -0.03023021  0.03897375  0.02091254]\n",
            "  [-0.0382445   0.0176493  -0.04462053  0.02893532  0.00883055]\n",
            "  [ 0.01167031 -0.01919737  0.00316072 -0.01025742  0.0330268 ]\n",
            "  [-0.03446863 -0.04412745  0.03929839  0.01546976 -0.00396204]\n",
            "  [-0.0382445   0.0176493  -0.04462053  0.02893532  0.00883055]]]\n"
          ]
        }
      ]
    },
    {
      "cell_type": "code",
      "source": [
        "# Defining a function named 'build_model' to create a language model with an Embedding layer, LSTM layer, and Dense layer\n",
        "def build_model(vocab_size, embedding_dim, rnn_units, batch_size):\n",
        "    model = tf.keras.models.Sequential()\n",
        "\n",
        "    # Adding an Embedding layer with specified vocab_size, embedding_dim, and batch_input_shape\n",
        "    model.add(tf.keras.layers.Embedding(\n",
        "        input_dim=vocab_size,\n",
        "        output_dim=embedding_dim,\n",
        "        batch_input_shape=[batch_size, None]\n",
        "    ))\n",
        "\n",
        "    # Adding an LSTM layer with specified units, return_sequences, stateful, and recurrent_initializer parameters\n",
        "    model.add(tf.keras.layers.LSTM(\n",
        "        units=rnn_units,\n",
        "        return_sequences=True,\n",
        "        stateful=True,\n",
        "        recurrent_initializer=tf.keras.initializers.GlorotNormal()\n",
        "    ))\n",
        "\n",
        "    # Adding a Dense layer with output size equal to the vocabulary size\n",
        "    model.add(tf.keras.layers.Dense(vocab_size))\n",
        "\n",
        "    return model\n",
        "\n",
        "# Building a model with specified parameters\n",
        "model = build_model(\n",
        "  vocab_size=VOCABULARY_SIZE,\n",
        "  embedding_dim=256,\n",
        "  rnn_units=1024,\n",
        "  batch_size=BATCH_SIZE\n",
        ")\n",
        "\n",
        "# Displaying the summary of the model\n",
        "model.summary()"
      ],
      "metadata": {
        "colab": {
          "base_uri": "https://localhost:8080/"
        },
        "id": "FyJnZJLQ3YSG",
        "outputId": "476ed943-25de-4a5b-a743-0f953348a87a"
      },
      "execution_count": 33,
      "outputs": [
        {
          "output_type": "stream",
          "name": "stdout",
          "text": [
            "Model: \"sequential_1\"\n",
            "_________________________________________________________________\n",
            " Layer (type)                Output Shape              Param #   \n",
            "=================================================================\n",
            " embedding_1 (Embedding)     (64, None, 256)           44288     \n",
            "                                                                 \n",
            " lstm (LSTM)                 (64, None, 1024)          5246976   \n",
            "                                                                 \n",
            " dense (Dense)               (64, None, 173)           177325    \n",
            "                                                                 \n",
            "=================================================================\n",
            "Total params: 5468589 (20.86 MB)\n",
            "Trainable params: 5468589 (20.86 MB)\n",
            "Non-trainable params: 0 (0.00 Byte)\n",
            "_________________________________________________________________\n"
          ]
        }
      ]
    },
    {
      "cell_type": "code",
      "source": [
        "# Iterating through one batch of the training dataset and printing the shape of the model predictions\n",
        "for input_example_batch, target_example_batch in dataset_train.take(1):\n",
        "    example_batch_predictions = model(input_example_batch)\n",
        "    print(example_batch_predictions.shape, \"# (batch_size, sequence_length, vocab_size)\")"
      ],
      "metadata": {
        "colab": {
          "base_uri": "https://localhost:8080/"
        },
        "id": "w72GCmZN3fwJ",
        "outputId": "e435b515-8f45-4fcf-e673-20de7bc8b288"
      },
      "execution_count": 34,
      "outputs": [
        {
          "output_type": "stream",
          "name": "stdout",
          "text": [
            "(64, 2000, 173) # (batch_size, sequence_length, vocab_size)\n"
          ]
        }
      ]
    },
    {
      "cell_type": "code",
      "source": [
        "# Defining a 2-D Tensor 'tmp_logits' with shape [batch_size, num_classes]\n",
        "# Each slice [i, :] represents the unnormalized log-probabilities for all classes\n",
        "tmp_logits = [\n",
        "  [-0.95, 0, 0.95],\n",
        "];\n",
        "\n",
        "# Generating 5 samples using the tf.random.categorical function\n",
        "# Each sample is a class index, and class probabilities are taken into account\n",
        "tmp_samples = tf.random.categorical(\n",
        "    logits=tmp_logits,\n",
        "    num_samples=5\n",
        ")\n",
        "\n",
        "# Printing the generated samples\n",
        "print(tmp_samples)"
      ],
      "metadata": {
        "colab": {
          "base_uri": "https://localhost:8080/"
        },
        "id": "lnq95yC_3ot_",
        "outputId": "cff777b6-dd1a-4967-8abe-c735584a9cdf"
      },
      "execution_count": 35,
      "outputs": [
        {
          "output_type": "stream",
          "name": "stdout",
          "text": [
            "tf.Tensor([[2 1 1 1 1]], shape=(1, 5), dtype=int64)\n"
          ]
        }
      ]
    },
    {
      "cell_type": "code",
      "source": [
        "# Generating sampled indices from the model predictions for the first example in the batch\n",
        "sampled_indices = tf.random.categorical(\n",
        "    logits=example_batch_predictions[0],\n",
        "    num_samples=1\n",
        ")\n",
        "\n",
        "# Squeezing the sampled indices along the last axis and converting to a NumPy array\n",
        "sampled_indices = tf.squeeze(\n",
        "    input=sampled_indices,\n",
        "    axis=-1\n",
        ").numpy()\n",
        "\n",
        "# Printing the shape of the sampled indices\n",
        "sampled_indices.shape"
      ],
      "metadata": {
        "colab": {
          "base_uri": "https://localhost:8080/"
        },
        "id": "67R3EfB23owy",
        "outputId": "8a5d756a-c98f-4152-8ae5-3725dcfae5a9"
      },
      "execution_count": 36,
      "outputs": [
        {
          "output_type": "execute_result",
          "data": {
            "text/plain": [
              "(2000,)"
            ]
          },
          "metadata": {},
          "execution_count": 36
        }
      ]
    },
    {
      "cell_type": "code",
      "source": [
        "# Printing the first 100 sampled indices from the generated sequence\n",
        "sampled_indices[:100]"
      ],
      "metadata": {
        "colab": {
          "base_uri": "https://localhost:8080/"
        },
        "id": "Sb-dkKcR3o0M",
        "outputId": "cad41cb3-39a5-4b80-f12d-1f5903eed66c"
      },
      "execution_count": 37,
      "outputs": [
        {
          "output_type": "execute_result",
          "data": {
            "text/plain": [
              "array([ 18,  56,  33,  73, 135,  88,  63, 101, 114,  98, 151, 105, 127,\n",
              "       159,  16,  18,  55, 116, 129,  81,  67,   6,  61, 160, 100,  12,\n",
              "        66, 139, 140,  17,  39, 127, 104,  98, 119, 103,  33, 103, 157,\n",
              "       169,  44,  44, 104,  20,  95,  91,  71, 159,  70,  84, 151,  61,\n",
              "        50,  63,  55, 141,  84, 111,  35,  28,  38,   3,  96,  35,  95,\n",
              "       137,  55, 115, 143,  27,  76,  97, 103,  52, 130,  65, 154, 114,\n",
              "        72,  97, 151, 105,  13, 105,  19, 150,  84, 132,  13, 160,  52,\n",
              "       135, 112,  26,  78,  81, 109,  46,  63,  66])"
            ]
          },
          "metadata": {},
          "execution_count": 37
        }
      ]
    },
    {
      "cell_type": "code",
      "source": [
        "# Defining a custom loss function named 'loss', function is any callable with the signature scalar_loss = fn(y_true, y_pred)\n",
        "\n",
        "def loss(labels, logits):\n",
        "    entropy = tf.keras.losses.sparse_categorical_crossentropy(\n",
        "      y_true=labels,\n",
        "      y_pred=logits,\n",
        "      from_logits=True\n",
        "    )\n",
        "\n",
        "    return entropy\n",
        "\n",
        "# Calculating the loss for the example batch\n",
        "example_batch_loss = loss(target_example_batch, example_batch_predictions)\n",
        "\n",
        "# Printing information about the prediction shape and the calculated scalar loss.\n",
        "print(\"Prediction shape: \", example_batch_predictions.shape, \" # (batch_size, sequence_length, vocab_size)\")\n",
        "print(\"scalar_loss.shape:      \", example_batch_loss.shape)\n",
        "print(\"scalar_loss:      \", example_batch_loss.numpy().mean())"
      ],
      "metadata": {
        "colab": {
          "base_uri": "https://localhost:8080/"
        },
        "id": "2UPIFWc83o5H",
        "outputId": "5487305f-6b6e-4e7e-ef77-887d1ce4c1c9"
      },
      "execution_count": 38,
      "outputs": [
        {
          "output_type": "stream",
          "name": "stdout",
          "text": [
            "Prediction shape:  (64, 2000, 173)  # (batch_size, sequence_length, vocab_size)\n",
            "scalar_loss.shape:       (64, 2000)\n",
            "scalar_loss:       5.150636\n"
          ]
        }
      ]
    },
    {
      "cell_type": "code",
      "source": [
        "# Defining the Adam optimizer with a learning rate of 0.001\n",
        "adam_optimizer = tf.keras.optimizers.Adam(learning_rate=0.001)\n",
        "\n",
        "# Compiling the model with the Adam optimizer and the custom 'loss' function\n",
        "model.compile(\n",
        "    optimizer=adam_optimizer,\n",
        "    loss=loss\n",
        ")"
      ],
      "metadata": {
        "id": "oeSgEnW54AAY"
      },
      "execution_count": 39,
      "outputs": []
    },
    {
      "cell_type": "code",
      "source": [
        "# Defining an EarlyStopping callback to monitor the 'loss' metric and restore the best weights\n",
        "early_stopping_callback = tf.keras.callbacks.EarlyStopping(\n",
        "    patience=5,\n",
        "    monitor='loss',\n",
        "    restore_best_weights=True,\n",
        "    verbose=1\n",
        ")"
      ],
      "metadata": {
        "id": "Zvnzgayh4Cwi"
      },
      "execution_count": 40,
      "outputs": []
    },
    {
      "cell_type": "code",
      "source": [
        "# Create a checkpoints directory\n",
        "checkpoint_dir = 'tmp/checkpoints'\n",
        "os.makedirs(checkpoint_dir, exist_ok=True)\n",
        "\n",
        "# Defining a checkpoint prefix for the model checkpoint callback\n",
        "checkpoint_prefix = os.path.join(checkpoint_dir, 'ckpt_{epoch}')\n",
        "\n",
        "# Creating a ModelCheckpoint callback to save model weights at each epoch.\n",
        "checkpoint_callback=tf.keras.callbacks.ModelCheckpoint(\n",
        "    filepath=checkpoint_prefix,\n",
        "    save_weights_only=True\n",
        ")"
      ],
      "metadata": {
        "id": "bI_xLon74FcK"
      },
      "execution_count": 41,
      "outputs": []
    },
    {
      "cell_type": "code",
      "source": [
        "# Setting the number of epochs, initial epoch, and steps per epoch for training\n",
        "EPOCHS = 5\n",
        "INITIAL_EPOCH = 1\n",
        "STEPS_PER_EPOCH = 1500"
      ],
      "metadata": {
        "id": "6lBSxW694IEb"
      },
      "execution_count": 42,
      "outputs": []
    },
    {
      "cell_type": "code",
      "source": [
        "# Training the model on the training dataset with specified parameters and callbacks\n",
        "history = model.fit(\n",
        "    x=dataset_train,\n",
        "    epochs=EPOCHS,\n",
        "    steps_per_epoch=STEPS_PER_EPOCH,\n",
        "    initial_epoch=INITIAL_EPOCH,\n",
        "    callbacks=[\n",
        "        checkpoint_callback,\n",
        "        early_stopping_callback\n",
        "    ]\n",
        ")\n",
        "\n",
        "# Saving the trained model to file (to be able to re-use it later).\n",
        "model_name = 'recipe_generation_rnn_raw.h5'\n",
        "model.save(model_name, save_format='h5')"
      ],
      "metadata": {
        "colab": {
          "base_uri": "https://localhost:8080/"
        },
        "id": "IIrIF1AQ4Kzq",
        "outputId": "005dfc40-56e4-432a-fcd5-4e8550ab7840"
      },
      "execution_count": 46,
      "outputs": [
        {
          "output_type": "stream",
          "name": "stdout",
          "text": [
            "Epoch 2/5\n",
            "1500/1500 [==============================] - 2197s 1s/step - loss: 0.6512\n",
            "Epoch 3/5\n",
            "1500/1500 [==============================] - 2200s 1s/step - loss: 0.3534\n",
            "Epoch 4/5\n",
            "1500/1500 [==============================] - 2204s 1s/step - loss: 0.3133\n",
            "Epoch 5/5\n",
            "1500/1500 [==============================] - 2205s 1s/step - loss: 0.2920\n"
          ]
        },
        {
          "output_type": "stream",
          "name": "stderr",
          "text": [
            "/usr/local/lib/python3.10/dist-packages/keras/src/engine/training.py:3103: UserWarning: You are saving your model as an HDF5 file via `model.save()`. This file format is considered legacy. We recommend using instead the native Keras format, e.g. `model.save('my_model.keras')`.\n",
            "  saving_api.save_model(\n"
          ]
        }
      ]
    },
    {
      "cell_type": "code",
      "source": [
        "# Set path where you want to save the model\n",
        "drive_model_path = '/content/drive/MyDrive/Fall_2023/NLP/Final/recipe_generation_rnn_raw.h5'\n",
        "\n",
        "# Move the model file to Google Drive\n",
        "!mv {model_name} {drive_model_path}"
      ],
      "metadata": {
        "id": "o-_ClxtmpRd4"
      },
      "execution_count": 47,
      "outputs": []
    },
    {
      "cell_type": "code",
      "source": [
        "# Defining a function named 'render_training_history' to visualize the training loss over epochs\n",
        "def render_training_history(training_history):\n",
        "    loss = training_history.history['loss']\n",
        "\n",
        "    plt.title('Loss')\n",
        "    plt.xlabel('Epoch')\n",
        "    plt.ylabel('Loss')\n",
        "    plt.plot(loss, label='Training set')\n",
        "    plt.legend()\n",
        "    plt.grid(linestyle='--', linewidth=1, alpha=0.5)\n",
        "    plt.show()\n",
        "\n",
        "# Calling the function with the training history to visualize the loss\n",
        "render_training_history(history)"
      ],
      "metadata": {
        "colab": {
          "base_uri": "https://localhost:8080/",
          "height": 472
        },
        "id": "635vCSVL4NVI",
        "outputId": "20a142b7-beaf-41a2-eda3-e9e0730644d1"
      },
      "execution_count": 48,
      "outputs": [
        {
          "output_type": "display_data",
          "data": {
            "text/plain": [
              "<Figure size 640x480 with 1 Axes>"
            ],
            "image/png": "[encoded data removed]"
          },
          "metadata": {}
        }
      ]
    },
    {
      "cell_type": "code",
      "source": [
        "# Getting the latest checkpoint file in the specified directory\n",
        "tf.train.latest_checkpoint(checkpoint_dir)"
      ],
      "metadata": {
        "colab": {
          "base_uri": "https://localhost:8080/",
          "height": 35
        },
        "id": "koD6HFZz4qQK",
        "outputId": "fd32e212-5b2c-4ab9-ae75-fe518f783508"
      },
      "execution_count": 49,
      "outputs": [
        {
          "output_type": "execute_result",
          "data": {
            "text/plain": [
              "'tmp/checkpoints/ckpt_5'"
            ],
            "application/vnd.google.colaboratory.intrinsic+json": {
              "type": "string"
            }
          },
          "metadata": {},
          "execution_count": 49
        }
      ]
    },
    {
      "cell_type": "code",
      "source": [
        "# Setting the embedding dimension and the number of units in the LSTM layer\n",
        "embedding_dim=256\n",
        "rnn_units=1024"
      ],
      "metadata": {
        "id": "ccO-V_P15Pru"
      },
      "execution_count": 50,
      "outputs": []
    },
    {
      "cell_type": "code",
      "source": [
        "# Defining a simplified batch size for model loading and inference\n",
        "simplified_batch_size = 1\n",
        "\n",
        "# Building a simplified model using the same architecture as the original model\n",
        "model_simplified = build_model(VOCABULARY_SIZE, embedding_dim, rnn_units, simplified_batch_size)\n",
        "# Loading the weights from the latest checkpoint\n",
        "model_simplified.load_weights(tf.train.latest_checkpoint(checkpoint_dir))\n",
        "# Building the model with a specific batch size\n",
        "model_simplified.build(tf.TensorShape([simplified_batch_size, None]))\n",
        "\n",
        "# Displaying the summary of the simplified model\n",
        "model_simplified.summary()"
      ],
      "metadata": {
        "colab": {
          "base_uri": "https://localhost:8080/"
        },
        "id": "TOfzocPG4vPs",
        "outputId": "2d8d0649-5c3d-44dd-bdfd-5a86fcf176a9"
      },
      "execution_count": 51,
      "outputs": [
        {
          "output_type": "stream",
          "name": "stdout",
          "text": [
            "Model: \"sequential_3\"\n",
            "_________________________________________________________________\n",
            " Layer (type)                Output Shape              Param #   \n",
            "=================================================================\n",
            " embedding_3 (Embedding)     (1, None, 256)            44288     \n",
            "                                                                 \n",
            " lstm_2 (LSTM)               (1, None, 1024)           5246976   \n",
            "                                                                 \n",
            " dense_2 (Dense)             (1, None, 173)            177325    \n",
            "                                                                 \n",
            "=================================================================\n",
            "Total params: 5468589 (20.86 MB)\n",
            "Trainable params: 5468589 (20.86 MB)\n",
            "Non-trainable params: 0 (0.00 Byte)\n",
            "_________________________________________________________________\n"
          ]
        }
      ]
    },
    {
      "cell_type": "code",
      "source": [
        "# Printing the input shape of the simplified model\n",
        "model_simplified.input_shape"
      ],
      "metadata": {
        "colab": {
          "base_uri": "https://localhost:8080/"
        },
        "id": "9C3m7UF_4yNq",
        "outputId": "504f3120-8c0c-4a13-b37c-9f3fa20b6823"
      },
      "execution_count": null,
      "outputs": [
        {
          "output_type": "execute_result",
          "data": {
            "text/plain": [
              "(1, None)"
            ]
          },
          "metadata": {},
          "execution_count": 62
        }
      ]
    },
    {
      "cell_type": "code",
      "source": [
        "# Defining a function named 'generate_text' to generate text using the trained model\n",
        "def generate_text(model, start_string, num_generate = 1000, temperature=1.0):\n",
        "    # Evaluation step (generating text using the learned model)\n",
        "    padded_start_string = STOP_WORD_TITLE + start_string\n",
        "\n",
        "    # Converting our start string to numbers (vectorizing)\n",
        "    input_indices = np.array(tokenizer.texts_to_sequences([padded_start_string]))\n",
        "\n",
        "    # Empty string to store our results\n",
        "    text_generated = []\n",
        "\n",
        "    # Here batch size == 1\n",
        "    model.reset_states()\n",
        "    for char_index in range(num_generate):\n",
        "        predictions = model(input_indices)\n",
        "        # remove the batch dimension\n",
        "        predictions = tf.squeeze(predictions, 0)\n",
        "\n",
        "        # Using a categorical distribution to predict the character returned by the model\n",
        "        predictions = predictions / temperature\n",
        "        predicted_id = tf.random.categorical(\n",
        "            predictions,\n",
        "            num_samples=1\n",
        "        )[-1, 0].numpy()\n",
        "\n",
        "        # We pass the predicted character as the next input to the model along with the previous hidden state.\n",
        "        input_indices = tf.expand_dims([predicted_id], 0)\n",
        "\n",
        "        next_character = tokenizer.sequences_to_texts(input_indices.numpy())[0]\n",
        "\n",
        "        text_generated.append(next_character)\n",
        "\n",
        "    return (padded_start_string + ''.join(text_generated))"
      ],
      "metadata": {
        "id": "vLFwaU8i5ZR7"
      },
      "execution_count": null,
      "outputs": []
    },
    {
      "cell_type": "code",
      "source": [
        "# Defining a function named 'generate_combinations' to generate text combinations using the trained model\n",
        "def generate_combinations(model):\n",
        "    # Setting the desired recipe length for each generated text\n",
        "    recipe_length = 1000\n",
        "    # Specifying a list of starting letters and temperatures to try\n",
        "    try_letters = ['', '\\n', 'A', 'B', 'C', 'O', 'L', 'Mushroom', 'Apple', 'Slow', 'Christmass', 'The', 'Banana', 'Homemade']\n",
        "    try_temperature = [1.0, 0.8, 0.4, 0.2]\n",
        "\n",
        "    # Iterating over each combination of starting letter and temperature\n",
        "    for letter in try_letters:\n",
        "        for temperature in try_temperature:\n",
        "            # Generating text using the trained model with the specified parameters.\n",
        "            generated_text = generate_text(\n",
        "                model,\n",
        "                start_string=letter,\n",
        "                num_generate = recipe_length,\n",
        "                temperature=temperature\n",
        "            )\n",
        "            # Printing the details of the attempt\n",
        "            print(f'Attempt: \"{letter}\" + {temperature}')\n",
        "            print('-----------------------------------')\n",
        "            # Printing the generated text\n",
        "            print(generated_text)\n",
        "            print('\\n\\n')"
      ],
      "metadata": {
        "id": "n4fJwkuS5crm"
      },
      "execution_count": null,
      "outputs": []
    },
    {
      "cell_type": "code",
      "source": [
        "# Generating text combinations using the simplified model\n",
        "generate_combinations(model_simplified)"
      ],
      "metadata": {
        "colab": {
          "base_uri": "https://localhost:8080/"
        },
        "id": "V2Xu-XDn5f8u",
        "outputId": "d88dfb11-b189-4c74-a368-9611adf356f8"
      },
      "execution_count": null,
      "outputs": [
        {
          "output_type": "stream",
          "name": "stdout",
          "text": [
            "Attempt: \"\" + 1.0\n",
            "-----------------------------------\n",
            "???? Â@ô»>Y5GôÚÁQ'Q▪è4ñZî”KXE+8|7▪▪9•¼å½JG⁄™\u001aK“Â8•§#'ø\u001a#‧$øơ_á7▪Éî#éVï-`{ë́•Y´í9X▪:íÉ%3•Q–ư”XL\n",
            "jë<ơ×8E~YZñ́ëñW“+{‱K{]—­ưîÉ9½ º¿â©åêă‒#¤’®$º�AéE9G˚E§EAùWKí¿;àN™é7•3▪94▪7‧▪7º9]9ﬂVºì®́â︎#ï¿®ä︎”áúYîíïÚ”%B$ë7‚à3▪!§X▪í8▪5▪7▪4▪9▪øâ▪W5óÚ€�`®3Oé‚~_—“í%4Oé©ñ5#x▪óY¾ú⅓X‚Z`©‚èèÉÂ•4Ek®è7âà▪W‟ºAY´ëÉ\u001aÁ“C$é(ﬂơ5E4CK�ﬂé7é�­'öèOGñ´í¿\u001aÁêE{¾E2ô½#'§ZJ\\#_¤YN⅞ù´#§X#Á»_︎Bå‱Z9▪$¤&­—å\u001a▪•ó5▪3▪V3▪T¼︎Y◊§#́5▪7ơE▪KJ` °⁄⅛î§áºQﬂ9•9▪ﬂ|§àâ>QÁó9‒ÚQ◊\u001aJ>‚3▪▪%3EE6>ï{�Qñö¾E~éDQ‚îY`@®–ﬂ©éEé¼´5EYơ¤︎Q‭óEWT⅛‱ø0̀áEí€#f▪▪¾ù×àE#Ú5•¼5▪úZ½#•UDä•5EZG8EEá’è#}äQ Ú– ︎9E˚KHăJÂ®5E\u001a6▪‟É>ÁçÉ|$â#íÁGç‧î]áÁ#{$◊0E'@ZÚâXÉf‧!óZ’3▪‒\u001a8Yﬂåñà’è>§7▪2 0ZÉ8Yç︎í0}‒KX˚ÂZ⅓ö“É⅓Eë\\©×Oú5•Eâ-\u001aEâ$éW•́7•Gé~—©‚í®½#|ÉÁU‒#É•íâWû9⅓▪96▪á]˚—E3▪O~5▪•ì¤<‱‒@ëE5▪öÁ́®ñ0Dô#é“<ëﬂ×z©‚N Éñ®‭Qx▪àEEâø5▪HÚQz>G\u001a(”Y½EÚXơ7•}™_”“»3Á ´­ç{ơ\n",
            "|HÉáàD3úVơçYÚYEYZQüèz“\\úNàX▪@Mú5▪E%3É8EçEk9áä7ñÉ▪ZT︎Xz`É︎ö́Gî´>̀»Qçó7´°êY¾ñY5ñ⅓Éç9Eá|—ﬂU5JìUEí!3ñ‚X▪½åKìVìé7•îAEí3»óëA▪Qó##ư­»$©î7▪◊€RK®⁄îÉ+âE9▪7Z–%VZ®8™=7óöTöQ︎\u001a°É3TÁ´‭9V˚TëQ︎»⅛=ưÁ™–•QN4+ơ⅞ç8Â®Qù�́[ø–ñå™âÂ¼á⅓7⅓áYï0‱[\u001aE—⅓@VA©ìì‒\n",
            "\n",
            "\n",
            "\n",
            "Attempt: \"\" + 0.8\n",
            "-----------------------------------\n",
            "???? ©)©▪•YÉ9@ÉW5E3N€Q︎⁄E’â9àE$k–û8▪E§;Q␣⅛ú3▪7▪#óQç︎¤î7▪5XﬂZç#§€ô9▪T©»$◊Z7#©í»Ú•>é\u001aQ|\u001aE#̀A•Pââﬂ~⁄ÉKë¤#ë\\ç‭¤é+7JX#‱#øEöÉQ$́⅛è▪7ü\u001a9▪à×$▪™¼ôáÉOéQ́®9É9▪#`á•EJ\\!g⅛B‒K9E $⁄ÚKèT‒íë|EX˚‒éEQ®‧éYú %+@9ﬂZ}=X9$êEìÉ9▪E•XQ$½Eë5V9X\u001aE#RuWâ“‟½àE§EBﬂ™Z7▪§Xz]ÉEÉî“âW™×XơÉ$´åëÚ—•§G&KÚ5E~çÉíÚ+ÁÁYQ▪GCç4▪5▪4K‭%4E3▪Q́9+LZQEñJ▪\"øè•▪î#½•#E”�ăí9E8E|¤T¾Eá#Ú␣QÂøZö!2E“⅛D3E˚%W¼K»#⅛í~‒⅛í™è°®5F▪>è#•9•SZơơ#é5YÚî#́~è]⅛ñ5▪ă9î©¼$ă—ñHÚ9Y9E9~â<é<¾E##EkG7••í6▪3▪$▪8“É•ó4▪•V©_©à•6É̀Q*É€︎:KQ©UWX4¼˚P▪íç5#▪5▪7•ÁÉ▪9•▪E¾KÉVîQ⅛WKçö�]¼▪úNôÚă#E™#ñﬂKñ5▪ââZ#̀ºè%äâSZ%©4Eë¤Gçﬂ57“¤7EÉ9▪EXéEêưQ▪#™5E9EóU&Q◊ÚIÂ~ 9ầ§¤Qç▪Q�4ñáâ¾XX$ë0EêE⅛E¼Xì9]EXE&\u001a¤9▪KN½YáEâí8Z‭Úâ%:9•2Q9J”î8E%▪åﬂQ­ﬂéQ‧#Qñ#úE}´ç9▪¼XE$è̀7▪EEé5▪QÉ#︎#QâUZK7É�®øó9▪8E7J︎$@™EYñøèê▪©ÉBZZH︎UXQ©öù2E‚E¾E%2~́#´$¤Q▪•ñ8àEåKZ»Eí6“▪U•G5E]◊àE3•P▪{å®fôN–Éñ5▪⅞GñÚî!⅞GàGáU\"KPOû$⁄~#î3QíàK®û‒XYZèáEèQøZ$’7Á‚¤#▪8ZñD︎ôJ⅓#Qî\"ø:4©×Lâ9G4▪3▪9•îXó9•ç9▪Qö‭$¼###▪Ú7E®á#̀EQî9•‚K™€|é~“°<î#©▪ì7ë©ô™@íç9•X©▪˚©É»â9́ÉÚ®î7ìâ7▪ñ3▪•âû•EN+»TäGZ6⁄©GáGQ‭ìﬂ•`‧0E~\\ôí®4E5EQ▪▪YÉ=íâ_5▪#û!’EJÉXñç#▪E ︎*€5C`©\n",
            "\n",
            "\n",
            "\n",
            "Attempt: \"\" + 0.4\n",
            "-----------------------------------\n",
            "???? ︎•3▪QÉÉ3▪Qç5▪9•EGQç5▪5▪7▪▪Qơ9▪EEXç▪Qñ5▪EKI˚Q▪▪é8EX▪ÉYè#ñ9▪EEè%Eû7EOEQ_︎Eú5Eî5E‟QăEﬂ▪7E3▪9▪E•Z3▪E2EX▪E5EYZZ‱9▪9•Yí7EEKKTEEXäEEE%KKT®KT®␣␣␣␣␣␣␣␣␣␣␣␣␣␣␣␣␣␣␣␣␣␣␣␣␣␣␣␣␣␣␣␣␣␣␣␣␣␣␣␣␣␣␣␣␣␣␣␣␣␣␣␣␣␣␣␣␣␣␣␣␣␣␣␣␣␣␣␣␣␣␣␣␣␣␣␣␣␣␣␣␣␣␣␣␣␣␣␣␣␣␣␣␣␣␣␣␣␣␣␣␣␣␣␣␣␣␣␣␣␣␣␣␣␣␣␣␣␣␣␣␣␣␣␣␣␣␣␣␣␣␣␣␣␣␣␣␣␣␣␣␣␣␣␣␣␣␣␣␣␣␣␣␣␣␣␣␣␣␣␣␣␣␣␣␣␣␣␣␣␣␣␣␣␣␣␣␣␣␣␣␣␣␣␣␣␣␣␣␣␣␣␣␣␣␣␣␣␣␣␣␣␣␣␣␣␣␣␣␣␣␣␣␣␣␣␣␣␣␣␣␣␣␣␣␣␣␣␣␣␣␣␣␣␣␣␣␣␣␣␣␣␣␣␣␣␣␣␣␣␣␣␣␣␣␣␣␣␣␣␣␣␣␣␣␣␣␣␣␣␣␣␣␣␣␣␣␣␣␣␣␣␣␣␣␣␣␣␣␣␣␣␣␣␣␣␣␣␣␣␣␣␣␣␣␣␣␣␣␣␣␣␣␣␣␣␣␣␣␣␣␣␣␣␣␣␣␣␣␣␣␣␣␣␣␣␣␣␣␣␣␣␣␣␣␣␣␣␣␣␣␣␣␣␣␣␣␣␣␣␣␣␣␣␣␣␣␣␣␣␣␣␣␣␣␣␣␣␣␣␣␣␣␣␣␣␣␣␣␣␣␣␣␣␣␣␣␣␣␣␣␣␣␣␣␣␣␣␣␣␣␣␣␣␣␣␣␣␣␣␣␣␣␣␣␣␣␣␣␣␣␣␣␣␣␣␣␣␣␣␣␣␣␣␣␣␣␣␣␣␣␣␣␣␣␣␣␣␣␣␣␣␣␣␣␣␣␣␣␣␣␣␣␣␣␣␣␣␣␣␣␣␣␣␣␣␣␣␣␣␣␣␣␣␣␣␣␣␣␣␣␣␣␣␣␣␣␣␣␣␣␣␣␣␣␣␣␣␣␣␣␣␣␣␣␣␣␣␣␣␣␣␣␣␣␣␣␣␣␣␣␣␣␣␣␣␣␣␣␣␣␣␣␣␣␣␣␣␣␣␣␣␣␣␣␣␣␣␣␣␣␣␣␣␣␣␣␣␣␣␣␣␣␣␣␣␣␣␣␣␣␣␣␣␣␣␣␣␣␣␣␣␣␣␣␣␣␣␣␣␣␣␣␣␣␣␣␣␣␣␣␣␣␣␣␣␣␣␣␣␣␣␣␣␣␣␣␣␣␣␣␣␣␣␣␣␣␣␣␣␣␣␣␣␣␣␣␣␣␣␣␣␣␣␣␣␣␣␣␣␣␣␣␣␣␣␣␣␣␣␣␣␣␣␣␣␣␣␣␣␣␣␣␣␣␣␣␣␣␣␣␣␣␣␣␣␣␣␣␣␣␣␣␣␣␣␣␣␣␣␣␣␣␣␣␣␣␣␣␣␣␣␣␣␣␣␣␣␣␣␣␣␣␣␣␣␣␣␣␣␣␣␣␣␣␣␣␣␣␣␣␣␣␣␣␣␣␣␣␣␣␣␣␣␣␣␣␣␣␣␣␣␣␣␣␣␣␣␣␣␣␣␣␣␣␣␣␣␣␣␣␣␣␣␣␣␣␣␣␣␣␣␣␣␣␣␣␣␣␣␣␣␣␣␣␣␣␣␣␣␣␣␣␣␣␣␣␣␣␣␣␣␣␣␣␣␣␣␣␣␣␣␣␣␣␣␣␣␣␣␣␣␣␣␣␣\n",
            "\n",
            "\n",
            "\n",
            "Attempt: \"\" + 0.2\n",
            "-----------------------------------\n",
            "???? ︎▪9▪7▪E5EE%Xç4▪7▪EQ▪EEÉ▪Q▪Eí9▪EEX$ñZ%í9▪7▪EE5EÚXEE%%#EX•KKKKEEKRENEEEATANDRING REDUSE THIPINGER REDUSE TMISTING RITTING RO*TEL STIR PAM® Seasoning Mix and add to sauce. Stir in milk and bring to a boil. Reduce heat and simmer until cheese is melted, about 10 minutes.\n",
            "␣␣␣␣␣␣␣␣␣␣␣␣␣␣␣␣␣␣␣␣␣␣␣␣␣␣␣␣␣␣␣␣␣␣␣␣␣␣␣␣␣␣␣␣␣␣␣␣␣␣␣␣␣␣␣␣␣␣␣␣␣␣␣␣␣␣␣␣␣␣␣␣␣␣␣␣␣␣␣␣␣␣␣␣␣␣␣␣␣␣␣␣␣␣␣␣␣␣␣␣␣␣␣␣␣␣␣␣␣␣␣␣␣␣␣␣␣␣␣␣␣␣␣␣␣␣␣␣␣␣␣␣␣␣␣␣␣␣␣␣␣␣␣␣␣␣␣␣␣␣␣␣␣␣␣␣␣␣␣␣␣␣␣␣␣␣␣␣␣␣␣␣␣␣␣␣␣␣␣␣␣␣␣␣␣␣␣␣␣␣␣␣␣␣␣␣␣␣␣␣␣␣␣␣␣␣␣␣␣␣␣␣␣␣␣␣␣␣␣␣␣␣␣␣␣␣␣␣␣␣␣␣␣␣␣␣␣␣␣␣␣␣␣␣␣␣␣␣␣␣␣␣␣␣␣␣␣␣␣␣␣␣␣␣␣␣␣␣␣␣␣␣␣␣␣␣␣␣␣␣␣␣␣␣␣␣␣␣␣␣␣␣␣␣␣␣␣␣␣␣␣␣␣␣␣␣␣␣␣␣␣␣␣␣␣␣␣␣␣␣␣␣␣␣␣␣␣␣␣␣␣␣␣␣␣␣␣␣␣␣␣␣␣␣␣␣␣␣␣␣␣␣␣␣␣␣␣␣␣␣␣␣␣␣␣␣␣␣␣␣␣␣␣␣␣␣␣␣␣␣␣␣␣␣␣␣␣␣␣␣␣␣␣␣␣␣␣␣␣␣␣␣␣␣␣␣␣␣␣␣␣␣␣␣␣␣␣␣␣␣␣␣␣␣␣␣␣␣␣␣␣␣␣␣␣␣␣␣␣␣␣␣␣␣␣␣␣␣␣␣␣␣␣␣␣␣␣␣␣␣␣␣␣␣␣␣␣␣␣␣␣␣␣␣␣␣␣␣␣␣␣␣␣␣␣␣␣␣␣␣␣␣␣␣␣␣␣␣␣␣␣␣␣␣␣␣␣␣␣␣␣␣␣␣␣␣␣␣␣␣␣␣␣␣␣␣␣␣␣␣␣␣␣␣␣␣␣␣␣␣␣␣␣␣␣␣␣␣␣␣␣␣␣␣␣␣␣␣␣␣␣␣␣␣␣␣␣␣␣␣␣␣␣␣␣␣␣␣␣␣␣␣␣␣␣␣␣␣␣␣␣␣␣␣␣␣␣␣␣␣␣␣␣␣␣␣␣␣␣␣␣␣␣␣␣␣␣␣␣␣␣␣␣␣␣␣␣␣␣␣␣␣␣␣␣␣␣␣␣␣␣␣␣␣␣␣␣␣␣␣␣␣␣␣␣␣␣␣␣␣␣␣␣␣␣␣␣␣␣␣␣␣␣␣␣␣␣␣␣␣␣␣␣␣␣␣␣␣␣␣␣␣␣␣␣␣␣␣␣␣␣␣␣␣␣␣␣␣␣␣␣␣␣␣␣␣␣␣␣␣␣␣␣␣␣␣␣␣␣␣␣␣\n",
            "\n",
            "\n",
            "\n",
            "Attempt: \"\n",
            "\" + 1.0\n",
            "-----------------------------------\n",
            "???? \n",
            "äéë8Y€N»óV®˚™€J}KﬂÉﬂÉ€´®IêéXư•UÉ4¾W#ưÉ▪ñY“LKT#)CEE&Wú#́4E*̀AE@4E‧ë9EÉOEIÚWT�|X⅓ºé3‚éâÚ9E~é¤’®½‱ưLZ$Ú“︎E‒à´9▪EXEêE%%7zÉ(`ç%ﬂ6˚S™“ëü#¼ç$k=Qâ~Y`Xí8E#~=EÉJ‱Nﬂî9ñî9EE�ú7û>éX︎0EÁ9Eﬂ°JúX~ë™K\\êJ©øø©=5~í⅞9X▪�™G'óQê◊üEQó9▪83▪#¤▪àE%Zî7EA+◊E4ñäQåíÉ—¤K05EX4⅞E⁄“€áåêN◊ñ+BLQ`$º\\#óä˚ÉYOÂ9▪°©È9•4E”{\"&®⁄︎N:ú®9e$>å3E2J`@É©(•̀▪7E▪í◊‒ïü7▪7E␣­©‭èø(½™“V‒ä¾‧2î9#'KETơ[![¿zC= ç7\u001a×V3▪Lù~TÚ0L‟�—▪íK$K4ñ9G:˚_︎2ÉﬂWXE‟8Q%‒®‱KăëAF•sôﬂG&Qìô\u001aE#~YﬂZD“︎¤=¼à‱3▪[Q~\u001aîE\\É©éï9▪⁄~ÚààOêE5`á°ú4EX3EéXQWḰ™EL]åüJú{@#▪5▪Zå⁄óZóG•QúÉ:ơ⅓3⅓E3áﬂY@3©­5Géº\\ﬂZÚJ&#“5øQ]Q§àÉ7▪UùZú’ÉÚ<%N⅛'§º#Q▪’Xè~â⁄ì7Â¼▪É©àV3▪#ăï⁄ô▪¾3▪â°59íơÉQơéK`ç94▪øEå[ä9íOá´▪¾áE7EEXç7‟í©Â:§áP⅛‚Y+G+íô!Tíé§“E@à$~°™f9▪âZEZ®#EäEE*<¿%9ﬂW=âèK§˚Txx̀©$ÂJ`ëEë¤~H¿×7á9•5▪5▪V6Ú©éN 7⅞YÚY+èZ{\u001aZ#ơK<âăQ<íUYû9éÉXÁîà•©ëY‱▪5▪ú#¾#⅞Q•©~0Zñ⁄’v:íMK=‧9•å\\€“™°[Â°K9™î8E\"x[àE§ûEöJ®⅞»ư\"#QàJ[û­+öí:%6▪5▪⅓3W9▪å©ûEÉﬂBO<¾7▪3E!?É4øX▪QîºâWX+™L»Xä€ﬂ9ëÚ¿#▪ÚJ%Eﬂ▪Eó%î~îXçGÚxVúç4‱3▪©î⅛4~víÂç▪àD°É3E>’–©øăG3ÁüÁó9▪U+ùOñY´▪G▪é‒êQ Q´▪ZÉ%Tì̀Á7éưÚ⅞`‚⅞¾5E2VXñ=▪⅛qÉN=¼ñ5Z—€àé©▪âUưá\"ë:‧5▪ø▪ó5Eư\n",
            "\n",
            "\n",
            "\n",
            "Attempt: \"\n",
            "\" + 0.8\n",
            "-----------------------------------\n",
            "???? \n",
            "9▪`ﬂÂYñîưáQîô[︎7•4ZÉ5▪3•2á~X◊‧è7▪3▪JÁÉ9•W¼=▪E9E‟OE€EVQx▪7▪E½à▪7▪W‧€`É•3+àL3▪QÁ6QÉY•É>—ö︎▪ç®︎‱»4▪´Z5EìYöàEÂK´X´+E‭üQñ®°7Gç▪5▪‧çW5▪ZÉ̀#}Z“|W9EXY&ëX▪EYY|•EÉû™7•V®́®XÚ7•MÚB7EơZô#î5½#▪▪Wí9▪•G•W#‭Qz>âYí:Ú®7­öﬂ•X$úQ||>€—€9▪4Qj%f▪ë2E×$7ñC#ó7▪üQç9▪9ô™EÂ︎î4Eé9é•Z{Éø9•ZÚáEçC⅛03▪7EY▪EB»ç‭üXz{à•å$îE#§3▪7▪E3▪âVåăă>•G⁄çăă`=©N}X‧ﬂ§ë9▪EXñ6EQ▪#Ú‧︎ÉëP▪QàX▪X7▪7•XÚÉ¿Qá€ï#f▪ÁQ×\u001a⁄î¼2ó#ÉG=í5Qâ‧É#X▪7▪5▪7▪K•èèZ>⅓óE%Ú5▪X&´•|Zâ>ëE®J⁄5Eâé#ûEâ©&˚‱W€vÚ7▪EZqñ\\>~`‟YÚüC ¼E½▪¾$:$̀‧•ñ5▪•í7ó9Z#[Q»àX©|9•GﬂÚí9ZQüÉXYﬂîÚZ Y•[‟ùK9EU◊XE´G¼óä#EñKéQí7ñăQ™5▪ñ7▪5•F▪Zç#‚øç>éQxưöL9▪âOJK3▪Â4•ú9▪•8ú}á7EKKT¤> àQà#˚XëLÚïQ▪ø4Y“⅓◊½E×XQë=I¼EY~´ !⅓⁄'‒Z—™_§b™OYăG~E>ưEé#Xí9̀>ñ’Z —]̀ư½QèZÉQø9▪•X˚0E“QŃUñX˚àG4́à7EÉV¼EEWﬂZ¼úÚ5▪áơHL®vK\u001a`°Y˚ï⅓“°ÉZÉÉê▪ﬂáEQx\\ư5Éñ¼[í|$`“\\©|X︎XQà¾é!J°îăGV%•ñ9Ú3Eèü2Eü5▪3▪§É▪X�§E5Vf0▪Éﬂ▪Eé~“¼E#§ôZ—‭Qñ9#é|Xç~<Á{ôăﬂ`¾‒JÂZêôàEZQç#$ơä\u001a¾▪▪»QÚ“¾éÉ3EX¾•ﬂV´• âQ§5Â4TÉ▪•5E3▪#áûO|ZûôXç4▪E8E©Eè>éY⅞#@U‟JO5▪àEé7EîÁWÉ⅓⅛4OE9E4EOY▪í7Eí5E%EáW⅓Q 9▪â%⅛▪©Q‒™Á¼X“•GQ%V%3ü5▪5EQñS▪#$˚K‧™9F⅞̀è9▪î5KX‟í9Q⅞ü5Eíï8▪©×9▪ó7EXäUé4▪3▪AÉ▪è\n",
            "\n",
            "\n",
            "\n",
            "Attempt: \"\n",
            "\" + 0.4\n",
            "-----------------------------------\n",
            "???? \n",
            "◊9•3▪Qç9▪É▪7▪7▪EE#␣ú9▪7•GQ©▪Q©KG¼EE%$́#▪E9▪▪è7E_Úâ#ﬂ▪•3▪•3▪7•Zî5▪EÉî5▪▪9▪9▪EÉY¼EZXE5EXéEEEWQÚ0Eí9E˚ÉX˚#É▪E#ÉGQ▪E#âUç7▪9▪9▪Qç5▪L5▪9▪•7▪É▪9▪▪é7▪•Eí%3▪4E▪%Yøî9▪EXñ®3Eí5EEí5▪7▪•Q▪EEÉY×®$´▪QÉ▪9▪9•ñÉG4Eé#�\\︎\\ââÉ§▪X▪5▪▪5▪•X•ñG7▪EZç▪Qç▪L◊K9EéYí%X~#Eơ%E4Eô9EE#EXKKZÉQç9▪7▪7▪9▪Q‒©ñ9▪▪E#EXñ®7•3▪Eè¤X▪Qç9▪5▪Q<#▪E5▪Eí9•EQöEX▪E%ç4▪•Yå9▪EQñ5▪ZÉ~Q▪âÉ#▪UàAE%V%%3ñ:í9•âÉîﬂZ︎4E3▪7▪5▪▪QÉ▪é9▪•G3▪Qç9▪•Eí5▪9▪E#éEÉQ»#É▪¼EEKKKWZ$‱H×\\ÂÉ‚K‧#▪Qv5Qç9▪5▪â$$â™7▪9▪•#ëKKZ@ÚÉQñ9▪Y‧É%J3▪E#$\u001aEIÚ5E3Eí5•4EQ▪EE_è7E•G%~#E%KKKTNEECIKKNEEINAERAEAENUW5•9•G7•G~XY“`Âﬂ9▪Eí5E••G4▪9▪Y•EZWXá•LZÉÉO9E#̀EZ®5EáE=!́ÉE5ÈE5EEWXâX©Q▪5▪▪Q°íÉ▪5E9▪OEXEç5▪7▪▪9▪•XñQÉEÉàEâZ~#ñ9EQ▪9•EÉ˚Ú︎9EEEKKKè%EXNZÉÉQ▪EàEG4EOAE5EWQ▪5▪•G9▪è6▪▪7▪EEÉQÉQú9▪E7•E#ñZ︎Q́Y˚¼Eç9▪I5E4E%5EKZ®⅓J‧X▪EE$#‭7▪EéQ⅓#▪5▪7▪•EKíÉ7EQñ#ñW¿í9▪Qñ9•E#▪9EZÉXÉàEQ▪EíQ$ L⅞É$ﬂ▪•ôKOéYë9•K9EEíAE%4E3▪•4E&EEWYë▪▪#EEXE2Eí9▪•$▪EàE5▪▪•í5Eç4▪9▪9▪•3▪Z$Éç9▪â\u001aG4▪▪9▪7▪W7•EKZè:3▪5▪9▪•G4EW9▪QÉXYÉ▪9•3▪7▪E5▪Q▪#▪#§KK#WE|9▪E2EÚè7▪Eí9▪▪7EÚ5EEúXK%~#é5E•E§Ní9▪7▪9▪EZKKZN®9EEQ▪EEZ¼EÁE%4EÉYG4▪Q▪!‧|#▪7▪ÚXñ®:9•9•3▪Wç7\n",
            "\n",
            "\n",
            "\n",
            "Attempt: \"\n",
            "\" + 0.2\n",
            "-----------------------------------\n",
            "???? \n",
            "︎E™J®5•3▪7•7•3▪7▪•3▪•#▪•3▪E5E2E3▪•3▪•Q▪9▪EEX▪EXE3EEÉQ▪EEXEE%%KKKKKEAEEEEEEEEEEEAEEEEEETWXEEXEEXKKKKT®EEENN␣␣␣␣␣␣␣␣␣␣␣␣␣␣␣␣␣␣␣␣␣␣␣␣␣␣␣␣␣␣␣␣␣␣␣␣␣␣␣␣␣␣␣␣␣␣␣␣␣␣␣␣␣␣␣␣␣␣␣␣␣␣␣␣␣␣␣␣␣␣␣␣␣␣␣␣␣␣␣␣␣␣␣␣␣␣␣␣␣␣␣␣␣␣␣␣␣␣␣␣␣␣␣␣␣␣␣␣␣␣␣␣␣␣␣␣␣␣␣␣␣␣␣␣␣␣␣␣␣␣␣␣␣␣␣␣␣␣␣␣␣␣␣␣␣␣␣␣␣␣␣␣␣␣␣␣␣␣␣␣␣␣␣␣␣␣␣␣␣␣␣␣␣␣␣␣␣␣␣␣␣␣␣␣␣␣␣␣␣␣␣␣␣␣␣␣␣␣␣␣␣␣␣␣␣␣␣␣␣␣␣␣␣␣␣␣␣␣␣␣␣␣␣␣␣␣␣␣␣␣␣␣␣␣␣␣␣␣␣␣␣␣␣␣␣␣␣␣␣␣␣␣␣␣␣␣␣␣␣␣␣␣␣␣␣␣␣␣␣␣␣␣␣␣␣␣␣␣␣␣␣␣␣␣␣␣␣␣␣␣␣␣␣␣␣␣␣␣␣␣␣␣␣␣␣␣␣␣␣␣␣␣␣␣␣␣␣␣␣␣␣␣␣␣␣␣␣␣␣␣␣␣␣␣␣␣␣␣␣␣␣␣␣␣␣␣␣␣␣␣␣␣␣␣␣␣␣␣␣␣␣␣␣␣␣␣␣␣␣␣␣␣␣␣␣␣␣␣␣␣␣␣␣␣␣␣␣␣␣␣␣␣␣␣␣␣␣␣␣␣␣␣␣␣␣␣␣␣␣␣␣␣␣␣␣␣␣␣␣␣␣␣␣␣␣␣␣␣␣␣␣␣␣␣␣␣␣␣␣␣␣␣␣␣␣␣␣␣␣␣␣␣␣␣␣␣␣␣␣␣␣␣␣␣␣␣␣␣␣␣␣␣␣␣␣␣␣␣␣␣␣␣␣␣␣␣␣␣␣␣␣␣␣␣␣␣␣␣␣␣␣␣␣␣␣␣␣␣␣␣␣␣␣␣␣␣␣␣␣␣␣␣␣␣␣␣␣␣␣␣␣␣␣␣␣␣␣␣␣␣␣␣␣␣␣␣␣␣␣␣␣␣␣␣␣␣␣␣␣␣␣␣␣␣␣␣␣␣␣␣␣␣␣␣␣␣␣␣␣␣␣␣␣␣␣␣␣␣␣␣␣␣␣␣␣␣␣␣␣␣␣␣␣␣␣␣␣␣␣␣␣␣␣␣␣␣␣␣␣␣␣␣␣␣␣␣␣␣␣␣␣␣␣␣␣␣␣␣␣␣␣␣␣␣␣␣␣␣␣␣␣␣␣␣␣␣␣␣␣␣␣␣␣␣␣␣␣␣␣␣␣␣␣␣␣␣␣␣␣␣␣␣␣␣␣␣␣␣␣␣␣␣␣␣␣␣␣␣␣␣␣␣␣␣␣␣␣␣␣␣␣␣␣␣␣␣␣␣␣␣␣␣␣␣␣␣␣␣␣␣␣␣␣␣␣␣␣␣␣␣␣␣␣␣␣␣␣␣␣␣␣␣␣␣␣␣␣␣␣␣␣␣␣␣␣␣␣␣␣␣␣␣␣␣␣␣␣␣␣␣␣␣␣␣␣␣␣␣␣␣␣␣␣␣␣␣␣␣␣␣␣␣␣␣␣␣␣␣␣␣␣␣␣␣␣␣␣␣␣␣␣␣␣␣␣␣␣␣␣␣␣␣␣␣␣␣␣␣␣␣␣␣␣␣␣␣␣␣␣␣␣␣␣␣␣␣␣␣␣␣␣␣␣␣␣␣␣␣␣␣␣␣␣␣␣␣␣␣␣␣␣␣␣␣␣␣␣␣␣␣␣␣␣␣\n",
            "\n",
            "\n",
            "\n",
            "Attempt: \"A\" + 1.0\n",
            "-----------------------------------\n",
            "???? AÉ▪▪T‟9Z#é[‟J¿ÉK5ó8▪A‱ﬂ•\\!•€3ÉÉë9▪Wèâ�Që#î̀X7%X”9•í:3NÂ§EC•áQâ-▪|#ô=ZÁ©”•`O´Z—“\\ö‱ăé>’ăW`Â§K[â7ET¤°ư⅛X́~í9▪XQ︎®8Vç1á7▪!v–=É%ïWøí9•Bëó‧Vï#Á¼WXë:%áéB‟â#î¾É#é=▪7⅓¤€4Eñ¼ẀZëíGN:ăí◊Z$6&íX⅓|¤½V½åQä•Z‟´Eá[çY½Ú▪$åé#@8\u001a5E6•2EYë9•Eùº99YàEûúUTîàE9éX+­‒Yó9•LV¾èé×­•’\\%]¾Eﬂ_ñ◊úQăÉE�éç9B4‱©⅞<é°%êZq#í–ÉöéK´7ë⅞—︎4Úî7•âí®54EO4D▪äOCçW3à“ü3EăE|z0E LVG\u001aî¤9YEÚÁQ_+ç<E}K‟Xç6è▪Q€⅛ç⅓5⅛à2úY ë7âQSèư\\́$é⅛WXăX%ç#ư2Yư▪#×î§~¼‱⅛︎úư+]#¼é#9▪9▪ñî#&T̀9▪◊Xú5Vñ9•[½E6E™⅞Df¼EKô½hKYùE4▪▪A7•Q‒É8O~#̀̀A`®©é¤ 7]>º‧•E©ç▪`Ú3ñDK⅓Y'É8E©øEÂ—#‧ùç4▪9z9ưư{>‚í1]çäVp~̀9•8ìëơÉ¾´E®XXE5E%©▪¾¼ăă W\\‚Q~üö=7▪EWîXë|Wöê8•◊▪>$áOî5ñáXñ9•ç2#ö‚Záú7▪ëKí€C€“E%#▪Jè¼‱è9é’4¾à%4P▪7ïñờÚWÚ0û4EY@ÉZWN0>Ú5▪C#WK:º™K©˚‚EI©ø’=⅓A|‒¾î#ﬂàó5▪©©‱\"}N´5•⁄Ú!í˚¤$øë9•»ñﬂ▪Q́Ú5H5K½Q§DQ́‟Â⅓▪ô6▪•7ư#¼Q▪º⅛É0#Á8•í[®î\"åU⅛{ÉơÂ◊‒|K79E@C4Y¤⁄íî´–7àQ§HKH4©­%çÉ|óX~É&ï�ë%×⁄‒îä_⅛Z9▪â`ë3:`ÚW%v︎WX_⅓é4EáQéL—çô9¾½‟7@$̀#}4EC®<z̀í7—▪_•ü9▪§&Eé%#¤_ñâôºôäì!4J™‟ư=éQ\u001a‱Zí~YÉ©éUW­ơñG7•óH|®©\\ûÂQ‒⁄4▪ñ4▪7▪5E=T+ç9ô9=èºQ︎#êDèAE™7”9▪çN9•9f⁄ùáñX§T~▪•J¤C:½®K7ç® Éçç9̀5▪É™ư#O▪èZç áÉ⁄Y\\u$\n",
            "\n",
            "\n",
            "\n",
            "Attempt: \"A\" + 0.8\n",
            "-----------------------------------\n",
            "???? Aé©ﬂ•⁄0EYå`Éëé3▪= ▪â9Éü⅛E5Q▪]~Qä⁄øø©︎Qơ»èﬂ⅞ﬂ9éO#ñéü5▪6▪4•X˚~Yñ#\u001aíYưº—▪AÚ‱ºYù#ë•K9M9•G6ì‚äEàEI–•U5EU4ñÉ8XëàíÁ8▪#Y&©Yä½Ú“%Qﬂ\u001aéü‟#ﬂ#çì#A=▪W=YE5EXöE2E@Z0E4¼G:V®“ﬂ\u001aX©ìQ€5▪▪E3`~~X◊EV+K7E4E&ưâ9▪ •EöÉÉúâăåû©ç—Ú9ăë9ÂGX]#ïk◊NW‒%á&é5Eöë•L4G▪Z°ñ]Qơ︎K)í °‒#¼!VW5N⅞ïá9•|#EG%®˚N[x▪E7ú4‱°‒5E§X•Gç\\̀©óqåEÚY%VXE’ÉWQûM{︎XXÉﬂ•K¤XK%º␣ç:�çZîîââ$˚$‟É▪â9▪7ﬂô´íX•E“$’#ç9•5▪5▪K9çYü7•▪W7•\n",
            "mḱ:3̀•7]É9ÉYá8•&É#◊ñ7°ﬂVÉ“°®Á7ư•BN©Zñ◊éèQ̀XXê%*àYYëçÉ▪Y©™=¤ïç8▪éç4E>ă!íQä5‟\\ﬂKÉư8XäQ �ưă½EG%îèûè$‒= Xé▪̀5▪XX“çY•Që9ơQ‧G︎ñå{°@Kñáû▪´X!g@9$\u001aÚKEX%‟5í %5⁄9▪W3▪9▪5▪̀áâ#ﬂ•Á5▪¼4▪ÉZèQ$ç\n",
            "ă#▪YTY︎•G˚ﬂVÚûåD7▪üQ]®89•àK©⅓X‭~áOì9EXXñKÁ§KJXQ︎Gè˚” ZÁíåﬂ®â◊QñÂU#Eî ©í7É¿éùQñ︎9▪9EO\"©é̀5▪E#àéX{Xká˚Y•EÉNQÉ7•4▪#KTK⁄îú‟⅛êY•å�UW8▪VñZéXñ`‟éZ|ă®ê|4E{#Qư@ì‱§▪9E3àíÉXôKÂơ“ﬂ▪9•9•3▪$\\É̀éX»¼K%íè7¿4▪UáAEéFEëQ́|9ñAèûYEXG4Kè︎ﬂ‟EÉơ9⅛4E5O\\—‟TJK⅞Z»N@⅛D©í—ñ︎2▪í8XQ©}⅞™8▪9GZèEX▪ﬂ⅛{ó9J%§Jë\\êîó#⅛▪â�# ë§EYEè¼•ZYơ9▪àE•7á7>é︎EX9▪éW•T#ưíü$º~êE½&#▪EâWQº%EEYï¼Eä|ZB7▪9•W▪Q}##▪##Ú™8▪âZ•#•&2ZÚ#ñ#zç9~ó9▪•◊4K#E1EăK4▪7×ÉEﬂXVç5¼ê#Xø4QñíO9▪¾îJéÉ6▪AEE$í5úQÚ\n",
            "\n",
            "\n",
            "\n",
            "Attempt: \"A\" + 0.4\n",
            "-----------------------------------\n",
            "???? A▪çÉ#▪ÉQá9▪Eé7▪EKí7E%XE%%¼E2E3E%% #E%%%%%®K␣␣␣␣␣␣␣␣␣␣␣␣␣␣␣␣␣␣␣␣␣␣␣␣␣␣␣␣␣␣␣␣␣␣␣␣␣␣␣␣␣␣␣␣␣␣␣␣␣␣␣␣␣␣␣␣␣␣␣␣␣␣␣␣␣␣␣␣␣␣␣␣␣␣␣␣␣␣␣␣␣␣␣␣␣␣␣␣␣␣␣␣␣␣␣␣␣␣␣␣␣␣␣␣␣␣␣␣␣␣␣␣␣␣␣␣␣␣␣␣␣␣␣␣␣␣␣␣␣␣␣␣␣␣␣␣␣␣␣␣␣␣␣␣␣␣␣␣␣␣␣␣␣␣␣␣␣␣␣␣␣␣␣␣␣␣␣␣␣␣␣␣␣␣␣␣␣␣␣␣␣␣␣␣␣␣␣␣␣␣␣␣␣␣␣␣␣␣␣␣␣␣␣␣␣␣␣␣␣␣␣␣␣␣␣␣␣␣␣␣␣␣␣␣␣␣␣␣␣␣␣␣␣␣␣␣␣␣␣␣␣␣␣␣␣␣␣␣␣␣␣␣␣␣␣␣␣␣␣␣␣␣␣␣␣␣␣␣␣␣␣␣␣␣␣␣␣␣␣␣␣␣␣␣␣␣␣␣␣␣␣␣␣␣␣␣␣␣␣␣␣␣␣␣␣␣␣␣␣␣␣␣␣␣␣␣␣␣␣␣␣␣␣␣␣␣␣␣␣␣␣␣␣␣␣␣␣␣␣␣␣␣␣␣␣␣␣␣␣␣␣␣␣␣␣␣␣␣␣␣␣␣␣␣␣␣␣␣␣␣␣␣␣␣␣␣␣␣␣␣␣␣␣␣␣␣␣␣␣␣␣␣␣␣␣␣␣␣␣␣␣␣␣␣␣␣␣␣␣␣␣␣␣␣␣␣␣␣␣␣␣␣␣␣␣␣␣␣␣␣␣␣␣␣␣␣␣␣␣␣␣␣␣␣␣␣␣␣␣␣␣␣␣␣␣␣␣␣␣␣␣␣␣␣␣␣␣␣␣␣␣␣␣␣␣␣␣␣␣␣␣␣␣␣␣␣␣␣␣␣␣␣␣␣␣␣␣␣␣␣␣␣␣␣␣␣␣␣␣␣␣␣␣␣␣␣␣␣␣␣␣␣␣␣␣␣␣␣␣␣␣␣␣␣␣␣␣␣␣␣␣␣␣␣␣␣␣␣␣␣␣␣␣␣␣␣␣␣␣␣␣␣␣␣␣␣␣␣␣␣␣␣␣␣␣␣␣␣␣␣␣␣␣␣␣␣␣␣␣␣␣␣␣␣␣␣␣␣␣␣␣␣␣␣␣␣␣␣␣␣␣␣␣␣␣␣␣␣␣␣␣␣␣␣␣␣␣␣␣␣␣␣␣␣␣␣␣␣␣␣␣␣␣␣␣␣␣␣␣␣␣␣␣␣␣␣␣␣␣␣␣␣␣␣␣␣␣␣␣␣␣␣␣␣␣␣␣␣␣␣␣␣␣␣␣␣␣␣␣␣␣␣␣␣␣␣␣␣␣␣␣␣␣␣␣␣␣␣␣␣␣␣␣␣␣␣␣␣␣␣␣␣␣␣␣␣␣␣␣␣␣␣␣␣␣␣␣␣␣␣␣␣␣␣␣␣␣␣␣␣␣␣␣␣␣␣␣␣␣␣␣␣␣␣␣␣␣␣␣␣␣␣␣␣␣␣␣␣␣␣␣␣␣␣␣␣␣␣␣␣␣␣␣␣␣␣␣␣␣␣␣␣␣␣␣␣␣␣␣␣␣␣␣␣␣␣␣␣␣␣␣␣␣␣␣␣␣␣␣␣␣␣␣␣␣␣␣␣␣␣␣␣␣␣␣␣␣␣␣␣␣␣␣␣␣␣␣␣␣␣␣␣␣␣␣␣␣␣␣␣␣␣␣␣␣␣␣␣␣␣␣␣␣␣␣␣␣␣␣␣␣␣␣␣␣␣␣␣␣␣␣␣␣␣␣␣␣␣␣␣␣␣␣␣␣␣␣␣␣␣␣␣␣␣␣␣␣␣␣␣␣␣␣␣␣␣␣␣␣␣␣␣␣␣␣␣␣␣␣␣␣␣␣␣␣␣␣␣\n",
            "\n",
            "\n",
            "\n",
            "Attempt: \"A\" + 0.2\n",
            "-----------------------------------\n",
            "???? Aé7▪EEX•EE%XKKKKEEKKKREAEEEEEAEEAEEEEEEEEEEEEEETWXEEEXEEAEEE5E5EEXE•EKKí%%%#EKKKKNEEN␣␣␣␣␣␣␣␣␣␣␣␣␣␣␣␣␣␣␣␣␣␣␣␣␣␣␣␣␣␣␣␣␣␣␣␣␣␣␣␣␣␣␣␣␣␣␣␣␣␣␣␣␣␣␣␣␣␣␣␣␣␣␣␣␣␣␣␣␣␣␣␣␣␣␣␣␣␣␣␣␣␣␣␣␣␣␣␣␣␣␣␣␣␣␣␣␣␣␣␣␣␣␣␣␣␣␣␣␣␣␣␣␣␣␣␣␣␣␣␣␣␣␣␣␣␣␣␣␣␣␣␣␣␣␣␣␣␣␣␣␣␣␣␣␣␣␣␣␣␣␣␣␣␣␣␣␣␣␣␣␣␣␣␣␣␣␣␣␣␣␣␣␣␣␣␣␣␣␣␣␣␣␣␣␣␣␣␣␣␣␣␣␣␣␣␣␣␣␣␣␣␣␣␣␣␣␣␣␣␣␣␣␣␣␣␣␣␣␣␣␣␣␣␣␣␣␣␣␣␣␣␣␣␣␣␣␣␣␣␣␣␣␣␣␣␣␣␣␣␣␣␣␣␣␣␣␣␣␣␣␣␣␣␣␣␣␣␣␣␣␣␣␣␣␣␣␣␣␣␣␣␣␣␣␣␣␣␣␣␣␣␣␣␣␣␣␣␣␣␣␣␣␣␣␣␣␣␣␣␣␣␣␣␣␣␣␣␣␣␣␣␣␣␣␣␣␣␣␣␣␣␣␣␣␣␣␣␣␣␣␣␣␣␣␣␣␣␣␣␣␣␣␣␣␣␣␣␣␣␣␣␣␣␣␣␣␣␣␣␣␣␣␣␣␣␣␣␣␣␣␣␣␣␣␣␣␣␣␣␣␣␣␣␣␣␣␣␣␣␣␣␣␣␣␣␣␣␣␣␣␣␣␣␣␣␣␣␣␣␣␣␣␣␣␣␣␣␣␣␣␣␣␣␣␣␣␣␣␣␣␣␣␣␣␣␣␣␣␣␣␣␣␣␣␣␣␣␣␣␣␣␣␣␣␣␣␣␣␣␣␣␣␣␣␣␣␣␣␣␣␣␣␣␣␣␣␣␣␣␣␣␣␣␣␣␣␣␣␣␣␣␣␣␣␣␣␣␣␣␣␣␣␣␣␣␣␣␣␣␣␣␣␣␣␣␣␣␣␣␣␣␣␣␣␣␣␣␣␣␣␣␣␣␣␣␣␣␣␣␣␣␣␣␣␣␣␣␣␣␣␣␣␣␣␣␣␣␣␣␣␣␣␣␣␣␣␣␣␣␣␣␣␣␣␣␣␣␣␣␣␣␣␣␣␣␣␣␣␣␣␣␣␣␣␣␣␣␣␣␣␣␣␣␣␣␣␣␣␣␣␣␣␣␣␣␣␣␣␣␣␣␣␣␣␣␣␣␣␣␣␣␣␣␣␣␣␣␣␣␣␣␣␣␣␣␣␣␣␣␣␣␣␣␣␣␣␣␣␣␣␣␣␣␣␣␣␣␣␣␣␣␣␣␣␣␣␣␣␣␣␣␣␣␣␣␣␣␣␣␣␣␣␣␣␣␣␣␣␣␣␣␣␣␣␣␣␣␣␣␣␣␣␣␣␣␣␣␣␣␣␣␣␣␣␣␣␣␣␣␣␣␣␣␣␣␣␣␣␣␣␣␣␣␣␣␣␣␣␣␣␣␣␣␣␣␣␣␣␣␣␣␣␣␣␣␣␣␣␣␣␣␣␣␣␣␣␣␣␣␣␣␣␣␣␣␣␣␣␣␣␣␣␣␣␣␣␣␣␣␣␣␣␣␣␣␣␣␣␣␣␣␣␣␣␣␣␣␣␣␣␣␣␣␣␣␣␣␣␣␣␣␣␣␣␣␣␣␣␣␣␣␣␣␣␣␣␣␣␣␣␣␣␣␣␣␣␣␣␣␣␣␣␣␣␣␣␣␣␣␣␣␣␣␣␣␣␣␣␣␣␣␣␣␣␣␣␣␣␣␣␣␣␣␣␣␣␣␣␣␣␣␣␣␣␣␣\n",
            "\n",
            "\n",
            "\n",
            "Attempt: \"B\" + 1.0\n",
            "-----------------------------------\n",
            "???? BÁ¤6F}É”>X́Ú▪X‧ơ5▪Yñ=“$éEüKûàEEYKKTÚ´åñj︎×ü¾X`F®YJèÉE︎E\\�́×áA\u001aQÉ ﬂ:vă§ú6•ñ6EéEY•E‭ëG4Eüé▪Zî7ñº6Qư˚$@í5K8E€§è7É47•|:#­‟9{XE¤`◊ZÁ9áE®©””{X▪ÉX‟▪K¾J—´q+A!˚Ú=©—€ë2öîêèºÉ5Qv§[‒í9ơè⅛!½Â%4E%è:=èâ7E5EëÚ°ç▪ä•K2▪ÉYQ}á¾ç︎́G<®çD8zîEZîJư‧EÉóKJÉ4▪E⅓¾ôQ‟ëQjÉ︎W◊Á#˚§ÉK%î9K®G“_ơü7&‱p▪€5▪ùÉñ⁄®ê8úXâîéW0▪5$‒?5▪$×▪̀8×[üP▪&4ﬂ°û#Xû▪X4▪•BHJ¼îêG%E”92W\\°xéô0$¤T4K“ %Z9AYIäKﬂ}K}ă7•R‒ Q§́▪9EöAE•EPYHù◊R⅓9E©éñô#éQ⅛Q—¿ñNSèBVHX´:ø98E%Yè7âèX•f••2T>îú4▪çÉ§E´:Y':3▪=▪>“”K`␣HÚ®Q◊$)á‧◊îè5CV6▪´Kâ¤B5VWm︎èVy$çS´Éơ_f‚íº\\\"¤Jﬂ|OE#§_#ă9‒◊▪7VÁ|G_è%>,âéû9•‟4E¤ưGEX+øúà▪EXû9Y—Ú9▪É\u001a#︎íé+4P9▪G6YEñEU­\\É_€QñáïÉ⁄ﬂàèY$:óà$’)—ơîGç$Á€ơ•\u001aUèäZÁø3X¿å­–▪⅞Q⅛ÁAÂ$‧}TäUYáJ⅛EX€9▪7öEW•ơéK»U“⅛=̀['çUQ⅛ﬂ{︎KB½•®IO%¿EÉ%$Ú9J{í5▪@#É7©âO%§Xâ3▪8E2Q­º©êv0▪°*︎@ơ‧ìï⅞‟‚è5Z\\ëK#´⅓⅓#⅛Kú#Á—ø{øàñ\u001aA5▪▪É€à|É▪ç5ñ´L>XjçÁ€îX⅞ZJñZ̀»ÝQ•ëZ€9§Ú•#Q$ø€áQì M#ñA{•˚è0TéöºK¾%4⅞Ú#⅞{�ç9“É ḯç®‟ÉEQv»à¼Qâ¾97X´%6▪ư7▪ôﬂZư§9èáQèQ©ôă�%å”9Xó7‭ă4ø!ÉOÉơ´Y‒XEéJñJ[ù©‒ơç5▪•9•°©áăQçâ€ü9•ZS4×#ûé§Qñ7&©v©â#ư}Zë̀KKÂXè|8▪4€áÉKü︎¤Yâ¤°´⅛‱[/­]áC⅛Úâﬂ_‱ï ú]$:ê•™Z�]⅞€4E⅓WZ¤¼äơX‒9•E–\n",
            "\n",
            "\n",
            "\n",
            "Attempt: \"B\" + 0.8\n",
            "-----------------------------------\n",
            "???? B$ñÉEí0▪9▪Úâ©Y5E⁄É|⅛7$%•3▪W4X́́6EÂQ‚Q»⅓5▪XçK$}_#E‭7E‧︎‭Q{ăîö“0ùÉ@%#á5▪8▪°í”íàê▪•XZ%̀[%~É#©ú#Éñ9Eé4▪EQøÉXø9Z°ú7$éêZH[0#øä#í9$ó¿Ú9ÚûQơ9•EîHóKû€Y©Eơ¾9&Y`®ø={!ÂE$kZ‧!GÂ%íQ1}Rî$Ú5•j°§RRỲÚ§ư®éQL̀*”Y%â9EÚ#É%#¤9•#é#ăç▪5I%9EëYYÉ#E{å­§4▪¼Xñ¿ﬂ▪5▪¤+î5Y⅞Gñ®—◊9▪´J⁄¾E>ÂåY©~▪7í9EÉE”3▪5▪•24▪49▪5E|7▪ZÉ=€W3▪4‒QÂ‱#êç4[+︎|óü4▪Z ¼Eê▪€®3▪▪á“€ñ=`N½•Y§ñ3▪7▪T‚EÂ×�︎‧™5▪ê•4í‱5▪▪â5E>¼E5▪•áEQÉ▪Wq⁄@Z~®9•78ï9•7ñQEZèºÚ5E\\}ºÉQöZ>\u001aE8EWE&%‧ìèíÉ9▪êE5E5•Z$§E#×ñ︎XK0▪Qç4▪9▪©Z`Éø½⅛ÉÉWQ‭9E$•_⅓J&7E\u001aåâ$ì▪#É“ÚóèìX©ë$ﬂ´®7é5́X•%A[_Ú!$Iă‒%ë6▪‒5▪5▪2Eﬂ4Eç`å”B:øG7Yîé9▪<<=¾E9•7▪•E!6Oø=ÉO9▪6E5▪í9“íèüQ­â9▪Z©ì ▪â9ë︎X“%©é$©¾Q©á<Éñ9ø©‱5•3▪5▪JNÚ9®9»˚\u001aÉ+ô•#7▪EàE$ç5▪•½é5E2|4Q2N“:̀WY▪íQ»»ơWKÁúQïóAé4N—xñ\n",
            "®︎̀:‭HX“ìûø•5íQf%‧Hﬂ•ø7E¿`ç▪ZZê43▪#éYî<ơKîçû9▪»˚™íâ!á»©‒<bW¤á7î#⅓¼à▪EQv_]QÂ#H⁄ﬂ=z§°‧‚YÚóYêEX‟G%§¼E9J¤▪VÚ’Y‱®6E6E<@ﬂ¤9W‚E#ﬂ+3•Y½EX’7$ÉÉ°>°´4▪é7•ZJ®åÁMë×‒óè9▪7▪9•V‚•G˚ç49•åWK<Xç•&G#Á%EïT9ùáư`ăÉXç▪¾É▪9▪<JäÉ‧ìﬂﬂ9ú5EéW~:‱▪9•Y9E{âL¼EZ⅓L•5ÉZơQ◊Z⅛NàE™⅛Uﬂ=â@EåÉ5▪ưÉ~‒Q =▪E▪7QWW5E7EX•î6E⅓EàññZ‟#ÂZQøâ#°€ï©í9•9•EQ•G_ơ%|ì°KGë´E¼E2▪4▪@ùô|\n",
            "\n",
            "\n",
            "\n",
            "Attempt: \"B\" + 0.4\n",
            "-----------------------------------\n",
            "???? B7▪Eé9▪EOEXE%Q▪U%3E%X%KKKKKKEEENT␣␣␣␣␣␣␣␣␣␣␣␣␣␣␣␣␣␣␣␣␣␣␣␣␣␣␣␣␣␣␣␣␣␣␣␣␣␣␣␣␣␣␣␣␣␣␣␣␣␣␣␣␣␣␣␣␣␣␣␣␣␣␣␣␣␣␣␣␣␣␣␣␣␣␣␣␣␣␣␣␣␣␣␣␣␣␣␣␣␣␣␣␣␣␣␣␣␣␣␣␣␣␣␣␣␣␣␣␣␣␣␣␣␣␣␣␣␣␣␣␣␣␣␣␣␣␣␣␣␣␣␣␣␣␣␣␣␣␣␣␣␣␣␣␣␣␣␣␣␣␣␣␣␣␣␣␣␣␣␣␣␣␣␣␣␣␣␣␣␣␣␣␣␣␣␣␣␣␣␣␣␣␣␣␣␣␣␣␣␣␣␣␣␣␣␣␣␣␣␣␣␣␣␣␣␣␣␣␣␣␣␣␣␣␣␣␣␣␣␣␣␣␣␣␣␣␣␣␣␣␣␣␣␣␣␣␣␣␣␣␣␣␣␣␣␣␣␣␣␣␣␣␣␣␣␣␣␣␣␣␣␣␣␣␣␣␣␣␣␣␣␣␣␣␣␣␣␣␣␣␣␣␣␣␣␣␣␣␣␣␣␣␣␣␣␣␣␣␣␣␣␣␣␣␣␣␣␣␣␣␣␣␣␣␣␣␣␣␣␣␣␣␣␣␣␣␣␣␣␣␣␣␣␣␣␣␣␣␣␣␣␣␣␣␣␣␣␣␣␣␣␣␣␣␣␣␣␣␣␣␣␣␣␣␣␣␣␣␣␣␣␣␣␣␣␣␣␣␣␣␣␣␣␣␣␣␣␣␣␣␣␣␣␣␣␣␣␣␣␣␣␣␣␣␣␣␣␣␣␣␣␣␣␣␣␣␣␣␣␣␣␣␣␣␣␣␣␣␣␣␣␣␣␣␣␣␣␣␣␣␣␣␣␣␣␣␣␣␣␣␣␣␣␣␣␣␣␣␣␣␣␣␣␣␣␣␣␣␣␣␣␣␣␣␣␣␣␣␣␣␣␣␣␣␣␣␣␣␣␣␣␣␣␣␣␣␣␣␣␣␣␣␣␣␣␣␣␣␣␣␣␣␣␣␣␣␣␣␣␣␣␣␣␣␣␣␣␣␣␣␣␣␣␣␣␣␣␣␣␣␣␣␣␣␣␣␣␣␣␣␣␣␣␣␣␣␣␣␣␣␣␣␣␣␣␣␣␣␣␣␣␣␣␣␣␣␣␣␣␣␣␣␣␣␣␣␣␣␣␣␣␣␣␣␣␣␣␣␣␣␣␣␣␣␣␣␣␣␣␣␣␣␣␣␣␣␣␣␣␣␣␣␣␣␣␣␣␣␣␣␣␣␣␣␣␣␣␣␣␣␣␣␣␣␣␣␣␣␣␣␣␣␣␣␣␣␣␣␣␣␣␣␣␣␣␣␣␣␣␣␣␣␣␣␣␣␣␣␣␣␣␣␣␣␣␣␣␣␣␣␣␣␣␣␣␣␣␣␣␣␣␣␣␣␣␣␣␣␣␣␣␣␣␣␣␣␣␣␣␣␣␣␣␣␣␣␣␣␣␣␣␣␣␣␣␣␣␣␣␣␣␣␣␣␣␣␣␣␣␣␣␣␣␣␣␣␣␣␣␣␣␣␣␣␣␣␣␣␣␣␣␣␣␣␣␣␣␣␣␣␣␣␣␣␣␣␣␣␣␣␣␣␣␣␣␣␣␣␣␣␣␣␣␣␣␣␣␣␣␣␣␣␣␣␣␣␣␣␣␣␣␣␣␣␣␣␣␣␣␣␣␣␣␣␣␣␣␣␣␣␣␣␣␣␣␣␣␣␣␣␣␣␣␣␣␣␣␣␣␣␣␣␣␣␣␣␣␣␣␣␣␣␣␣␣␣␣␣␣␣␣␣␣␣␣␣␣␣␣␣␣␣␣␣␣␣␣␣␣␣␣␣␣␣␣␣␣␣␣␣␣␣␣␣␣␣␣␣␣␣␣␣␣␣␣␣␣␣␣␣␣␣␣␣␣␣␣␣␣␣␣␣␣␣␣␣␣␣␣␣␣␣␣␣␣␣␣␣␣␣␣␣␣␣␣␣␣␣\n",
            "\n",
            "\n",
            "\n",
            "Attempt: \"B\" + 0.2\n",
            "-----------------------------------\n",
            "???? B7▪EX•EKKKKKEEEAEEAEEEEEEXEEEEEEEEEEEAEEEEEEEWXEEEKKKT®EEAEEEEAEEEEEEEEEEETKKT®T␣␣␣␣␣␣␣␣␣␣␣␣␣␣␣␣␣␣␣␣␣␣␣␣␣␣␣␣␣␣␣␣␣␣␣␣␣␣␣␣␣␣␣␣␣␣␣␣␣␣␣␣␣␣␣␣␣␣␣␣␣␣␣␣␣␣␣␣␣␣␣␣␣␣␣␣␣␣␣␣␣␣␣␣␣␣␣␣␣␣␣␣␣␣␣␣␣␣␣␣␣␣␣␣␣␣␣␣␣␣␣␣␣␣␣␣␣␣␣␣␣␣␣␣␣␣␣␣␣␣␣␣␣␣␣␣␣␣␣␣␣␣␣␣␣␣␣␣␣␣␣␣␣␣␣␣␣␣␣␣␣␣␣␣␣␣␣␣␣␣␣␣␣␣␣␣␣␣␣␣␣␣␣␣␣␣␣␣␣␣␣␣␣␣␣␣␣␣␣␣␣␣␣␣␣␣␣␣␣␣␣␣␣␣␣␣␣␣␣␣␣␣␣␣␣␣␣␣␣␣␣␣␣␣␣␣␣␣␣␣␣␣␣␣␣␣␣␣␣␣␣␣␣␣␣␣␣␣␣␣␣␣␣␣␣␣␣␣␣␣␣␣␣␣␣␣␣␣␣␣␣␣␣␣␣␣␣␣␣␣␣␣␣␣␣␣␣␣␣␣␣␣␣␣␣␣␣␣␣␣␣␣␣␣␣␣␣␣␣␣␣␣␣␣␣␣␣␣␣␣␣␣␣␣␣␣␣␣␣␣␣␣␣␣␣␣␣␣␣␣␣␣␣␣␣␣␣␣␣␣␣␣␣␣␣␣␣␣␣␣␣␣␣␣␣␣␣␣␣␣␣␣␣␣␣␣␣␣␣␣␣␣␣␣␣␣␣␣␣␣␣␣␣␣␣␣␣␣␣␣␣␣␣␣␣␣␣␣␣␣␣␣␣␣␣␣␣␣␣␣␣␣␣␣␣␣␣␣␣␣␣␣␣␣␣␣␣␣␣␣␣␣␣␣␣␣␣␣␣␣␣␣␣␣␣␣␣␣␣␣␣␣␣␣␣␣␣␣␣␣␣␣␣␣␣␣␣␣␣␣␣␣␣␣␣␣␣␣␣␣␣␣␣␣␣␣␣␣␣␣␣␣␣␣␣␣␣␣␣␣␣␣␣␣␣␣␣␣␣␣␣␣␣␣␣␣␣␣␣␣␣␣␣␣␣␣␣␣␣␣␣␣␣␣␣␣␣␣␣␣␣␣␣␣␣␣␣␣␣␣␣␣␣␣␣␣␣␣␣␣␣␣␣␣␣␣␣␣␣␣␣␣␣␣␣␣␣␣␣␣␣␣␣␣␣␣␣␣␣␣␣␣␣␣␣␣␣␣␣␣␣␣␣␣␣␣␣␣␣␣␣␣␣␣␣␣␣␣␣␣␣␣␣␣␣␣␣␣␣␣␣␣␣␣␣␣␣␣␣␣␣␣␣␣␣␣␣␣␣␣␣␣␣␣␣␣␣␣␣␣␣␣␣␣␣␣␣␣␣␣␣␣␣␣␣␣␣␣␣␣␣␣␣␣␣␣␣␣␣␣␣␣␣␣␣␣␣␣␣␣␣␣␣␣␣␣␣␣␣␣␣␣␣␣␣␣␣␣␣␣␣␣␣␣␣␣␣␣␣␣␣␣␣␣␣␣␣␣␣␣␣␣␣␣␣␣␣␣␣␣␣␣␣␣␣␣␣␣␣␣␣␣␣␣␣␣␣␣␣␣␣␣␣␣␣␣␣␣␣␣␣␣␣␣␣␣␣␣␣␣␣␣␣␣␣␣␣␣␣␣␣␣␣␣␣␣␣␣␣␣␣␣␣␣␣␣␣␣␣␣␣␣␣␣␣␣␣␣␣␣␣␣␣␣␣␣␣␣␣␣␣␣␣␣␣␣␣␣␣␣␣␣␣␣␣␣␣␣␣␣␣␣␣␣␣␣␣␣␣␣␣␣␣␣␣␣␣␣␣␣␣␣␣␣␣␣␣␣␣␣␣␣␣␣␣␣␣␣␣␣␣\n",
            "\n",
            "\n",
            "\n",
            "Attempt: \"C\" + 1.0\n",
            "-----------------------------------\n",
            "???? Cç︎©ó×§àà‟ H‟ﬂ%k‱+HKj︎#⁄øUHëB€7ñX¼‭KÚ$⅞Eûé7ÈìQ¾_€D|öùA[ÉÚ6àJG’°j®uJ <“û;€ìèâăE#áÚ4▪Eơ⅛]K‧ Éá[´åK“́©éè$‱’ö´Q⅓>́⅛A9´\\»ﬂá7▪Q9⁄­9ﬂ$—ư�‱9Y{óG0Úë{ñ@èK#çRÉ#ü•¤QÉÂø»ơ4ă▪)⅛‚z}EÉô#‧•5▪▪í5E¿úç_ơz°_︎G‟\\ó=ZìYăQvYÁó©ÉEE>EuX©­à⅓Q\\7ÂE¤>´E9E´©™EﬂîK˚ñ︎3Hºü°íă⅞\n",
            "'èâàEîî{é#%7ïí4▪9E•‚»]̀�˚\\í︎$ñø@︎îG4N\u001aÚ4á#Y‱ú:9~N⅞‚ºî´à#Úúü#”°>̀##l5RK—ä!‟X▪â9Eø”#$Á»ôñ~#íÚ®8ç�⅞J=ñ\\é:•́¤å”EóE”P▪\\Yñ=å|7EXK$x▪™´�§¼W‚#â#>í5E%9U&KKK´§¾´5Éù▪]°Iè5EÚ]èêE7ññàKKîâ’èåKÚ‧UQU9âúí¿íóW�—¾́©Úà▪E)ââàEW×û¿‱ôâçÉ~Ú´>é—9⅞GÉ{û5¤ôK‧Úå–▪4Y#E$,▪▪Mé5EçüWX3ô©N5▪•▪Yơ®‭6•×8▪Eèâ%bô9•Xñ€‧•íÚX⅞ ÉF▪ê>⁄UìéÚ9▪▪•[êă`‱>~´9K︎̀ưÚ◊ﬂ9▪É7▪▪ñ5€â▪$•ñQ‧<K™í7E2é́å‒C®LEàOÚP▪Q︎‚4W\"áE§ăQñøZñ”ưù½![ü|8EåYè©éKc#‚ìë<ă▪UVJ$ì⅓F§¼W¿¾ZÉ®f▪éW<ùî8▪•HN•P▪è| ▪7̀E#x*0ëZ×\\´: Ú®û¿ê¼§˚~⅓ơ[zî︎4#˚í©T©ﬂøá8©OÉ”VZ>éOE~Qñ9▪°ư\u001agXéP▪ơ=⅓­EâöVïX‱ç9Yëøí#‒ﬂ7¼—:ñ=J¤#éEÉ$´@®©íÂ½N»◊3éZ⁄Q\\⅛——◊ø7•ÚGB0KQ⅛z\n",
            "#B®⅓▪í7<´Eâ™üL#⅛Gá‱E0E4E#⅛¾3V§E•C4˚<àëGë½̀6#€‚Eêåû“©OG⅓_ñ︎éà5▪◊ñ⅛H€L5UE5´QJëQ´[É‱̀#É•K™Qú×áÉ\u001a9•hÚ5•$»X3ZâèXë\u001aXçG:ï‚ñ4G6K~E<︎EúKk*âá®“Zñ3▪GîE4EXK⁄9è5•=:©+ökK␣øí7Eìâ$èä$̀ﬂÚå©Gâ5\n",
            "\n",
            "\n",
            "\n",
            "Attempt: \"C\" + 0.8\n",
            "-----------------------------------\n",
            "???? C7▪2YEAéXºﬂ5EÉQê⁄X•Ú®9½EJ»EQ•K™®KúYå˚ûé7§ơ\u001a`ﬂ=‚´§9‒7▪7EX‱~9ÁE_è@ç4•N®jÉ▪´9EY︎0K®+Jx▪5•âQñ$ëZëøú#ñ47E▪#~G\n",
            "⅛ZîÉ¿üKñ\u001aä9&Eﬂ5U◊Ză5▪ëX>€‧ñ\n",
            "!®5©óU%GîZ4=á“åàEøﬂé\n",
            "@ë8▪Bâø7ﬂ\u001a&èèXñYê▪˚°É•Gơ_ÚúW©︎àå9E§E—å`=(îơ<éâ;EEQA~Eè%⅛G4EÉôì⁄X­ íî9•Q\u001a[~­ñLK⅛#â�îÁX2Q︎ëﬂÈ%kH⅛‟™\u001a$é6▪7▪⅓Á8E\u001aEIkK•D5ưûUë9E8V™EèZçÁÚé>ì#6K+KZ⅞EKAơY'̀ñ½í+é5▪EÉñ®ç7ăéK9E#KZ{%á⅞öó9E­\u001aX½EAE#E%BôÉ8&EÂá%%$ﬂè%ñQï9▪’¼G5E‱àäQơçîXÉ©ç7Z5`ZàE!QG.⁄EÉ´OC2»º9▪9•7▪W*êâ$ôAô‱»7âëZ‭âÉ9•ÚZ%3Eö9YÚ#OEUCNFEOG¾EQ½#ﬂ5▪5é3▪YñZç▪»4í9▪&5EEÚå▪ﬂî9▪2▪5▪ơG̀ñ5Ú€âEèÉèÁQN—‟&ÚÚ5&öáﬂ7▪EáE$ưí#ñHhP▪5▪2}ç4▪9▪YGàNëX\\2é5▪▪8Zïă&=ă55▪O︎X“‚Wé©#C▪Kí7▪EîèXﬂ︎¤#ă▪•9•§93#{~Qơ⁄}◊ÉèEX´K%ơ8▪ü5E4¼+ﬂñX‟àÂﬂ9á7▪9E´X$`‒î9▪áE‟É9¾▪9▪7E<úDåÉçºKñ5E çáG•ÉGX▪9E9F‱9•g5\\î>©‭¿\u001aJÉX[~É#×§\\\u001aç‧%3▪»è6▪7▪▪4▪9▪7#▪+á#▪O\u001a5EF@▪7▪IK®×®ó7]ó5▪GYÁÉYáëÁñ5U3▪#\\ư•`ÚỲ¤F•Y$=́ư9J—{︎KPV‧9•\u001aí7•▪5▪5▪Ú2▪WôQ»“–]ì9▪54▪úQ=é5ñ+9▪4▪_É€Xñ︎í4E“ìE4EÚ9▪G_%ñèë︎4EôYº%Kâ¾àEY'◊î™îLKZê▪•+6E3Q QîX©▪EQí îÚơÉ§{º»àEàE⅛!<˚L•6F▪XYYÂNN¼:í~_î9▪Eưó“7EZﬂåîQÁ‱9ET̀´§Kí˚áOY‱H◊°BQ�ÉZE#©&àE:9éí9D▪OE{=⅛E}Â9▪YëÉ‟É⁄[©î™Kç®ô®cS:4ö’§Eé\n",
            "\n",
            "\n",
            "\n",
            "Attempt: \"C\" + 0.4\n",
            "-----------------------------------\n",
            "???? C4▪7▪▪▪•3E#EQ▪E%%Zç7▪•3▪#´QñKí#àEî5▪é7▪EáE▪QK>ÉZ»KHX+B7•3▪•Q▪Eó%E#é3▪9▪E|Qñ5▪▪9▪É▪$àEéQ⅓Yñ9▪Qç7▪7▪5▪7▪▪7▪EXE%3EW5E6EYâí5▪▪•à▪7▪E5▪#▪5▪9▪EEEí%#$ë%ñ5▪9•9▪•#×ÉQ▪#Q▪5E#▪Q▪9EQ¤#▪EEEKKí%KKKKZEN®␣0E%X_%E%KZî#©N~ñ9•9•7àEÉZ°ÚÉè:4E5EZK•KT×Ú9•Kí™G%%í7▪Që9▪▪•AEéXé3▪7E#‱KvNQç▪%#▪9▪Qñ9▪É▪É4•##▪Qç9▪7▪•G4EKG4EXÉEÉ#E%Xñç▪•#$íë¼EéQKKYÚí9EEè@▪EéEX$êEE%4EX%X%%‒E+KKKTN␣␣␣␣␣␣␣␣␣␣␣␣␣␣␣␣␣␣␣␣␣␣␣␣␣␣␣␣␣␣␣␣␣␣␣␣␣␣␣␣␣␣␣␣␣␣␣␣␣␣␣␣␣␣␣␣␣␣␣␣␣␣␣␣␣␣␣␣␣␣␣␣␣␣␣␣␣␣␣␣␣␣␣␣␣␣␣␣␣␣␣␣␣␣␣␣␣␣␣␣␣␣␣␣␣␣␣␣␣␣␣␣␣␣␣␣␣␣␣␣␣␣␣␣␣␣␣␣␣␣␣␣␣␣␣␣␣␣␣␣␣␣␣␣␣␣␣␣␣␣␣␣␣␣␣␣␣␣␣␣␣␣␣␣␣␣␣␣␣␣␣␣␣␣␣␣␣␣␣␣␣␣␣␣␣␣␣␣␣␣␣␣␣␣␣␣␣␣␣␣␣␣␣␣␣␣␣␣␣␣␣␣␣␣␣␣␣␣␣␣␣␣␣␣␣␣␣␣␣␣␣␣␣␣␣␣␣␣␣␣␣␣␣␣␣␣␣␣␣␣␣␣␣␣␣␣␣␣␣␣␣␣␣␣␣␣␣␣␣␣␣␣␣␣␣␣␣␣␣␣␣␣␣␣␣␣␣␣␣␣␣␣␣␣␣␣␣␣␣␣␣␣␣␣␣␣␣␣␣␣␣␣␣␣␣␣␣␣␣␣␣␣␣␣␣␣␣␣␣␣␣␣␣␣␣␣␣␣␣␣␣␣␣␣␣␣␣␣␣␣␣␣␣␣␣␣␣␣␣␣␣␣␣␣␣␣␣␣␣␣␣␣␣␣␣␣␣␣␣␣␣␣␣␣␣␣␣␣␣␣␣␣␣␣␣␣␣␣␣␣␣␣␣␣␣␣␣␣␣␣␣␣␣␣␣␣␣␣␣␣␣␣␣␣␣␣␣␣␣␣␣␣␣␣␣␣␣␣␣␣␣␣␣␣␣␣␣␣␣␣␣␣␣␣␣␣␣␣␣␣␣␣␣␣␣␣␣␣␣␣␣␣␣␣␣␣␣␣␣␣␣␣␣␣␣␣␣␣␣␣␣␣␣␣␣␣␣␣␣␣␣␣␣␣␣␣␣␣␣␣␣␣␣␣␣␣␣␣␣␣␣␣␣␣␣␣␣␣␣␣␣␣␣␣␣␣␣␣␣␣␣␣␣␣␣␣␣␣␣␣␣␣␣␣␣␣␣␣␣␣␣␣␣␣␣␣␣␣␣␣␣␣␣␣␣␣␣␣␣␣␣␣␣␣␣␣␣␣␣␣␣␣␣␣␣␣␣␣␣␣␣␣␣␣␣␣␣␣␣␣␣␣␣␣␣␣␣␣␣␣␣␣␣␣␣␣␣␣␣␣␣␣␣␣␣␣␣␣␣␣␣␣␣␣␣␣␣␣\n",
            "\n",
            "\n",
            "\n",
            "Attempt: \"C\" + 0.2\n",
            "-----------------------------------\n",
            "???? C0▪EX▪EEÉQ▪EEéE#Q▪7▪Eí5▪EX•EKKKKíÉQ▪EEEXEEQç▪9▪9▪9▪9▪Q▪Qñ5▪▪9▪EQç4▪5▪•9▪EEEXEÉEÉQç9▪•G3▪•3▪•3▪•G4•3▪#Q▪9•3▪•3▪•3▪•3▪•3▪•3▪•3▪•3▪•3▪7▪•3▪•3▪7▪•3▪•3▪•3▪•3▪•5▪•3▪•3▪•3▪•Q▪Eí5▪•3▪•3▪5▪•3▪•3▪•3▪•3▪•3▪•3▪7▪•5▪•Q▪•3▪5▪•3▪•3▪5▪•3▪•Q▪EKKKYEEEY'í9EEÉXEE%%X%%%%%3E9•KKK®KKEEEEAEETT␣␣␣␣␣␣␣␣␣␣␣␣␣␣␣␣␣␣␣␣␣␣␣␣␣␣␣␣␣␣␣␣␣␣␣␣␣␣␣␣␣␣␣␣␣␣␣␣␣␣␣␣␣␣␣␣␣␣␣␣␣␣␣␣␣␣␣␣␣␣␣␣␣␣␣␣␣␣␣␣␣␣␣␣␣␣␣␣␣␣␣␣␣␣␣␣␣␣␣␣␣␣␣␣␣␣␣␣␣␣␣␣␣␣␣␣␣␣␣␣␣␣␣␣␣␣␣␣␣␣␣␣␣␣␣␣␣␣␣␣␣␣␣␣␣␣␣␣␣␣␣␣␣␣␣␣␣␣␣␣␣␣␣␣␣␣␣␣␣␣␣␣␣␣␣␣␣␣␣␣␣␣␣␣␣␣␣␣␣␣␣␣␣␣␣␣␣␣␣␣␣␣␣␣␣␣␣␣␣␣␣␣␣␣␣␣␣␣␣␣␣␣␣␣␣␣␣␣␣␣␣␣␣␣␣␣␣␣␣␣␣␣␣␣␣␣␣␣␣␣␣␣␣␣␣␣␣␣␣␣␣␣␣␣␣␣␣␣␣␣␣␣␣␣␣␣␣␣␣␣␣␣␣␣␣␣␣␣␣␣␣␣␣␣␣␣␣␣␣␣␣␣␣␣␣␣␣␣␣␣␣␣␣␣␣␣␣␣␣␣␣␣␣␣␣␣␣␣␣␣␣␣␣␣␣␣␣␣␣␣␣␣␣␣␣␣␣␣␣␣␣␣␣␣␣␣␣␣␣␣␣␣␣␣␣␣␣␣␣␣␣␣␣␣␣␣␣␣␣␣␣␣␣␣␣␣␣␣␣␣␣␣␣␣␣␣␣␣␣␣␣␣␣␣␣␣␣␣␣␣␣␣␣␣␣␣␣␣␣␣␣␣␣␣␣␣␣␣␣␣␣␣␣␣␣␣␣␣␣␣␣␣␣␣␣␣␣␣␣␣␣␣␣␣␣␣␣␣␣␣␣␣␣␣␣␣␣␣␣␣␣␣␣␣␣␣␣␣␣␣␣␣␣␣␣␣␣␣␣␣␣␣␣␣␣␣␣␣␣␣␣␣␣␣␣␣␣␣␣␣␣␣␣␣␣␣␣␣␣␣␣␣␣␣␣␣␣␣␣␣␣␣␣␣␣␣␣␣␣␣␣␣␣␣␣␣␣␣␣␣␣␣␣␣␣␣␣␣␣␣␣␣␣␣␣␣␣␣␣␣␣␣␣␣␣␣␣␣␣␣␣␣␣␣␣␣␣␣␣␣␣␣␣␣␣␣␣␣␣␣␣␣␣␣␣␣␣␣␣␣␣␣␣␣␣␣␣␣␣␣␣␣␣␣␣␣␣␣␣␣␣␣␣␣␣␣␣␣␣␣␣␣␣␣␣␣␣␣␣␣␣␣␣␣␣␣␣␣␣␣␣␣␣␣␣␣␣␣␣␣␣␣␣␣␣␣␣␣␣␣␣␣␣␣␣␣␣␣␣␣␣␣␣␣␣␣␣␣␣␣␣␣␣␣␣␣␣␣␣␣␣␣␣␣␣␣␣␣␣␣␣␣␣␣␣␣␣␣␣␣␣\n",
            "\n",
            "\n",
            "\n",
            "Attempt: \"O\" + 1.0\n",
            "-----------------------------------\n",
            "???? O L#ÉK▪8E%[üZMèYzº⅞Qﬂ9•Yé5ET$Jññä3“QÉ¼èơZ˚âư#[´[+␣~'=è+4▪½êâëA▪P€€èư éQ:{}HÉáX⅞~Q‟ﬂàV_Ú©◊Qé\\[è<»ú7|€⁄ü5ǻK[é©É‭çÉăG8•É¿âëú ÚÉ⅛NơT︎ô¤WY‒¿éï66▪▪X‧•7øFAơ˚ă‚‟WơÉóWZ´Y´’îưX‟K▪ÉZHJÉUCàø=_ºQ|=$E!¼V#6áEEEWK$EXúX©TèZ7Vä@•ưS︎¼Z̀X́Y︎ưù9▪#è\u001a•2<z⅓éX9▪Zù6E3EY‱‚W\n",
            ";␣K␣␣␣␣␣␣␣␣␣␣␣␣␣␣␣␣␣␣␣␣␣␣␣␣␣␣␣␣␣␣␣␣␣␣␣␣␣␣␣␣␣␣␣␣␣␣␣␣␣␣␣␣␣␣␣␣␣␣␣␣␣␣␣␣␣␣␣␣␣␣␣␣␣␣␣␣␣␣␣␣␣␣␣␣␣␣␣␣␣␣␣␣␣␣␣␣␣␣␣␣␣␣␣␣␣␣␣␣␣␣␣␣␣␣␣␣␣␣␣␣␣␣␣␣␣␣␣␣␣␣␣␣␣␣␣␣␣␣␣␣␣␣␣␣␣␣␣␣␣␣␣␣␣␣␣␣␣␣␣␣␣␣␣␣␣␣␣␣␣␣␣␣␣␣␣␣␣␣␣␣␣␣␣␣␣␣␣␣␣␣␣␣␣␣␣␣␣␣␣␣␣␣␣␣␣␣␣␣␣␣␣␣␣␣␣␣␣␣␣␣␣␣␣␣␣␣␣␣␣␣␣␣␣␣␣␣␣␣␣␣␣␣␣␣␣␣␣␣␣␣␣␣␣␣␣␣␣␣␣␣␣␣␣␣␣␣␣␣␣␣␣␣␣␣␣␣␣␣␣␣␣␣␣␣␣␣␣␣␣␣␣␣␣␣␣␣␣␣␣␣␣␣␣␣␣␣␣␣␣␣␣␣␣␣␣␣␣␣␣␣␣␣␣␣␣␣␣␣␣␣␣␣␣␣␣␣␣␣␣␣␣␣␣␣␣␣␣␣␣␣␣␣␣␣␣␣␣␣␣␣␣␣␣␣␣␣␣␣␣␣␣␣␣␣␣␣␣␣␣␣␣␣␣␣␣␣␣␣␣␣␣␣␣␣␣␣␣␣␣␣␣␣␣␣␣␣␣␣␣␣␣␣␣␣␣␣␣␣␣␣␣␣␣␣␣␣␣␣␣␣␣␣␣␣␣␣␣␣␣␣␣␣␣␣␣␣␣␣␣␣␣␣␣␣␣␣␣␣␣␣␣␣␣␣␣␣␣␣␣␣␣␣␣␣␣␣␣␣␣␣␣␣␣␣␣␣␣␣␣␣␣␣␣␣␣␣␣␣␣␣␣␣␣␣␣␣␣␣␣␣␣␣␣␣␣␣␣␣␣␣␣␣␣␣␣␣␣␣␣␣␣␣␣␣␣␣␣␣␣␣␣␣␣␣␣␣␣␣␣␣␣␣␣␣␣␣␣␣␣␣␣␣␣␣␣␣␣␣␣␣␣␣␣␣␣␣␣␣␣␣␣␣␣␣␣␣␣␣␣␣␣␣␣␣␣␣␣␣␣␣␣␣␣␣␣␣␣␣␣␣␣␣␣␣␣␣␣␣␣␣␣␣␣␣␣␣␣␣␣␣␣␣␣␣␣␣␣␣␣␣␣␣␣␣␣␣␣␣␣␣␣␣␣␣␣␣␣␣␣␣␣␣␣␣␣␣␣␣␣␣␣␣␣␣␣␣␣␣␣␣␣␣␣␣␣␣␣␣␣␣␣␣␣␣␣␣␣␣␣␣␣␣␣␣␣␣␣␣␣␣␣␣␣␣␣␣␣␣␣␣␣␣␣␣␣␣␣␣␣␣␣␣␣␣␣␣␣␣␣\n",
            "\n",
            "\n",
            "\n",
            "Attempt: \"O\" + 0.8\n",
            "-----------------------------------\n",
            "???? Oñû9▪7▪YZR¤$‧$ﬂñ ▪T*ñ#É7▪Q~<�í5▪KA#»QS▪7çK§H‧Z⅓K⅛J$ñ:+ăÁâ⁄¿í7▪7E2E$︎‭â⁄́9Eè9E\"˚+BQçî9E%Q×ﬂ7çÉ¿éZ%û•k7•ÉEáâ9Éö€9▪•áA▪ä9▪7▪Kùº5QöÉ—ÚàE\u001a⅛▪ï|_‭9E‒¼Yy•7&OèKWKYWâ7⅞︎Zë®Tàéﬂ⅓W®︎Zî9▪ÉZºÚ5▪Zç9ú—▪è>¤▪G4EQ>É̀WYUDKYñ9~B4Y>¼EM#—⅞ñY¤ë9\\´ñ§Kä•b9▪5•Gñ#EíÉ4◊ùÉ&%3▪ç9­Xñq‧‭è#ñ%î5Y×#­E▪E~ùWíÚ9Y\n",
            "~Ú́?4•ï9•“]$ÂG®<ú9▪7•X»ù+Z;¤ơEXEZè¾EX+#¾E6‱KåÂ©¤î•&éﬂX%Ú¼EKº= ü9▪•QûïK⅛YEáé9E‱á¼E3Yñ:ûîY´ﬂXí¾EáçơQơäZ>ëñ7àE¾EGL•%=É¤|E!Y%@́—▪B[—à9▪•C3Kñ‧½•á#◊û7▪™4F▪ơKTe˚âíK—¤ñZà˚#ă9▪▪#¤EQ▪ăWQÉ\u001aî#‚á5EíQETN‧DYî5E4Qî® E2E◊C%óí!⁄àöQ–#´•X▪éE@Y◊|úÉQ[◊é§E©ÉéAÂ+YñX̀YîTñî##˚L®4Eﬂ‟ư⅞~ñ9EîQ°4▪•83▪ñ9YT#︎|áñ‚¾º§E▪E~î‟×è︎W5Qø9O\\ﬂZ#àE´äQ\n",
            "|'0¾É<î6~î9•3▪4YG®âíë%§Eç%G3▪ZW4E⅛⅓ñW#ắ’í�Ú5▪ăJé§É 0C¾&K%Kø+EKíEäă5E%2Eå⁄É6⅞\"“ưê9•&í3‧É3▪=í½\u001a4E2Eêó9▪ä’UäY•˚7E>ÁE\u001aQNàOàE»EÉ⅓çJ¼ø!‧É8ô︎#¾•3▪Qâ︎KíÚâQ◊ë>í!4X▪’ºâA⁄9Eí︎Wë7ﬂEÚô8▪âÉ⅛Q§U!⅛ ◊K&î®ë9Oì5▪5▪QX»XÉ½Kö€9EUàEEEî5Eá#6­é7▪#ç8▪ôÚ$í�9íÁE—¼:àZ︎+—⅞©»XÉN˚çç47Qﬂ9•äXQ9 |{»⅛¤ô¤K+WQí6ETà#EXóZ×Q▪7Q▪%3▪7EX>$˚:‱p⅛ﬂ5EfñYñ9▪ë{êE—◊É7à•3▪É#‭|»Z®+33▪7~⅞J+à︎G4è»9E%@€$×°‚E5Ú•5E\\©Kí9\\óK˚°=@Z̀–ü99\n",
            "\n",
            "\n",
            "\n",
            "Attempt: \"O\" + 0.4\n",
            "-----------------------------------\n",
            "???? OEí#E#E€Xñî9Eñ4E“KKKNơå︎G5Eè4▪•EáEÉXí9E�ç9▪5▪#EEXY⅛EâÉQàé3▪EóQ▪EQ_\\︎K®5•KăÉQ▪EíQî9•KÉX~@7Eç▪à▪%4E@EEEQ%®5•K%®:©#ì9•5•½▪4▪9▪9▪9▪•▪ZQç9▪9▪9▪5▪9▪Q▪EQñKKYàEèX•É▪•9▪9▪7▪7▪▪ú9▪EEW5▪Qñ3▪5▪▪$$▪éÉ7▪EÉ½▪7▪▪7EEç5▪▪•Qñ9▪ñQñ#>▪•9▪▪•í9▪•3▪9▪▪7▪E•3▪•3▪É4▪8▪•7▪•ﬂ4▪•3▪▪7▪•G4▪QG$âÂ#âí7$•G3▪•É•G3▪5▪9▪Q{︎T¼\\®ë##â&$ñ®âE#E%%®é7▪E%íT#~î7▪E#▪▪Q▪ÉQ▪9▪éEQ<áâJ®8E`í7▪ETY%́Qx▪9▪7▪E2▪EX•G4•3▪•Eè_É•#▪7▪•Q˚~Xí9▪9▪9•3▪E5▪E™XEâZ5▪EX•L5EE%3Eç4▪#▪Wí9▪9▪EE5EXEWR%K®%áKGNQ␣˚ø‱å9▪9▪5E7▪▪•4EOQ©ﬂ▪éWQñ9▪•E$ﬂÉ4E4E&WX®ëÉKKKYíG%T%%%®#J\u001aEEXñKK}E%EÉJîè%+$í5▪•XÚQñG4EE%{Éè%î5•GYâí9▪ÉQ▪#$︎ñ9EơÉQ▪#â#ñ9▪EÚ7▪Eí5▪7▪Q▪9▪EOQﬂ$©ñ9▪G4YîE5EE%Q́YìKK®EAEEéYJE#•G3▪•G4▪5▪▪•Qñ9▪EYí0E3EﬂKYÉETXNQ®XEú9▪“ÉÉ▪EXEXç︎ìZç9▪9▪9▪5▪•3▪•3▪WK%ñ́:#»$kâ®Nå4▪ZQăEàEX▪E¿ìEéX3▪©▪7▪E⅛QÉEQ▪EG%¼E•B7▪9▪E9E$è7•EEEX▪E#EKKKT®T®E®T␣␣␣␣␣␣␣␣␣␣␣␣␣␣␣␣␣␣␣␣␣␣␣␣␣␣␣␣␣␣␣␣␣␣␣␣␣␣␣␣␣␣␣␣␣␣␣␣␣␣␣␣␣␣␣␣␣␣␣␣␣␣␣␣␣␣␣␣␣␣␣␣␣␣␣␣␣␣␣␣␣␣␣␣␣␣␣␣␣␣␣␣␣␣␣␣␣␣␣␣␣␣␣␣␣␣␣␣␣␣␣␣␣␣␣␣␣␣␣␣␣␣␣␣␣␣␣␣␣␣␣␣␣␣␣␣␣␣␣␣␣␣␣␣␣␣␣␣␣␣␣␣␣␣␣␣␣␣␣␣␣␣␣␣␣␣␣␣␣␣␣␣␣␣␣␣␣␣␣␣␣␣␣␣␣␣␣␣␣␣␣␣␣␣␣␣␣␣␣␣␣␣␣␣␣␣␣␣␣␣␣␣␣␣␣␣␣␣␣␣␣␣␣␣␣␣␣␣␣␣␣␣␣␣␣␣␣␣␣␣␣␣␣␣␣␣\n",
            "\n",
            "\n",
            "\n",
            "Attempt: \"O\" + 0.2\n",
            "-----------------------------------\n",
            "???? OEXEEX•EEKKKKEEAEEEXEEXEEXEEEEEEXEEKKKKKKKREEN␣␣␣␣␣␣␣␣␣␣␣␣␣␣␣␣␣␣␣␣␣␣␣␣␣␣␣␣␣␣␣␣␣␣␣␣␣␣␣␣␣␣␣␣␣␣␣␣␣␣␣␣␣␣␣␣␣␣␣␣␣␣␣␣␣␣␣␣␣␣␣␣␣␣␣␣␣␣␣␣␣␣␣␣␣␣␣␣␣␣␣␣␣␣␣␣␣␣␣␣␣␣␣␣␣␣␣␣␣␣␣␣␣␣␣␣␣␣␣␣␣␣␣␣␣␣␣␣␣␣␣␣␣␣␣␣␣␣␣␣␣␣␣␣␣␣␣␣␣␣␣␣␣␣␣␣␣␣␣␣␣␣␣␣␣␣␣␣␣␣␣␣␣␣␣␣␣␣␣␣␣␣␣␣␣␣␣␣␣␣␣␣␣␣␣␣␣␣␣␣␣␣␣␣␣␣␣␣␣␣␣␣␣␣␣␣␣␣␣␣␣␣␣␣␣␣␣␣␣␣␣␣␣␣␣␣␣␣␣␣␣␣␣␣␣␣␣␣␣␣␣␣␣␣␣␣␣␣␣␣␣␣␣␣␣␣␣␣␣␣␣␣␣␣␣␣␣␣␣␣␣␣␣␣␣␣␣␣␣␣␣␣␣␣␣␣␣␣␣␣␣␣␣␣␣␣␣␣␣␣␣␣␣␣␣␣␣␣␣␣␣␣␣␣␣␣␣␣␣␣␣␣␣␣␣␣␣␣␣␣␣␣␣␣␣␣␣␣␣␣␣␣␣␣␣␣␣␣␣␣␣␣␣␣␣␣␣␣␣␣␣␣␣␣␣␣␣␣␣␣␣␣␣␣␣␣␣␣␣␣␣␣␣␣␣␣␣␣␣␣␣␣␣␣␣␣␣␣␣␣␣␣␣␣␣␣␣␣␣␣␣␣␣␣␣␣␣␣␣␣␣␣␣␣␣␣␣␣␣␣␣␣␣␣␣␣␣␣␣␣␣␣␣␣␣␣␣␣␣␣␣␣␣␣␣␣␣␣␣␣␣␣␣␣␣␣␣␣␣␣␣␣␣␣␣␣␣␣␣␣␣␣␣␣␣␣␣␣␣␣␣␣␣␣␣␣␣␣␣␣␣␣␣␣␣␣␣␣␣␣␣␣␣␣␣␣␣␣␣␣␣␣␣␣␣␣␣␣␣␣␣␣␣␣␣␣␣␣␣␣␣␣␣␣␣␣␣␣␣␣␣␣␣␣␣␣␣␣␣␣␣␣␣␣␣␣␣␣␣␣␣␣␣␣␣␣␣␣␣␣␣␣␣␣␣␣␣␣␣␣␣␣␣␣␣␣␣␣␣␣␣␣␣␣␣␣␣␣␣␣␣␣␣␣␣␣␣␣␣␣␣␣␣␣␣␣␣␣␣␣␣␣␣␣␣␣␣␣␣␣␣␣␣␣␣␣␣␣␣␣␣␣␣␣␣␣␣␣␣␣␣␣␣␣␣␣␣␣␣␣␣␣␣␣␣␣␣␣␣␣␣␣␣␣␣␣␣␣␣␣␣␣␣␣␣␣␣␣␣␣␣␣␣␣␣␣␣␣␣␣␣␣␣␣␣␣␣␣␣␣␣␣␣␣␣␣␣␣␣␣␣␣␣␣␣␣␣␣␣␣␣␣␣␣␣␣␣␣␣␣␣␣␣␣␣␣␣␣␣␣␣␣␣␣␣␣␣␣␣␣␣␣␣␣␣␣␣␣␣␣␣␣␣␣␣␣␣␣␣␣␣␣␣␣␣␣␣␣␣␣␣␣␣␣␣␣␣␣␣␣␣␣␣␣␣␣␣␣␣␣␣␣␣␣␣␣␣␣␣␣␣␣␣␣␣␣␣␣␣␣␣␣␣␣␣␣␣␣␣␣␣␣␣␣␣␣␣␣␣␣␣␣␣␣␣␣␣␣␣␣␣␣␣␣␣␣␣␣␣␣␣␣␣␣␣␣␣␣␣␣␣␣␣␣␣␣␣␣␣␣␣␣␣␣␣␣␣␣␣␣␣␣␣␣␣␣␣␣␣␣␣␣␣␣␣␣␣␣␣␣␣␣␣␣␣␣␣␣␣␣␣␣␣␣␣\n",
            "\n",
            "\n",
            "\n",
            "Attempt: \"L\" + 1.0\n",
            "-----------------------------------\n",
            "???? L◊�7▪EúXÉó‱K<�»Â_“ḯ©ïqºóå´¤◊î‒Dû\\ﬂ4Yê•<@Ú®=½]3Jﬂ•É4⅞áÚUơﬂ“ﬂîú9KGC7Ú‧:q|‭︎9Âñ#EÚ™7Eú”j½‱•9E½Eﬂ®︎ơ:“íE%K+E`NWÁ[]ư%4é3Eư×Qx~èé4Q©×à▪ă5▪$€G5N#ó%íU3▪O2E‱èâåLWă▪™ü#Â‧N$ó7ç︎8Eé¾¤’I–▪®ơñ9•$|®ÉÉ9KơZYơ[‚E%UIWX‒çñ”QJÉ0ô°K‧9•®‱×€Y‟ZJ%~Úàê•¾úUäåQë©ñç%ê4á8▪XAâéX#[Q́YN‧#âî3▪P▪!×ï‧8F▪V¼Uë!ă︎ZDó9E5E;KI�␣à#º4W$%¼ơAEêEXä<[‧0̀4N™V;í4X2#{áù€}BÉ7z§¤~‱;3Q‭ë5▪▪5▪N]íú4E2K©”G⅛>ë4E⅛XéQ‱ ©▪7▪7▪5▪€Iè /ÉYñJY>ﬂ0î”5▪▪5▪•2E>û⁄ë8Tèï™Eâ=~è9~@X@%b9V®˚é58ó[︎G©Âº>X~˚åX»®Z︎<5°OE5E5▪⁄­®’¿ü7•Ej⅞◊ü9Eº#UXø®½EâX€8E>&\u001a5EG5ÉJﬂ̀ñ‒Q‟ç7▪⅛QâU5J�ÚX¼‱î7G×E Z–⅓Eñà\u001ak¼E˚ôU◊X]â~‒_Â$ç%Á©()ô•3▪Áé9▪3▪Zèé7¼6E8&3▪Y§2ì̀V‒5•Z´úLéG4Á:â~î9‧◊Y\u001aEQî—Ú2§§ê# 97▪▪=í9•⅛½EQ‟OK´\u001a#ñYà⅛ưHè'ó™ø©[‱—Â_#á⅞\u001aQåÚ⅓2▪5▪▪~XñMùﬂ»éEê▪Vë4ì°‟íÉZﬂ%v3]è •7éìÉà3Q‧WKNºKä©~OAEC”K+ơ⁄LWWï®`¤◊ñ|%TvHă#åàE7ú:4E3U%$‚9▪óXéZXâáÂ©âîç7#ô0E‧O\u001a»9▪Z⅞J▪çX$“́}©$k0▪9•ñYE¤J︎G¤ô)>]<]Y&UJçK|»Eư⅛¤YïY‭îâ⅛@7EX•3W9E¿‧X+ñK#”8ﬂ>f‱»‱7▪XçK6▪q0[¿GE_¼áX⅛K~]̀#• 7⅞å▪ú4~™j$˚ Úç9#⅞Xö9E%#{ë▪<`‱Fâ•ë7▪E®WVøÁèq`ơZç9ûE\\‟Éëëï5h'́ư⅓{ô§▪$èºâ7’7É>©íơK+|#ă▪ñ=ÉV”‧ôùO9•K8Eè\u001aAEå[$éñ@\n",
            "\n",
            "\n",
            "\n",
            "Attempt: \"L\" + 0.8\n",
            "-----------------------------------\n",
            "???? L!�︎çYà§Kî9ê▪U°ëE[èïYîè§%ﬂÉá3▪•“ưî5éÂă9E4E%Y�å!KBXăGç7é5▪É—ñ‭ô>‒X>ñ©º4ÉîÉï5•wWQ‱▪ÉYÉÉ▪•GàAEG5íEéXQ3N]Y9é5•⅓$àEèYKº®~¤E—íY•W$V®⅛▪EFÉW9é7▪EEOQñ4▪4▪ñVN—‭4▪▪í®‒E=é9E½Eă ơE´E‒E#▪2▪é~3▪•TåÚøOêZ`ÉXEE2Aé$‧ø9▪é7▪E⅛Q#Á­Tù+ÚE\\óQJzW▪á9E°~ÉY•‟#Q®=7ñK%àﬂ¿ñë$$&Z̀9»=Qú5▪⁄Kk•‭‱L⅛7EW®á»E8E#⁄́®3ë6Kø‚WZJî9X»ø©▪7▪E\\Q©‱®É6K▪Z#çö6é5▪⅛EE3î&+$É°©à_©ô⅛GJ`NèA0AéE©âÚ7éÉÁ3▪9IQK5ﬂ7▪9▪EâåçøÚ#‒EE◊îQưö•Y€#î®<[©ì9•V�“ï•©ư1▪×EYUZE%5N® åÂQçî9•ÚáéûY©à▪#▪©ăQ%[î◊(­—ﬂ7▪▪ư•4E•íÁOAEVT⁄€É#§ơ8Eí5•3▪âÉ⅛àEXE8⅞XÉ▪Zä5EàY•áÁQ◊ñíúá̀É9#ëè︎`ø\u001aíXEơEèéQ9ó“9•ÉÉYV:3••3$̀$§ç4▪ì7Y\u001aEê▪E´¤KY¿çư¼K‟E×ñY�ăﬂ¤Ú|‱́5YKúEÉ½E▪K$ă⅛ñZ4‟▪E8Eñ9•äﬂ7•­ơYçå9á~í5▪E5▪é5E\u001aT »G4▪9GOøêEKăX⅛UYZ{»$½Z︎åí9OZK“ÉEK~ Z⁄P»EL]⅛KèéEéôè%$_®°9YZ︎K•ôJY`︎7©èá7▪7E‧åÉEJ︎îçXâXY%E8EEAAO™GÚº#íàîﬂK¼íKí¤‧5︎#+Nçë7▪▪▪ôT@K$É½▪E©9Ú\"ñ~kX4▪UW@Eï5▪Z¾ ÉXXàE︎V2E=#ÉúVàE#©¤%EçÉ4EEXÉçü5EèXé8Eﬂ•4A(˚︎X⅓°ï9•j9•Kú‧ëZEí9•3EEâW•É%®#E&⅓Y~×é7▪▪E$;ÚV+ưë9à▪¼E3▪Jç5•ë9▪ưëâE#úXTÚ>#×̀K0E§C4Y!}E$XZ8••9▪‚E°TââàJ9Á7çG§ëá$#EÁ5▪Yơﬂî#˚‟9EÉ™X~ëG:íă#EQ␣5▪\u001a9E¤︎ơOäGN—$︎A¤è“ñÁ5íÚ7>©▪V‚@•5E%©©:ñ§àE§“\n",
            "\n",
            "\n",
            "\n",
            "Attempt: \"L\" + 0.4\n",
            "-----------------------------------\n",
            "???? L7▪9▪Qé7▪E2&7▪QºÉﬂ|àEX▪EEç ‭=â#é#$•E©▪EEZNW▪Q︎YÚâÂ9•3▪#é9▪5▪9▪6▪Qç5▪9▪EKAEXñG®7E8EE2E3▪3▪9•3▪•3▪9•2à▪E5EQJ︎KNJEI%T®3J%E%4•9•KÚ9•E%Q▪#▪V︎EEXKKKNQñW▪•áQ×EX•B9•V®àEí7EYY»EE%Xz_Ú︎E9EE~Q×ú9▪EÉ▪▪7▪Eí5▪Z$▪EÉ7E3▪EX▪E5•3▪°ñW5▪E%í5•áEG4EE#EXEE%%4E9E2EXìKè™E#E%KKKKI#NGNZEINEZBLOINI HELL HOT.\n",
            "␣␣␣␣␣␣␣␣␣␣␣␣␣␣␣␣␣␣␣␣␣␣␣␣␣␣␣␣␣␣␣␣␣␣␣␣␣␣␣␣␣␣␣␣␣␣␣␣␣␣␣␣␣␣␣␣␣␣␣␣␣␣␣␣␣␣␣␣␣␣␣␣␣␣␣␣␣␣␣␣␣␣␣␣␣␣␣␣␣␣␣␣␣␣␣␣␣␣␣␣␣␣␣␣␣␣␣␣␣␣␣␣␣␣␣␣␣␣␣␣␣␣␣␣␣␣␣␣␣␣␣␣␣␣␣␣␣␣␣␣␣␣␣␣␣␣␣␣␣␣␣␣␣␣␣␣␣␣␣␣␣␣␣␣␣␣␣␣␣␣␣␣␣␣␣␣␣␣␣␣␣␣␣␣␣␣␣␣␣␣␣␣␣␣␣␣␣␣␣␣␣␣␣␣␣␣␣␣␣␣␣␣␣␣␣␣␣␣␣␣␣␣␣␣␣␣␣␣␣␣␣␣␣␣␣␣␣␣␣␣␣␣␣␣␣␣␣␣␣␣␣␣␣␣␣␣␣␣␣␣␣␣␣␣␣␣␣␣␣␣␣␣␣␣␣␣␣␣␣␣␣␣␣␣␣␣␣␣␣␣␣␣␣␣␣␣␣␣␣␣␣␣␣␣␣␣␣␣␣␣␣␣␣␣␣␣␣␣␣␣␣␣␣␣␣␣␣␣␣␣␣␣␣␣␣␣␣␣␣␣␣␣␣␣␣␣␣␣␣␣␣␣␣␣␣␣␣␣␣␣␣␣␣␣␣␣␣␣␣␣␣␣␣␣␣␣␣␣␣␣␣␣␣␣␣␣␣␣␣␣␣␣␣␣␣␣␣␣␣␣␣␣␣␣␣␣␣␣␣␣␣␣␣␣␣␣␣␣␣␣␣␣␣␣␣␣␣␣␣␣␣␣␣␣␣␣␣␣␣␣␣␣␣␣␣␣␣␣␣␣␣␣␣␣␣␣␣␣␣␣␣␣␣␣␣␣␣␣␣␣␣␣␣␣␣␣␣␣␣␣␣␣␣␣␣␣␣␣␣␣␣␣␣␣␣␣␣␣␣␣␣␣␣␣␣␣␣␣␣␣␣␣␣␣␣␣␣␣␣␣␣␣␣␣␣␣␣␣␣␣␣␣␣␣␣␣␣␣␣␣␣␣␣␣␣␣␣␣␣␣␣␣␣␣␣␣␣␣␣␣␣␣␣␣␣␣␣␣␣␣␣␣␣␣␣␣␣␣␣␣␣␣␣␣␣␣␣␣␣␣␣␣␣␣␣␣␣␣␣␣␣␣␣␣␣␣␣␣␣␣␣␣␣␣␣␣␣␣␣␣␣␣␣␣␣␣␣␣␣␣␣␣␣␣␣␣␣␣␣␣␣␣␣␣␣␣␣␣␣␣␣␣␣␣␣␣␣␣␣␣␣␣␣␣␣␣␣␣␣␣␣␣␣␣␣␣␣␣␣␣␣␣␣␣␣␣␣␣␣␣␣␣␣␣␣␣␣␣␣␣␣␣␣␣␣␣␣␣␣␣␣␣␣␣␣␣␣\n",
            "\n",
            "\n",
            "\n",
            "Attempt: \"L\" + 0.2\n",
            "-----------------------------------\n",
            "???? LQ▪7▪▪•G4▪EEXî5EEÉQ▪EEXEEXEE#EXEEXEXEE%KKKKKNWUUWZHHHA••9•7•2••3▪9•3▪••3▪•3▪•3▪•3▪#▪#▪•3▪•3▪•3▪•5▪•3▪•3▪•3▪5▪•3▪•3▪•3▪•3▪•3▪•3▪•3▪•3▪•3▪•5▪•3▪▪7▪•G4•3▪•3▪•3▪•4▪7▪Qñ9•3▪•3▪•3▪•3▪•4▪•3▪7▪•G4▪•G4▪•#▪7▪•EQ▪EX•G4EÚ9•X•G4▪•G3▪Qñ9▪▪7▪EX•G4EEX•G4▪•Q▪Eí5▪9▪9▪7▪EEQ▪EEXE%XE%5E#$▪EéE5EEX•EKKKT®EEEEEEETWXEENKKT␣␣␣␣␣␣␣␣␣␣␣␣␣␣␣␣␣␣␣␣␣␣␣␣␣␣␣␣␣␣␣␣␣␣␣␣␣␣␣␣␣␣␣␣␣␣␣␣␣␣␣␣␣␣␣␣␣␣␣␣␣␣␣␣␣␣␣␣␣␣␣␣␣␣␣␣␣␣␣␣␣␣␣␣␣␣␣␣␣␣␣␣␣␣␣␣␣␣␣␣␣␣␣␣␣␣␣␣␣␣␣␣␣␣␣␣␣␣␣␣␣␣␣␣␣␣␣␣␣␣␣␣␣␣␣␣␣␣␣␣␣␣␣␣␣␣␣␣␣␣␣␣␣␣␣␣␣␣␣␣␣␣␣␣␣␣␣␣␣␣␣␣␣␣␣␣␣␣␣␣␣␣␣␣␣␣␣␣␣␣␣␣␣␣␣␣␣␣␣␣␣␣␣␣␣␣␣␣␣␣␣␣␣␣␣␣␣␣␣␣␣␣␣␣␣␣␣␣␣␣␣␣␣␣␣␣␣␣␣␣␣␣␣␣␣␣␣␣␣␣␣␣␣␣␣␣␣␣␣␣␣␣␣␣␣␣␣␣␣␣␣␣␣␣␣␣␣␣␣␣␣␣␣␣␣␣␣␣␣␣␣␣␣␣␣␣␣␣␣␣␣␣␣␣␣␣␣␣␣␣␣␣␣␣␣␣␣␣␣␣␣␣␣␣␣␣␣␣␣␣␣␣␣␣␣␣␣␣␣␣␣␣␣␣␣␣␣␣␣␣␣␣␣␣␣␣␣␣␣␣␣␣␣␣␣␣␣␣␣␣␣␣␣␣␣␣␣␣␣␣␣␣␣␣␣␣␣␣␣␣␣␣␣␣␣␣␣␣␣␣␣␣␣␣␣␣␣␣␣␣␣␣␣␣␣␣␣␣␣␣␣␣␣␣␣␣␣␣␣␣␣␣␣␣␣␣␣␣␣␣␣␣␣␣␣␣␣␣␣␣␣␣␣␣␣␣␣␣␣␣␣␣␣␣␣␣␣␣␣␣␣␣␣␣␣␣␣␣␣␣␣␣␣␣␣␣␣␣␣␣␣␣␣␣␣␣␣␣␣␣␣␣␣␣␣␣␣␣␣␣␣␣␣␣␣␣␣␣␣␣␣␣␣␣␣␣␣␣␣␣␣␣␣␣␣␣␣␣␣␣␣␣␣␣␣␣␣␣␣␣␣␣␣␣␣␣␣␣␣␣␣␣␣␣␣␣␣␣␣␣␣␣␣␣␣␣␣␣␣␣␣␣␣␣␣␣␣␣␣␣␣␣␣␣␣␣␣␣␣␣␣␣␣␣␣␣␣␣␣␣␣␣␣␣␣␣␣␣␣␣␣␣␣␣␣␣␣␣␣␣␣␣␣␣␣␣␣␣␣␣␣␣␣␣␣␣␣␣␣␣␣␣␣␣␣␣␣␣␣␣␣␣␣␣␣␣␣␣␣␣␣␣␣␣␣␣␣␣␣␣␣␣␣␣␣␣␣␣␣␣␣␣␣␣␣␣␣␣␣␣␣␣\n",
            "\n",
            "\n",
            "\n",
            "Attempt: \"Mushroom\" + 1.0\n",
            "-----------------------------------\n",
            "???? MushroomÚ9H´îàÁî9▪QQ¾◊î™èDXç94YÉçÉè9▪7▪\\ëEé7E½▪°Ú½Mº¼Z”ă7N0j︎à7{‚%{ú%%+3°3>7E2\\:<ơă9▪5ﬂûEÉÉ⁄ơ5•XàEE×ø%O︎&áê©ïKN+ç▪7EçOe3Z+3J—¾◊%Q_ç»¤⅓‟%Xñ{>üä7°◊ô—öéÉQx︎ú4ûGÉâ¤íBTW~™Z7▪7LO$º%áKX[¼ä▪}{x[½E¼C4ư’å︎XñQñ|Ú9E+GÚ×®ø©⁄'®JﬂưK•5▪7E¿⅛‱:Ý+‒V®975ç•9YóE»`“X\u001aÉ%}‒7•KK0`5▪Yú7E»Yí¼»#é© Xç:7MQq—|˚•G5_53E‚#Qç§LÚWê´4é7E•3|}5Á‒5X %Z–̀©íââ•▪Yé4üY•™E3!#PÚY\u001a]\u001a‚▪ﬂéÉK$+®⅛‭°%̀7Y§°Aç‱Xñ7Eâ⅞‒Bà9$�}3▪¤9‟3▪•4E&Z4ç]×◊™\u001a\u001aNW‒é‚{èI“–×´áÉ!ç7\n",
            "øñ½▪‒KR©Ză½½Á▪QYè#⅞Qèø¼ï◊◊˚”Uj_—Y\\¼=ăàEQ¼âí*⅞íU7Eø»AY§E(▪▪▪\u001aăﬂç9C5Z9•O€é•ñ:` Z$$G7‭àÚE_äK~øîQK‚$◊Gâ»R%%#Q)EZ+|#EOè“#{X%3J•©î4Vë´Xê9EB'ơ+½E4•3ë¿ÉGW0<xJü#ì—x»¼&QXÉ‚K{!vYäë#©î\\]é9=€$ơ Y︎~ơKÚ%©V\n",
            "É+B◊åïëâ�:C¾#́‧@>èQ\\á‒é2™íQ0KâÉ´Ú’%8E]ì»çKU:U§]ë5Cé\u001a=⅛QA#¤øQÉç:#§W\n",
            "OPV‒Ú‧ºơ ‧\\§áù—í—ñóB7▪L•‭—︎E=§‒º#™ôÉ2▪%ê—í®~GâJVGüZäQ´▪ÉèåÉQ™ë◊“Yí0[x▪å‭âøQôU>»Áâç◊7€E%ç▪©TÂJçUö1•Kú!␣ü9E#‧»ăﬂN°\u001a7èQú —|W§EO+ë¤KX‱‒¾åêÉ▪©‱9íÂù3´#{XEùºô½(‱⅛|\\úﬂ€YjÉ7▪9▪5W␣âQ ç4(‧9•7•5=▪`J®´í9$⁄V#>&ñ##ì¾EQëÉ#ú#åÁ⅛É©4â®éX‒•2Wäô|®ÁÉ▪é“ñ︎#�⅛Tﬂf7[`@í9´0•4X®»@àK⅞9ÉëơYë<ê`©◊ñT¾î_4\\’ă´_¼Hñ‟KjQå◊9JE|gXBâñÚ#X#—ñQ\\åü5▪»7•óèê\n",
            "\n",
            "\n",
            "\n",
            "Attempt: \"Mushroom\" + 0.8\n",
            "-----------------------------------\n",
            "???? Mushroom7E4#É9Eè%4•á­⅓︎©‒KQ`••BXöơ5EU9Eèè$éêEZ[èXçG4ZO0•5▪7QáYù9KGë︎NVí́JÚ»áQà▪âư~[ºïY©<“É8é[óº#︎▪‒•K©•}•9#L2OG5E%EQgăíü“EX¼E#ø½G4E—◊+>Q¾—é▪4#‒óó9EơKK[:øû7‚•K$ä%︎ơJ<W5EK‒O5E“í®§#⅛A\u001a︎G3#=ë#$<é{$:à$ñ9▪¤9~ﬂ9▪Qç7E6É▪▪ù#=•¼LKVKZ©©E\u001aKYJ¼ñG@‱E–+º␣2▪9ñ9EI=áâ@•4Eåä5▪øî#çXEøﬂ7▪EEXZ‧é4ETàEÉÉéé_í9Qç▪EúWW5▪[éWZé#▪Aü#‧éå$é▪QY'$ùèWè$0́—▪•3K[¿̀▪á¼Q▪K#E%%XJ+QàU9E—ñ2‒é5▪9▪TJç4Qfíè•Q▪7◊Kë0Eùî®3•ñ3Q3▪EQ–▪»X#˚´G4$çü9ÂºG5WY3ñ7øE⅛Ú9▪D7•Qx▪Q⅓3EáGü&ă3▪_‱½Y“â#©íVôÉX_©K‧⅞âB9▪>G%%í4JâñG3$à#k™Tì7~—î®“$ø–_éíG%WÂ °°V€*©z5▪å5ăV⅞à1¾çZÚ@F‒K}Q}%í—‱É#é7VQÚ&&©~Q‟Xçç9áE¾$û­•L8▪E8E5▪E3@▪Ú7•G%ç~‒|½»çZ#è ®ﬂ—$⅛‧>︎5▪8Ú_ç%§3▪•í4“3▪9Q`⅛Qưü3E{J‧˚︎E5Q◊U˚Z︎G4EYáEåÚÉÉ5EUñKXﬂ7Yx︎üFﬂ7▪Éç ©\"É®5▪#�́üZQ̀◊âWë®X®E7E|˚ë9▪5Yâ7▪9GTëX&ZÉ»ù+©½Eơ® Kâ©ú9▪¼EQ—:́U5L®X︎LB7E‧É™âX‱&Ú•GçWå™9_ÂQ_Q€Y5▪7▪3▪Yê9•CøK™KV@EÉ9¾â§E5EÚ|Z©ñT%Yñ€É5▪_Úìç}û’#ưÂ9É]é#3▪‭7▪>è7W7zLâUUW¼í_‭9•}Q▪í®öT︎Ú%í,E¼EXWOÉÂQø▪7▪5E‚•8Eà▪Uô•4▪Që¿äÉmñăè4▪8D5▪9▪•X/‧â5▪C0•3▪—•53︎2•4ë9•G8•ÉQñï•Kñ­ﬂ‒€Vï‒É9¾Y▪Hì XưZñ%3E©$éQQ‱Q%4◊9é&Ú9▪EñT]ñ®Q’.␣⅓$~␣␣␣␣␣␣␣␣␣␣␣␣␣␣␣␣␣␣␣␣␣␣␣␣␣␣␣␣␣␣␣\n",
            "\n",
            "\n",
            "\n",
            "Attempt: \"Mushroom\" + 0.4\n",
            "-----------------------------------\n",
            "???? Mushroom︎G4E#▪E9▪EéEWXíÉ9▪Y§E◊ơEÉÚèí5▪#î5EEèE#$§EÉ▪QÉ▪Q▪E#‧+EKKY▪EÂè#éW9ñ9▪Qç9▪9▪9▪9▪9▪7▪E$\u001aG2▪5▪7▪•á7▪QÉX▪•Q▪EEXEYêEUTÉ#óî9EäZÚè%í9▪E§E#+KKAEEXY$ºE5E9▪EEÚè7EZE#Q°í5▪9EE•G4•Kë9▪Z%ü9•B9▪7•EâU9•EÉ▪Z3▪5▪5EOQâ#▪í8▪EX•3▪9▪5▪7▪EYç4▪▪7▪ﬂK⅓Qç9▪Eí‭#§GáX•KKKíQ▪▪E#Q$⅞Qè9▪Kí5▪9▪▪7▪▪8EX•EKKKO$▪Eç5▪9▪9▪▪7E2EX▪7▪Eè7▪E5E4▪E #>L5Eè#ÈEEY⅞EEKC%XE%YîG%çJâ#K®#ñ+EBHç9▪9▪7▪7▪E#äEEX[º#â9▪EQç9▪7▪▪7▪E5▪E4E2▪E5E5▪7▪E#▪7▪EEçKX#€ÉQî5▪5▪âÚ9▪E9•Xñ5▪E#É>EÉQ èâÉ7EQ▪EOèơé#ê▪EQ◊◊EEXí9•9▪í9•5▪Eﬂ4▪5▪Q▪EEAÉXç▪•5EY|E4▪EQâE#ơ®5EÂXñ#ü9▪9•‧KKZEíQñ9▪9•Q▪▪Z9•G4Yë9▪7▪EEQî9EEX>É_︎V®9•EÉ▪9▪EQ▪EQñ▪Q︎GñÉ9▪7EﬂQà9▪▪7▪5▪▪5▪•#à▪2▪E5EQ▪Eﬂ•í9▪▪O9EÉX▪E®EWX•W9EEXX$•EEXZZ%T>$ù‧7▪•9•3▪•Q\u001aE6EEK%%%4K#$ó7EXEá•KKKKKTN‟EE%EEEAEEÉNëEYéEE#́7EEX$KE9EV®EIâU9▪EQî9ZZE¾EEÉî5E#QâEGWQ▪éI5▪7▪9▪É▪9EQ‒E6EX•G4Eí5E#▪7▪7▪EEWQç9▪▪•#▪Q︎¤Q▪5▪7▪ZG4▪Z5▪9▪▪7▪ZG~©úQñ9▪E%XàEETJYî%í5EﬂK%=#E3EÉ▪éè7Eë4EOEơ É7EEàEEXE#Qí%3E4▪Eçî5E%áåÉ#E5E#EEXEKKKKNXEEEXC9•YàEE%3▪9▪ÉQ▪E7EE•X%çî9▪7EEX•K®àE5E•G4▪9▪9▪9▪▪E5▪Eè5E2E3▪#▪•EKXEKKKK%NÂ¼Eí=é9▪E©EQ▪E#éEXEÉ“í%¼EEX%ñKớXñ®7•#▪âUQâí9▪è9EEÉEKKKT®\n",
            "\n",
            "\n",
            "\n",
            "Attempt: \"Mushroom\" + 0.2\n",
            "-----------------------------------\n",
            "???? Mushroom▪▪▪Q▪EX•E5EEXE%%%3E##▪▪9▪▪9▪9▪Q▪E5▪Eè7EEXEEXE%Xñ®KKKEEAEEEXEEKKKKKKEEEENIN␣␣␣␣␣␣␣␣␣␣␣␣␣␣␣␣␣␣␣␣␣␣␣␣␣␣␣␣␣␣␣␣␣␣␣␣␣␣␣␣␣␣␣␣␣␣␣␣␣␣␣␣␣␣␣␣␣␣␣␣␣␣␣␣␣␣␣␣␣␣␣␣␣␣␣␣␣␣␣␣␣␣␣␣␣␣␣␣␣␣␣␣␣␣␣␣␣␣␣␣␣␣␣␣␣␣␣␣␣␣␣␣␣␣␣␣␣␣␣␣␣␣␣␣␣␣␣␣␣␣␣␣␣␣␣␣␣␣␣␣␣␣␣␣␣␣␣␣␣␣␣␣␣␣␣␣␣␣␣␣␣␣␣␣␣␣␣␣␣␣␣␣␣␣␣␣␣␣␣␣␣␣␣␣␣␣␣␣␣␣␣␣␣␣␣␣␣␣␣␣␣␣␣␣␣␣␣␣␣␣␣␣␣␣␣␣␣␣␣␣␣␣␣␣␣␣␣␣␣␣␣␣␣␣␣␣␣␣␣␣␣␣␣␣␣␣␣␣␣␣␣␣␣␣␣␣␣␣␣␣␣␣␣␣␣␣␣␣␣␣␣␣␣␣␣␣␣␣␣␣␣␣␣␣␣␣␣␣␣␣␣␣␣␣␣␣␣␣␣␣␣␣␣␣␣␣␣␣␣␣␣␣␣␣␣␣␣␣␣␣␣␣␣␣␣␣␣␣␣␣␣␣␣␣␣␣␣␣␣␣␣␣␣␣␣␣␣␣␣␣␣␣␣␣␣␣␣␣␣␣␣␣␣␣␣␣␣␣␣␣␣␣␣␣␣␣␣␣␣␣␣␣␣␣␣␣␣␣␣␣␣␣␣␣␣␣␣␣␣␣␣␣␣␣␣␣␣␣␣␣␣␣␣␣␣␣␣␣␣␣␣␣␣␣␣␣␣␣␣␣␣␣␣␣␣␣␣␣␣␣␣␣␣␣␣␣␣␣␣␣␣␣␣␣␣␣␣␣␣␣␣␣␣␣␣␣␣␣␣␣␣␣␣␣␣␣␣␣␣␣␣␣␣␣␣␣␣␣␣␣␣␣␣␣␣␣␣␣␣␣␣␣␣␣␣␣␣␣␣␣␣␣␣␣␣␣␣␣␣␣␣␣␣␣␣␣␣␣␣␣␣␣␣␣␣␣␣␣␣␣␣␣␣␣␣␣␣␣␣␣␣␣␣␣␣␣␣␣␣␣␣␣␣␣␣␣␣␣␣␣␣␣␣␣␣␣␣␣␣␣␣␣␣␣␣␣␣␣␣␣␣␣␣␣␣␣␣␣␣␣␣␣␣␣␣␣␣␣␣␣␣␣␣␣␣␣␣␣␣␣␣␣␣␣␣␣␣␣␣␣␣␣␣␣␣␣␣␣␣␣␣␣␣␣␣␣␣␣␣␣␣␣␣␣␣␣␣␣␣␣␣␣␣␣␣␣␣␣␣␣␣␣␣␣␣␣␣␣␣␣␣␣␣␣␣␣␣␣␣␣␣␣␣␣␣␣␣␣␣␣␣␣␣␣␣␣␣␣␣␣␣␣␣␣␣␣␣␣␣␣␣␣␣␣␣␣␣␣␣␣␣␣␣␣␣␣␣␣␣␣␣␣␣␣␣␣␣␣␣␣␣␣␣␣␣␣␣␣␣␣␣␣␣␣␣␣␣␣␣␣␣␣␣␣␣␣␣␣␣␣␣␣␣␣␣␣␣␣␣␣␣␣␣␣␣␣␣␣␣␣␣␣␣␣␣␣␣␣␣␣␣␣␣␣␣␣␣␣␣␣␣␣␣␣␣␣␣␣␣␣␣␣␣␣␣␣␣␣␣␣␣␣␣␣␣␣␣␣␣␣␣␣␣␣␣␣␣␣␣␣␣␣␣␣␣␣␣␣␣␣␣␣␣␣␣␣␣␣␣␣␣␣␣␣␣␣␣␣␣␣␣␣␣␣␣␣␣␣␣␣␣␣␣␣␣␣␣␣␣␣␣␣␣␣␣␣␣␣␣␣␣␣␣␣␣␣\n",
            "\n",
            "\n",
            "\n",
            "Attempt: \"Apple\" + 1.0\n",
            "-----------------------------------\n",
            "???? Appleơ5• U´U6E‧ôFú7•Ec:4�4KöUQqăÉà»K×\"éă½E¿ÚﬂR`í7YNü4E▪TÉ▪5\u001a⅛Nâ§C™9E¤#EWI®“`k8W–▪0ư~�ç3îú:3▪Kâ×%3Fïô­=QQơ~L7E‟⅛+ÂèQx⅞Á⅛>ñ︎{_>︎~ñú©©Ú8áEî5íó—¤$ñâè=û7¤èG%U9▪¤▪$‟6Eî9§ö8EX—½EëX⅓EE#@á9JâW#è¿´öư~=Â9Y:íè©ï˚ÉN={ùJ~î5▪à#F▪ñ8EE%%︎*@9▪<ëéF⅞Y$éOíG!~⅞K§\u001a×{êV_K0á•Gă¼& û•ùEù©ơR‱å¤âE⅓ ’}ëEÂéX$[︎Q\\É‒9▪øLå¼’‧Yá•%%ê[Ú¼#Q%+ùø€7T¾@0ôKL®Á!@⁄4Ééô&—˚©ü½ñ©‒™9‧6▪âà¾KTJ]#ﬂY5EQ¤®/º»⅓9 ă︎Á9E7&b9•Ú5$\\å˚ìÉî§▪à×{:á=[°Â◊ﬂW2[ï˚óQ́€‟í©•f•Là2Q‚ñ5¤ﬂKÚ˚ÉQ$’øXôXà‒◊#�Q@O‚èÚ!àE%ì]ăû!®V¾€Zñ9~�ê◊©◊#>̀́ï$~×4ﬂ$ó5óơ3N˚#!{~‟▪®àZ`É4▪ìQư⅓́©7äZ¿âÉ▪%½4+fWă5▪E]GQ⅓ÂZư“oGöí$å︎4¿Â\\:4Qó :¼\\<‚Á‭T0Vü◊âXôíøî~~qç<‭ö—x$â*àEî%4E|F▪â9⅓îà éí7▪9$×í0½5C▪YQ$<É7‭E&5▪ë éﬂ+î︎VVưVû~ñ̀7=ïG3hñB▪í®>&Xf•×Kî�⅛åY`⅞S▪—+&3•¤2çK⅛EÉ̀1¤™G˚ï˚\u001aE“™©Q•ﬂÚ9—ơïûÉ8EI#[•IèWVñ4E‧‧®|Q]ÉÚ>=É>´8E\\™×Ú◊Q︎Jï⅛ê>ñ˚Qé®ô»▪Ú6▪<@Q_#¾Qâ$¤␣—▪ơºÉ=ëç4EÉìáU◊5▪̀§▪5éZơ3EVâGè4#»´8TÉgX$ﬂ◊Á9¤QXZ´ä/‱çﬂ9▪7ÚÉ▪9­{©X$ä#⅞âÁ9Eç4X▪▪Z%ﬂTåK⁄á7E3Q1E;—␣#&ZT%\n",
            "í+␣␣␣␣␣␣␣␣␣␣␣␣␣␣␣␣␣␣␣␣␣␣␣␣␣␣␣␣␣␣␣␣␣␣␣␣␣␣␣␣␣␣␣␣␣␣␣␣␣␣␣␣␣␣␣␣␣␣␣␣␣␣␣␣␣␣␣␣␣␣␣␣␣␣␣␣␣␣␣␣␣␣␣␣␣␣␣␣␣␣␣␣␣␣␣␣␣␣␣␣␣␣␣␣␣␣␣␣␣␣␣␣␣␣␣␣␣␣␣␣␣␣␣␣␣␣␣␣␣␣\n",
            "\n",
            "\n",
            "\n",
            "Attempt: \"Apple\" + 0.8\n",
            "-----------------------------------\n",
            "???? Apple5Z–'‭ñ3▪8ơOE‟×́èí7▪▪7Eí́:ñ=|“’ Q$–•9•⁄‱KK9|¼E¼Hú—=Úç▪ơﬂXﬂ‭´#¤▪9▪W2EKZö⅛EñLơ6ÚZ“X‚H97E#⅛9▪7▪Eê••G\\§9I~Â“̀7▪▪Eâ%#%àH▪Q9▪•É▪E×�§̀7E‧î7‱~\u001aEì#E[íU!HK0éQ°9‧™¾ù$¤ä7▪5E%6K$@5E#�︎àà▪7▪7Eä9▪é9•EçBâ É▪QC~êEÁéE€Q⅛ó5▪OQ®í9Zé︎í»QÁ⅞óÉáQøXZ`3%ú6î9Eí9▪9▪ñúûX▪éJ—®6»ñ7©7•ç5▪ëG︎3▪Zë©EàY‟\\í®â—`ÁEä»í︎é9▪QîH‧½ñ%“ÁG‒EAEXT»>øÉ4¤ZùﬂQ ‒EE$»Z‟YêXQ␣7üVÚ: à▪ñ•#êLơQJ€ǿ“Ú—É>Ú€åW7Ú‧0Q‒Yç9▪7▪8▪ﬂ•4E‱5&=©ç▪§XúZ°~‱⅛®É⅞8E&5▪%:•4Xê\u001aQî\u001a⅛Z3G9E2•W%í\\©~×Jă —‱•DÁ7︎E¿ó5E6•Ví́#è#▪€»⅓Qáâó©ăE5E3• Y$$é­6E®•LY%,Y@7ñGëă>˚•]#©É“ưí$‟Â#ñ¼5E⅞áâö#9ñ4E+Vë:57•Gá’í�‱7EùWX⅛Xñ3▪ﬂ•á»8E§#ﬂ€!|0E7EV#$—⁄–ÚQú9äY6▪á9I ▪N︎¤ÉN#ïî#§G%í9AEâ®5K9E[Y#•ü6EGJ®GYÉQ▪Aëü6▪⅛ﬂ»JçÉÉá@•B9▪KKưôJă©ÚQ“ Éñî:P▪]àÂ7E5▪EîK\\îíî7E“$⅞V5V‱9•ôíÚíÂ<⅛$�~´7ú9•́Xóç⅓™5▪¤X⅛ăK‟%íEQ“\u001aQ◊ñé©ú4$•~Á9íưÉE8&K3▪{▪8E5Eç⅞$‭½EE˚D%ñVÉ®ø\\½▪•[ •é7Q‧9▪5▪7▪▪QÉö9•íE7EQ”Úö#$́UUKI⅓ï#QôEîô7EÂ+KKIKú⅛9`\u001a—]~⅛XXÚº#Y7É9▪Zï#âW9▪Qà•î§X▪â#$▪×©°33ÚZ}½ç9éGN•KWí0Yä7‒9îéﬂ4QvY{áG©Á%#AYEZ︎VíÉjëå$#̀ê%—É6▪E1JﬂJ×ﬂQöèî9▪5▪7▪7▪ Y▪5▪Iè9▪9Y́!ú\"‧́_5▪5åư7▪!́W™°5%®öEXùEíâàEuÂ“︎ơ½E½EB7E»G7E>‚▪¼Á¾E&®Â©è7ì§́\n",
            "\n",
            "\n",
            "\n",
            "Attempt: \"Apple\" + 0.4\n",
            "-----------------------------------\n",
            "???? Apple7▪▪E—▪Qñ︎Q▪Eí9E>EX•X•~Qø%ç9▪9•G•7▪Q‟⅛ûQ\u001a▪•Kí9EYÉî4EE5E4EKKKKKKEEAEETT$©EÉEXàÉ▪9•éZ%5▪•#Eç9▪E4▪•EKKí7•G4▪Z9▪•3▪9▪Eè9▪EXñ9▪EéEX%•G%%%Z%#EQ▪ET%X%®%9•7•KKKEEEXAEEEEíEíQ⅞K#EZEKKKZJEE%%Qx▪7▪7▪E7▪▪7▪7▪OEUºKKKN®C9•N©▪EYèâQ▪à▪E5▪E5EXN#àEé5EEç%4EÉ$é#ñQç7▪#▪•5▪7▪#▪ù#ơ#â5Eè5E3▪7Eă#§5▪▪7▪EÚ9▪•E2E3▪7EEéX•3EéOEKKUUDT®IèàEí$âÚÉX•EX•EÉÉÉYêEQ▪EE+KAEXEXñ®K9EXOEX%X%Qñ9•9▪Qâ$ä¿éEç9▪9▪9▪7▪EE5EE$©óQ #▪7▪E6EKKKíT¤[%®ô§Q▪9E5▪8E5▪EQ▪¤Z ▪•G4EC4▪EQ▪Eâ5▪7▪Qç5▪9▪9▪7▪ú9▪▪G‟#▪•Qơ3▪9•í9▪QG9•G®‧—ï°ë7▪×#EXYñ9•EQ▪▪G“⅛K®V©°ñG%%´XE%%•KKKKAUIWQ▪§▪9▪9▪7▪•EÉQñ5▪è9▪•3▪7▪•3▪•3▪•G4E#éX•3▪•G3▪5▪9•3▪7▪EX▪•Qç8▪E8EíEEXEQ©EXX▪EÉ%YEX▪EE#E4E\\_!>è%©©í5▪•G4▪▪•G4▪Z_âÉ▪â#EXE#EÉG~%çWXåÉQ×ÉXñ9E#Q\"âZåăî5E§Q×Qz Úâ€Ú9Eí9▪XàEEX%K‧︎ñ⅓EG%àEC¼EàEWXE3E6▪EXE‧%Z%%4▪5▪QÁX▪•Tñ9E<~EZÉ=é4▪EEZçY⅓é9E•G3▪Q“â#éXí9▪▪7▪7▪EûEZ$ñ®7▪XèXE©$︎®3▪5▪$é5E]Eé#▪E#\u001aEEXEKí:3▪9▪•7▪Eç7▪GYââ®4E8E#▪EXN▪5▪▪T®#Q▪▪•9▪É▪é5▪•4▪•Zî7▪E¿íEÚ5EZ[¿âOEKKG®EXñ®7E3EX•G%®J︎KK®K#␣␣␣␣␣␣␣␣␣␣␣␣␣␣␣␣␣␣␣␣␣␣␣␣␣␣␣␣␣␣␣␣␣␣␣␣␣␣␣␣␣␣␣␣␣␣␣␣␣␣␣␣␣␣␣␣␣␣␣␣␣␣␣␣␣␣␣␣␣␣␣␣␣␣␣␣␣␣␣␣␣␣␣␣␣␣␣␣␣␣␣␣␣␣␣␣␣␣␣␣␣␣␣␣\n",
            "\n",
            "\n",
            "\n",
            "Attempt: \"Apple\" + 0.2\n",
            "-----------------------------------\n",
            "???? Apple7▪EÉ▪Q▪EEXEX%X•T®7•9•3▪9•G4E#É▪Eí5▪▪▪Q▪9EÉ▪9▪7▪EEXEKKKNWZ®àE5EX•G4E#EXE%%%KKKKKTN␣␣␣␣␣␣␣␣␣␣␣␣␣␣␣␣␣␣␣␣␣␣␣␣␣␣␣␣␣␣␣␣␣␣␣␣␣␣␣␣␣␣␣␣␣␣␣␣␣␣␣␣␣␣␣␣␣␣␣␣␣␣␣␣␣␣␣␣␣␣␣␣␣␣␣␣␣␣␣␣␣␣␣␣␣␣␣␣␣␣␣␣␣␣␣␣␣␣␣␣␣␣␣␣␣␣␣␣␣␣␣␣␣␣␣␣␣␣␣␣␣␣␣␣␣␣␣␣␣␣␣␣␣␣␣␣␣␣␣␣␣␣␣␣␣␣␣␣␣␣␣␣␣␣␣␣␣␣␣␣␣␣␣␣␣␣␣␣␣␣␣␣␣␣␣␣␣␣␣␣␣␣␣␣␣␣␣␣␣␣␣␣␣␣␣␣␣␣␣␣␣␣␣␣␣␣␣␣␣␣␣␣␣␣␣␣␣␣␣␣␣␣␣␣␣␣␣␣␣␣␣␣␣␣␣␣␣␣␣␣␣␣␣␣␣␣␣␣␣␣␣␣␣␣␣␣␣␣␣␣␣␣␣␣␣␣␣␣␣␣␣␣␣␣␣␣␣␣␣␣␣␣␣␣␣␣␣␣␣␣␣␣␣␣␣␣␣␣␣␣␣␣␣␣␣␣␣␣␣␣␣␣␣␣␣␣␣␣␣␣␣␣␣␣␣␣␣␣␣␣␣␣␣␣␣␣␣␣␣␣␣␣␣␣␣␣␣␣␣␣␣␣␣␣␣␣␣␣␣␣␣␣␣␣␣␣␣␣␣␣␣␣␣␣␣␣␣␣␣␣␣␣␣␣␣␣␣␣␣␣␣␣␣␣␣␣␣␣␣␣␣␣␣␣␣␣␣␣␣␣␣␣␣␣␣␣␣␣␣␣␣␣␣␣␣␣␣␣␣␣␣␣␣␣␣␣␣␣␣␣␣␣␣␣␣␣␣␣␣␣␣␣␣␣␣␣␣␣␣␣␣␣␣␣␣␣␣␣␣␣␣␣␣␣␣␣␣␣␣␣␣␣␣␣␣␣␣␣␣␣␣␣␣␣␣␣␣␣␣␣␣␣␣␣␣␣␣␣␣␣␣␣␣␣␣␣␣␣␣␣␣␣␣␣␣␣␣␣␣␣␣␣␣␣␣␣␣␣␣␣␣␣␣␣␣␣␣␣␣␣␣␣␣␣␣␣␣␣␣␣␣␣␣␣␣␣␣␣␣␣␣␣␣␣␣␣␣␣␣␣␣␣␣␣␣␣␣␣␣␣␣␣␣␣␣␣␣␣␣␣␣␣␣␣␣␣␣␣␣␣␣␣␣␣␣␣␣␣␣␣␣␣␣␣␣␣␣␣␣␣␣␣␣␣␣␣␣␣␣␣␣␣␣␣␣␣␣␣␣␣␣␣␣␣␣␣␣␣␣␣␣␣␣␣␣␣␣␣␣␣␣␣␣␣␣␣␣␣␣␣␣␣␣␣␣␣␣␣␣␣␣␣␣␣␣␣␣␣␣␣␣␣␣␣␣␣␣␣␣␣␣␣␣␣␣␣␣␣␣␣␣␣␣␣␣␣␣␣␣␣␣␣␣␣␣␣␣␣␣␣␣␣␣␣␣␣␣␣␣␣␣␣␣␣␣␣␣␣␣␣␣␣␣␣␣␣␣␣␣␣␣␣␣␣␣␣␣␣␣␣␣␣␣␣␣␣␣␣␣␣␣␣␣␣␣␣␣␣␣␣␣␣␣␣␣␣␣␣␣␣␣␣␣␣␣␣␣␣␣␣␣␣␣␣␣␣␣␣␣␣␣␣␣␣␣␣␣␣␣␣␣␣␣␣␣␣␣␣␣␣␣␣␣␣␣␣␣␣␣␣␣␣␣␣␣␣␣␣␣␣␣␣␣␣␣␣␣␣␣␣␣␣␣␣␣␣␣␣␣␣␣␣␣␣␣␣␣␣␣␣␣␣␣␣␣␣␣␣␣␣␣␣␣␣␣␣␣␣␣\n",
            "\n",
            "\n",
            "\n",
            "Attempt: \"Slow\" + 1.0\n",
            "-----------------------------------\n",
            "???? SlowÉX¼$‚GûY]4▪•Qâç4ç‟}½<—_&Â3▪”9í4•0LéKçZ“@èóư‱Ní7ưè|Ú7##é3▪9•5▪E`_Á5▪ÉáQ▪€€ZX$@E‧ê⅓=▪â=•Q#́5ﬂ•B.Bí®ç8EQç®ûû#[üY�qN@9EéëX%{€è_áñW—'àë#‧»ñååW$▪é~Gî%́“:í7çY@ă\\ê~å—¤GGë»~©${¤$×ó§N0Éﬂ¼G8EÚ°⅛Q’“öáEY⁄̀ìâ—'—•J⅓Xú9Xè´*ì#ä]×\\¿7Âá¿“éQ©´Qñ⁄Qåú9¼½è́9ﬂ[~C“â>#»#&Ú®Kơ_Ú€’àâT3zéz9áó9É7EX_=í©%C%‒ç>àà•\u001aà\u001aEÚ\u001aEơ\\É $qâ€4&péé4#˚Q⅞G4▪#®‒&Éﬂ9EEX©â9▪ûêZóôQñ®5Eë1 KO“%ä=>ăíG2•å8éEzÉ™—öA2▪3▪D?9N⁄,É5ê▪øé7•ì<€åî9EXÉ\n",
            "%:,V~ø[ưí“àáXø3ú5ﬂ”8ElH⅛_KñåàVÁ4•É#%§$ÁKèZ¼#˚’ü€‧í:á©%>@J¼G▪Eî▪—ﬂ6▪•íQ‧°ÉOé8áWKÉâÚ5N®§EﬂYY︎G7E2E7|ë€E#E⅛4EQ]à!́8OeZâG&3øA©ñ︎Á‟J˚ë9▪Q́å3%3°YX•çø#íơZ$]­¿ü4▪×øZ¿ﬂ\\åè‭€XYzíU<Á7Eîơ�#ÁN\\ﬂZüX̀%#ü2�#»⁄%‟X3Q▪í9⅛Éç̀5É~UYơ‭ÉWá⅓í7▪Uư%¼ô︎ơX´â9§YK&V$ź▪X�$Y•©ï˚Ek»;í#»4{�2OJ‟»-)“âơ'9w\u001a+KûIáF©ìj‚EEW◊´#̀5▪Q▪í5ë9▪9EU5&¿E�XAé%ü7ç%◊Z•|[˚¤]9YèK‟EQçK⅞⅛€G4K0|ă9▪4$¼ñK92L7ç︎!™GíKX•qơ3Kí©óâí⅓z_︎5••KYíâ¿ñưèV!E%Q%©o€à%#‒ï’5▪Z0KKK˚KE%J[‧WQ<~6▪E{G:èTä®︎§EJZÉ◊Gç▪#\u001a•Q6_{\u001ah5▪#¤´0``‧îUí9▪¾‟<Zì×Úî:3▪‧#§&7ơOQóEXÂǻF‚◊\u001aQ_K‭DNàE␣B5á[z`ºçá5▪G▪&•ê▪ET`ô­ñ°03M7‚9E<äEEAE¾4XQÁè>å2▪óÉơ9$àăíG5E$üﬂ•~=¤ºáà%ëZ{î_'X9ETü5ﬂ&É#~×û™5VV\n",
            "\n",
            "\n",
            "\n",
            "Attempt: \"Slow\" + 0.8\n",
            "-----------------------------------\n",
            "???? Slow9K}Qâ?©èQv\u001aV︎G3▪â´Y´5▪•û®àă9▪7•3EOç5Kú#é Q▪ñ⅛KÁD’ê™EX•èXÉ‭â=çXá\\Jñ_É<Y˚8EE⁄‚E¿É¿®9EXùZçâă6⅛E°5•◊î5•X»#§#EX%¼©`︎í3▪|X7_ÉÉ™#$⅛▪▪ïï}#ơ&4▪7▪î5▪í®9▪ÂY[}úëí⅞YN¤Áñâú+9E2»ư7•Z ‒âí9Wï‱9•­è9▪7▪▪X▪Z>á»î5E]®—é&7EC™Q©E™Yâ½íâﬂQåÉ#ñ9VQ▪KEèX́¼ZJ°¿x‒8E©WY®àå[öèIéÂK9Zíâ#ââ9▪Ú8•©ÉZñV︎GHà‒�ìüà▪Q▪3▪9▪5•Xñ!E ‱E5NơH×⅛ÉèYÉ%Y+︎ë⁄ô5▪5Kñ$èê︎E5Qh@Q@¤4VP▪‧4E◊Qà‧ç5▪@éCñ8IÁ#[`à▪ü5•#{úJ®€¼E◊ñ⅞Ỳ#EÉ9▪Sxñá5▪9▪`XE5è$‟⁄5ø>ëî6•ơ™9Eå>‚▪E>é>ÉﬂQ▪▪5▪‧ư~ë¤9•“ÂºSÉä#ư95Eă‒=ơQ`íă▪5E9ZX%öQû6B9»C‧€â5▪5E‒~‚àEÂ5▪7•Ú@Q▪ûW4_ơUùâ9é5Eç7Xñç▪[̀©$—ìå—å°çZ&�èQççì‚óXñ4•9$óåé¤#+G̀!jä°Kí§Z—âî︎|YQç9▪’ôZ#ﬂ\u001a—<Y‭¼Éë́§àE™5▪9▪O©ă‭\n",
            "ơï\\Gö⁄=3▪@®39▪7E4▪7▪7•G▪7▪ñ9K[Éﬂă“§åQ◊ ︎GvNìE⅞N${É™åäXEàEÂ:]áEX`%T´§#$É•9à2Kåå§[ú_¤ü9E½#éî5E‱K®í=óTBW5▪è⅞AEư▪‚YVY#(7NZQ§Q7¾7▪{X`JE©á§Qí‱E+í9EÉ3—ú©}Q︎°üU7ïE\\‒N⅓&#@•3▪ç5▪»â#ÂXó[í#´<˚!E_½9EIêTÉ7ç▪ôE©Ú“[É]ñJ︎î©øÂ9É3▪•\u001a8•à▪Qñ—»G‱5▪5▪5▪E#Q¼Eí\\É\\⅞:§&G©◊Úâ]KJè7•˚⅛Xí4⁄éí9WYàEéEXj•~ÚÉX•Z4™6▪=’T¤­]$▪ﬂG4YñÚû#$´çà⁄[í}Y+̀Z3• ’‭ñ9•9EëX⅞‧ÚëQîÉ‒:ñ>ÁY#EóXKư™LQñ⅞́5Z©´K~üYáâåGèí7▪¿àK9•èTî§#ö`“™C9Z#}N9•5•T%ZÚÚ°+#ê•WK\n",
            "\n",
            "\n",
            "\n",
            "Attempt: \"Slow\" + 0.4\n",
            "-----------------------------------\n",
            "???? Slow5▪9▪É•Q©ºJî9▪9▪7▪QñG4EXñ%ø#︎7E4EéÉE:3•W5▪9•3▪•4▪ÉX•%3▪™3▪É•Q▪E5E5EE9EơEí7EEñKí7EX▪E⁄¼UQYí9E5EEXQ▪í5▪7▪#▪7E•3▪•3▪5▪E3▪•G4•3▪7▪Eç5▪•B7▪•E\u001aÉ▪Qç5▪9▪5▪9▪EÉXEXZÉá9•í5▪▪9▪7▪•Xñ5EXXQ+OXÂ4▪9▪7▪Q▪9▪9▪9▪7▪9▪#¾▪E3E3▪▪5EàE&5E•WQ▪7▪7▪ •5▪7▪Q▪EZñZ︎%J7EEÉ%4E5E9EéT%É#’5EE®XåJ¤EèQ▪$ñ5▪Qâ◊í5▪7▪7▪EQ▪àEQ▪E2E|YÉç9▪É7▪7▪EEZ#E€QñàE•G%3EX%ú5▪•#ﬂT½E3Eç▪#é#▪•QäE3▪7▪7▪EXQñ#z®è7▪EEé5▪5E2EEEQDXñKèè7•E¤KG%Tö9•9É▪•KTñ9▪EﬂQäE7EE#É▪•XñXEEKKKEJ–í™Eè#EEE3▪9▪9E6▪E>éQ▪7▪EQ▪E%3▪#˚“öÉEX•WXñ®Xè7EEí9•VGX$É7▪E¼E#€Úíâ#é5▪9▪E’óQâÁQ%ñ9▪9E3▪•Q▪Qç9▪•G4▪9▪QñGXÚëç9▪Q▪▪7▪EZXñ%%QçYîáQñ9▪▪•3▪•J︎Eí5▪¤Eî$û▪EE•EéKKKKNWZ®E¿9•K%®%T®4EX%®#é5Eç▪9•7▪E#éEEQç▪5▪9▪Eé4▪E3▪7▪•Q�çç9▪7▪$©ÉX•#5•ö9•3▪Q▪â\\︎©ìñ`é#Á5EXñG%%3J#EÉøQç7▪9▪7▪•EYYâUí7E>ÉQäí9▪9▪E#▪E_é5▪9▪EE$▪•9▪5▪9▪QâU#‱9▪5▪9▪9E4▪E5EX▪EE2E•KKKUUUNKWUW5ZEXE5EOEEKKKKEEAEEEXEEEEEET #$ç▪9▪7▪E5E%3▪ç•3▪9▪#E5E´X@EQç9▪5▪9▪9EQ▪E&EQ$íÉE%5EEÉYáEE »è’#̀˚ç5▪5▪9▪ÉQâJQ▪Eí9▪▪Eă7▪•G4EEÉ7▪EXE©$ç9•Q▪EíT︎QñíéQ▪EÂè5EEX%#EUXOEơKKKí9•XKÉXÉ5E7EÉè:#E•G3EưñQÉEëQ‚#︎$»\u001a#▪́ç▪5▪9▪▪#$$‱$´öéÉX8E3▪9•3▪#{︎~â#?%3▪#Q▪&EQEXí\n",
            "\n",
            "\n",
            "\n",
            "Attempt: \"Slow\" + 0.2\n",
            "-----------------------------------\n",
            "???? Slow5▪9▪•G7▪EX•KKKKEEETJQEETJQ␣EEXEEEXEEEEEEEEEEEEEEEEEEEEEEEEEEEEEIAEEEEEXEEEEEEEEEEEEEEEET®XEEEZYEEXEKKKKEEAEEEEEAEEEEEEETJEEEAEEWXéEQ▪EE%XE%%%$kíQç9▪9▪9▪7▪Eí5▪Q▪EXEEXE%XE%%©â##▪7▪▪Q▪E#▪▪7▪▪•3▪•3▪•3▪•3▪•3▪EâQ▪Eí5E5▪▪9▪•X▪EE5E%3EXñ#É▪E%3E5E3E3EXEKKKKKNON␣␣␣␣␣␣␣␣␣␣␣␣␣␣␣␣␣␣␣␣␣␣␣␣␣␣␣␣␣␣␣␣␣␣␣␣␣␣␣␣␣␣␣␣␣␣␣␣␣␣␣␣␣␣␣␣␣␣␣␣␣␣␣␣␣␣␣␣␣␣␣␣␣␣␣␣␣␣␣␣␣␣␣␣␣␣␣␣␣␣␣␣␣␣␣␣␣␣␣␣␣␣␣␣␣␣␣␣␣␣␣␣␣␣␣␣␣␣␣␣␣␣␣␣␣␣␣␣␣␣␣␣␣␣␣␣␣␣␣␣␣␣␣␣␣␣␣␣␣␣␣␣␣␣␣␣␣␣␣␣␣␣␣␣␣␣␣␣␣␣␣␣␣␣␣␣␣␣␣␣␣␣␣␣␣␣␣␣␣␣␣␣␣␣␣␣␣␣␣␣␣␣␣␣␣␣␣␣␣␣␣␣␣␣␣␣␣␣␣␣␣␣␣␣␣␣␣␣␣␣␣␣␣␣␣␣␣␣␣␣␣␣␣␣␣␣␣␣␣␣␣␣␣␣␣␣␣␣␣␣␣␣␣␣␣␣␣␣␣␣␣␣␣␣␣␣␣␣␣␣␣␣␣␣␣␣␣␣␣␣␣␣␣␣␣␣␣␣␣␣␣␣␣␣␣␣␣␣␣␣␣␣␣␣␣␣␣␣␣␣␣␣␣␣␣␣␣␣␣␣␣␣␣␣␣␣␣␣␣␣␣␣␣␣␣␣␣␣␣␣␣␣␣␣␣␣␣␣␣␣␣␣␣␣␣␣␣␣␣␣␣␣␣␣␣␣␣␣␣␣␣␣␣␣␣␣␣␣␣␣␣␣␣␣␣␣␣␣␣␣␣␣␣␣␣␣␣␣␣␣␣␣␣␣␣␣␣␣␣␣␣␣␣␣␣␣␣␣␣␣␣␣␣␣␣␣␣␣␣␣␣␣␣␣␣␣␣␣␣␣␣␣␣␣␣␣␣␣␣␣␣␣␣␣␣␣␣␣␣␣␣␣␣␣␣␣␣␣␣␣␣␣␣␣␣␣␣␣␣␣␣␣␣␣␣␣␣␣␣␣␣␣␣␣␣␣␣␣␣␣␣␣␣␣␣␣␣␣␣␣␣␣␣␣␣␣␣␣␣␣␣␣␣␣␣␣␣␣␣␣␣␣␣␣␣␣␣␣␣␣␣␣␣␣␣␣␣␣␣␣␣␣␣␣␣␣␣␣␣␣␣␣␣␣␣␣␣␣␣␣␣␣␣␣␣␣␣␣␣␣␣␣␣␣␣␣␣␣␣␣␣␣␣␣␣␣␣␣␣␣␣␣␣␣␣␣␣␣␣␣␣␣␣␣␣␣␣␣␣␣␣␣␣␣␣␣␣␣␣␣␣␣␣␣␣␣␣␣␣␣␣␣␣␣␣␣␣␣␣␣␣␣␣␣␣␣␣␣␣␣␣␣␣␣␣␣␣␣␣␣␣␣␣␣␣␣␣␣␣␣␣␣␣␣␣␣␣␣␣␣␣␣␣␣␣␣␣␣␣␣␣␣␣␣␣␣␣␣␣␣␣␣␣␣␣␣␣␣␣␣␣␣␣␣␣␣␣␣␣␣␣␣␣␣␣␣␣␣␣\n",
            "\n",
            "\n",
            "\n",
            "Attempt: \"Christmass\" + 1.0\n",
            "-----------------------------------\n",
            "???? Christmassû•#°©▪ù¤ñTNûâ&á▪‭9▪Q’G7$~ó︎▪©j\\_î5>[åEä#Q9ºEÉ#»G%3>=$�íÂEOW»C{Á™&Yí“▪éXăí¤JÉJ⅛EÁëW9ZÂ—=é‟°è#å=øâơG7>Ú™§zè9▪ü5▪Q|ơøﬂ⅛J‒½Á$ñ5⅛äèVă>ôơ€L­$Â©ﬂï@ă7\\åN‒©Eë‧ư§#︎L#ë–�å‭Kj︎~èï8•Á5▪QÉ»~¾çW®îâ\n",
            "âïÂë&á3Y#X̀\u001aä4‒4ơY‧N½Zxë_é7Eà7▪9EX“́E&í95▪É▪‒ăưOëìE#⅛ư\\{‭”Xơ5G%4ñ#é¼—ÉEÚ9̀¼`!Fû>Eí#×‟<⅞64▪6E§5▪á7ñ5▪úç•€ê•Q‧ñRkYuàÉES▪&WL®$⅓ûE#▪•BñTQăUơÂXÉ%E%@X#ñH®Âè%ZNéXé9ZêHW!#̀©ñ◊▪é­OK$®&Â7×6E\u001a#©︎¤G|QE’®K▪7E#øP•2▪°]4EâUU<à:NíëQççQ5‒Q)¤Eä%î»=̀6•NàV%Úèé#ơT$á®WÁXè§âYñ`é$é4▪#ăëà•3E´+ú3#àG̀7ÉçJó˚ë%⅛ñáó9E¿°◊Q`¿‭–⅞▪7ì7™$YL5RúëáéX8•$ïÁ9•Văü︎ñ4Sî‭�úï7ơ’®◊⅞JXó~â%•|&+5KKûU$$‭U5kÂ#ä~Y‟ZäT⅛}#⁄Á™€4»_ëP▪X>âEQÉZ:óQ▪‭ù3▪9=Éü︎§⅛¾!`ø©~9▪‟▪1̀ì[◊âîÉ\u001a9V\n",
            "yàNQçC#Úôơ­7▪E KWQ®⁄í$k+Kí6Eô°K__¾ư�[ñ‧—>$́Y&©2û¿́5▪7▪▪QNJ`ñEäÂŹíQ⁄=€Zî|í5Kï—âAU4A5zÚíÉơQNT4é7•9•`îT#`JÚ%‒‟Q—â§$l`XÉQ¿'•û6>©î3▪Xñ4¼IÂ‭‧‭(ñU#́©è!åù$É‟½Y#º—̀$ñ9XàZ‟‧øXñX�üW{Â3▪Zù™èK2ø7▪#ùQ–ưì\u001aYáÉÉ9•5▪’KáQè‧8ﬂ­ù_â~\\ä×Ú€9E‒M$ưOöEñ_éí9ﬂ7▪2E_ﬂ⅞G%PXơ½×ç}́ư9{]î7E4�\u001a5E@àZâơM︎˚ôEM©ÚXE`▪︎⁄‭É⅓+Z:ﬂ#ÁL#äQ¤$û`»è%#ÉGá5E▪D“É=äU™üKëé]’—◊ưè•4̀▪9̀VQ‭B0WOCTJN⅛H*?‧‚ì9•3C•ó⅛GX%êG\n",
            "\n",
            "\n",
            "\n",
            "Attempt: \"Christmass\" + 0.8\n",
            "-----------------------------------\n",
            "???? Christmass▪%â9p•|9⅛K!GX%X̀Wå‧%5EQ%í9EX´á\"ø_#▪§î#Â°X3▪Q◊àQfø#‧é̀î9ÁóKZ®øàE︎CEç▪⅓Qă▪©èXøKU®N_︎í◊î9▪$´¿é9▪QÉ=×⅓Q`í%™3E8▪EÚ7▪E°Xá•W•©ë7ôâô+‚»YGX8Eç‚#▪XZñ‟N#éXèèWQ»Wöù¼é7EôXâ‧ă<áZñ︎ñ0#ä7▪EQ2î?9•ó9E5EÉ5E—©û4•55QÂñ8▪çá9•&©â}EU%E®9å¾3X•̀S︎}J︎6Zë~9▪ưà▪▪°Yî7E‒Qâ§Føâ7çç▪9▪WK—è7•Éè5▪▪à▪Z‭ﬂXÉ•ä5E#êE▪▪•WX̀#▪Â6▪9▪Ú9•B︎︎7çëÉ#‟ÉZÚ®¾î6\\´¼4▪7▪7G8•áÉ#€`‭9K=$í⁄àéKá’§EZ︎Z4Yë︎K>U>Eø#▪[⅞•á́%X~ăáü7▪▪•3⅓3▪Q‚P$“•D5▪Q˚¤WW5▪#ưàEE3▪´▪©âà▪é4$™í¾Eâ®3EÉW]XKHáâï:9▪\u001a{éí▪5▪E4X▪Ú}Z™~­àéXEZ¿‱9Jﬂ+7ÉQñ5•Gøàç︎︎#ç7 ©â B⅛½äQ‧åﬂCà▪9▪7•3▪%É¤KîW½E9EñP▪7▪XÚë‒äQ⅛Gﬂ•í©ûQ˚×Qà‱9•øQëè5àZ9•3▪E3•3îY •J‚9▪‧™3EñîÉk•ëQ—É•G4Eç•è́á0Kă%K‧åºâî9▪_ç6▪û]QäîQ‟î7E3▪8YTñZQ©‟EóAEF‭§Y$ư¼EUQ\u001aXë̀EH˚$ÚÁA\u001aX‚Qñ¼Yíá︎‱⅛É#6▪íÚ##î:9•6▪▪ú︎#[︎3▪#QQ⅛øE7•5▪&#<L{ç⅓EéÉû5Q̀%D®Xí7▪▪7▪Q‱ç⅓Y‒5▪¤:G®‒7▪8•Zéă5EWQ>Y“°ê•=éEQ8⅓J▪ç4“EMYè‭“§É‱KKOQ́`˚íåí’ñG% à#}Xåñ½ZîKQÉX©XñT’\u001a4▪9•í7▪VTî4`¤’ö‧8Â9É{́B`ë‱¼—§YÚX­É™ñD´N—0©ÁÉÉ9•8▪J▪é%#èQ1®‧5▪7>EX°'ì9E:Kô4▪ﬂQ︎øçì�¤Q¤îû5LN:©$<ÉE3▪É!®3▪7@7▪E4▪8ñ9&íZ9E5#̀⅛•ñ9|û@Z~]ç7▪5▪áZﬂçơ¼K5▪Y3▪#‟˚ç4K\u001a“J`ôââ§Qà+LGî9•3E7▪E7Eá§¾EơX%%B7••îuWâï9▪#éE#7\n",
            "\n",
            "\n",
            "\n",
            "Attempt: \"Christmass\" + 0.4\n",
            "-----------------------------------\n",
            "???? Christmass▪E#ä7▪EE&ET%Kí5▪E%JKKC:É˚ºÉ▪E#âêEÚ@5E#E7E$ 0▪▪7▪9▪7▪▪7▪▪5▪•G4▪•9▪9▪5▪7▪E3▪E$ç▪é9▪7▪▪7▪EE•EQ▪EXE+T®]’Yá‱9▪E5▪9▪ÉEQàE‒‒EYÚôQ▪5▪É▪9•3▪7▪•XñZ#YÉZí9▪5E4▪•4▪EEÂX•=É#▪7▪E#É▪9▪Eé5E•KXEKKKK%N®̀ONZÚîQ©▪•7▪7▪E|=EéQ▪â—âU‭Q́9▪‟EXQ`å︎ñ9▪E~Q=Y▪EE`­7▪E%:%◊©#à▪EXñXÉ#EQ▪▪7▪É▪9▪▪7▪8E8EXOQú9▪9▪8▪O9▪•9▪▪EE5E5▪EE•T®3Qñ#▪7▪E&UU¾E#EKKKKHZN§EEkZ®#éKKKKEEEAEEAEEEEETJTUWZZX#é7▪9▪5EÚ9▪Zé7▪EQë!úYöó9EZ4▪EíQÚﬂKí9▪9▪9▪Eí5EQ▪EEEXEUKKKKNB9•ÚEXç▪•EYï7▪EEQç▪9▪Q⁄ç4▪9▪QÉ7▪EX•3▪âư9EÉ▪Qñ@•▪#▪EñKK$~ññYí9EEXEE5EEQ%EKKRQ▪EEY▪éEÉX▪E#§7▪▪7E2EÉ•GE%%®J®»EÉQÚ—▪Eøç9▪5▪•X©▪QÉ▪▪YÉ5E#\u001aKT9•9EE#ñ9•5▪5▪•3▪#©©▪KKW9E9E5EéX•#▪#QñKí7▪▪E#Eí5EçW9▪•EàE4E>è7EX%4•G4▪EE%è9▪EíQñú9▪ó9EQ▪Eç5▪9▪9▪E8•▪•Xñ_ô:$Xí9▪EÚ7▪•K9•E®G3E€KK®=ùJ©EECQ@▪EÂï¼EéEﬂKKYÉEEXEÉEÉEX%JÂ5▪4E#E▪Q‱9▪9▪E9EEXE%%3KKK®KT®EZ®KEZZRREAEWCEU%%ÉKKKKEQ®NAEéXñGÉ#é4EKKKKEE%NKNKíEEECT>#$¾E2E>#▪9▪▪9•ﬂ▪Q▪E%é7•3▪•4▪9▪U4▪Eè5EOEKK®Ú®Q×¤#E#⅞ñ9▪▪9▪5▪7▪7▪EEWKZî$Kí%©Qf▪EÉXQÉ5▪EXﬂ▪Qñ9▪E•G4▪5▪9▪7▪Eé7▪9•9E9▪E#▪Qç9▪#▪7▪EQ▪EÉXñK—▪Q▪G4EñÉ#ñ5▪9▪7▪▪9▪9▪7▪E5▪E5Eâí9▪EEEíQóGXE%®9E9•9▪àE2E9EéQ︎E%XZ#É▪7E´%0▪•G3\n",
            "\n",
            "\n",
            "\n",
            "Attempt: \"Christmass\" + 0.2\n",
            "-----------------------------------\n",
            "???? Christmass▪#é#▪7▪EEXE%î#EX•KKKKEEEEAEEEEEEEEEAEEEEAEEEEEEEEEXEEEEEEEEEEEKKKKKIAEIAEXEEXEE%%KKKKKT␣␣␣␣␣␣␣␣␣␣␣␣␣␣␣␣␣␣␣␣␣␣␣␣␣␣␣␣␣␣␣␣␣␣␣␣␣␣␣␣␣␣␣␣␣␣␣␣␣␣␣␣␣␣␣␣␣␣␣␣␣␣␣␣␣␣␣␣␣␣␣␣␣␣␣␣␣␣␣␣␣␣␣␣␣␣␣␣␣␣␣␣␣␣␣␣␣␣␣␣␣␣␣␣␣␣␣␣␣␣␣␣␣␣␣␣␣␣␣␣␣␣␣␣␣␣␣␣␣␣␣␣␣␣␣␣␣␣␣␣␣␣␣␣␣␣␣␣␣␣␣␣␣␣␣␣␣␣␣␣␣␣␣␣␣␣␣␣␣␣␣␣␣␣␣␣␣␣␣␣␣␣␣␣␣␣␣␣␣␣␣␣␣␣␣␣␣␣␣␣␣␣␣␣␣␣␣␣␣␣␣␣␣␣␣␣␣␣␣␣␣␣␣␣␣␣␣␣␣␣␣␣␣␣␣␣␣␣␣␣␣␣␣␣␣␣␣␣␣␣␣␣␣␣␣␣␣␣␣␣␣␣␣␣␣␣␣␣␣␣␣␣␣␣␣␣␣␣␣␣␣␣␣␣␣␣␣␣␣␣␣␣␣␣␣␣␣␣␣␣␣␣␣␣␣␣␣␣␣␣␣␣␣␣␣␣␣␣␣␣␣␣␣␣␣␣␣␣␣␣␣␣␣␣␣␣␣␣␣␣␣␣␣␣␣␣␣␣␣␣␣␣␣␣␣␣␣␣␣␣␣␣␣␣␣␣␣␣␣␣␣␣␣␣␣␣␣␣␣␣␣␣␣␣␣␣␣␣␣␣␣␣␣␣␣␣␣␣␣␣␣␣␣␣␣␣␣␣␣␣␣␣␣␣␣␣␣␣␣␣␣␣␣␣␣␣␣␣␣␣␣␣␣␣␣␣␣␣␣␣␣␣␣␣␣␣␣␣␣␣␣␣␣␣␣␣␣␣␣␣␣␣␣␣␣␣␣␣␣␣␣␣␣␣␣␣␣␣␣␣␣␣␣␣␣␣␣␣␣␣␣␣␣␣␣␣␣␣␣␣␣␣␣␣␣␣␣␣␣␣␣␣␣␣␣␣␣␣␣␣␣␣␣␣␣␣␣␣␣␣␣␣␣␣␣␣␣␣␣␣␣␣␣␣␣␣␣␣␣␣␣␣␣␣␣␣␣␣␣␣␣␣␣␣␣␣␣␣␣␣␣␣␣␣␣␣␣␣␣␣␣␣␣␣␣␣␣␣␣␣␣␣␣␣␣␣␣␣␣␣␣␣␣␣␣␣␣␣␣␣␣␣␣␣␣␣␣␣␣␣␣␣␣␣␣␣␣␣␣␣␣␣␣␣␣␣␣␣␣␣␣␣␣␣␣␣␣␣␣␣␣␣␣␣␣␣␣␣␣␣␣␣␣␣␣␣␣␣␣␣␣␣␣␣␣␣␣␣␣␣␣␣␣␣␣␣␣␣␣␣␣␣␣␣␣␣␣␣␣␣␣␣␣␣␣␣␣␣␣␣␣␣␣␣␣␣␣␣␣␣␣␣␣␣␣␣␣␣␣␣␣␣␣␣␣␣␣␣␣␣␣␣␣␣␣␣␣␣␣␣␣␣␣␣␣␣␣␣␣␣␣␣␣␣␣␣␣␣␣␣␣␣␣␣␣␣␣␣␣␣␣␣␣␣␣␣␣␣␣␣␣␣␣␣␣␣␣␣␣␣␣␣␣␣␣␣␣␣␣␣␣␣␣␣␣␣␣␣␣␣␣␣␣␣␣␣␣␣␣␣␣␣␣␣␣␣␣␣␣␣␣␣␣␣␣␣␣␣␣␣␣␣␣␣␣␣␣␣␣␣␣␣␣␣␣␣␣␣␣␣␣␣␣␣␣␣␣␣␣␣␣␣␣␣␣␣␣␣␣␣␣␣␣␣␣␣␣␣␣␣␣␣␣␣␣␣␣␣␣␣␣␣␣\n",
            "\n",
            "\n",
            "\n",
            "Attempt: \"The\" + 1.0\n",
            "-----------------------------------\n",
            "???? TheG%Á6&å#úAÉ€ç4ñIâ&⅛︎Éá×éXEïYñﬂ©º̀â5▪•�ëXdD»×ç§©îEâ=ÂäKKí4K—hÉQç•¼—é :©#ơÁ’O]Nî[éé‭àEf¤EçY`é8E*áB°v︎Á︎áYü×ñ:2\"⅓U⁄ÂN◊T§M×íâ#HơAÉ7ñ »å§▪ó9▪{Yè5ñV4XÂX$É▪F▪ED́4á’´7E§N`è€%3¾åﬂXD3▪5E4<IèéQç▪Qﬂâ⁄{︎8DâOéXó+J︎N~û=©’¤~å™$ÁèYè\"ó5Z°Xç8•áXXÂ§<‚©‚E>⅞JE§~\\¼§▪èYøTöî#ìç93▪úKXø®␣Uë9▪▪Â9é©ñ$︎3á◊▪É9EÉ2MW︎#GEQ—▪7︎{9Eă9IøÁ´ àá©â´Z`ç®óﬂàEầYO=º°$XUYJ<­Â®âK®g\u001á⅞ó–‭[x▪=▪7▪¼EX@é•Y¾7î~A#Y#:~Q$=•©•\\�ïx▪︎ä9EÚPÉ97´EIí⅛EQï4J@âT︎×◊û©ñQD•E‟ÉUèÉEX+ó&W%5@•§{~NçNàXá\u001a7Eé̀Q\\‭=‱©ö9▪$°àéYñE⅓á#é̀QÂE4¾`\u001aQä9>Xç▪5▪7EI>•KP_\u001aEÉ▪QﬂÚưY+EÚ9▪ë$|è7E´_»ìíT⁄è$ÁëZ}G4◊+\u001aW\\~>í0▪9▪Q⅛Ú‟ïî~å M�<ÉÉ9EXQøZ~Q▪︎í�è#ë8&8E’[`—’àºùQå#▪9•4▪‭9$ìÉ7▪•û̀ZﬂÉ\\àöG93öQ$▪�◊WJ$)X�\u001aY9E2•|#Q€5▪$¤©é8•▪T$¾[︎N%ü5\\×ü⅛9▪Z°=Ú§É•QâB®XX[ÂûWí¤#­$#Q§▪ÂZă‱K~üá⅞D▪ZçY¼G•×jơúO4E“▪⅓z5Z‧‧êQV‱Hî%%è•YÉQñ3J´~ùXQá7•⅞▪T︎áHñ!UT‱7¾É▪X€ëV%%â5E{▪ư3ú3▪•á▪Ú>Fºí:⅓©á|#ââ®Fá3▪´Hùç4YVû“Y=Q Q:X‚ø*%Á´Eñ>çYjìư‱{ơ︎Wjê§Aûè•9á{$ñ—x▪“ÚXÉăUQ´îP#¤•9▪6▪⅓3▪Y+âàà{¼⅛́7▪á™©⅓î®7•G>ñ4•WV%<|JîLR⅛OV©~úY˚!çVC:3Ní%‚C_|§#xf¼▪⅛Ú®57Â™4⅛#E0▪9▪S°é$ơTñ%#<#L<ç⁄Eá‟KưO9\u001a▪í4#Á®ìEY©ìñ7▪7X•¼k⅓Ú©E$QW\n",
            "\n",
            "\n",
            "\n",
            "Attempt: \"The\" + 0.8\n",
            "-----------------------------------\n",
            "???? The▪ìQîOÉﬂQº“!ñKB6YëøYñöÉơ5▪▪#™B7▪QI‭‧ç4▪×$ç▪èñMêZç[%\u001a@#×⅛`àE•X%Eưî7•4Q⁄§#E⅓J]ă9•¼7▪5▪E•Q”ûEU&ñ5ENééQ‧ê•4▪%‒åä#ơ\"•QuâQì\\Y‱¿û5▪T9$è´KW+%Eèơç9$âë—É~»#°KHEZÉ©_\u001aY#”å\u001aè#▪Eư︎G˚îê▪▪Z4▪9E#{çN`3▪⅓L8E»#ó9E2•GîSăJñKííºYéT%\n",
            "&%èóN¿\u001aÉVL½¼‭ÉQûK§í9+#%5▪Q>#9•Kj—•`7•ă9K{ăăYXé{”=▪Y‧ç▪︎G̀7̀KëXçYYàEXE�Úè̀U~É9•▪5E9KC4âÚá▪ÉàèÉì€ÉÚè|çì#â~úư#ơ´Áîé¤ç9â5▪ûâ|É4ñ´︎ơè︎Z︎9�áZ{°ç9•Nă▪KK€QñK¤èXç°#▪×8▪EÂÉ©ú$ÚX`#¤ìâô#EíAE×é8áúO#´X$°½èNëô9•ñ4ÉG­ç9Mú8E#×éñ|QäêEVZE´K%è‭—‭©ÉY‚P▪EÚí9•¾Yé5▪>]Z5▪EXç8ë®áíKZ´ăE’_áì©§ïåơ ü5E9▪7É7EÚ}ÉQ▪ZKw\\»ơQ⅛à9▪6ú8▪ELê•3▪4N|N8V︎˚︎6▪⅛ìåçX•Q‧àEEXYííE6z&è7á9́=▪5▪E•KíT+GB9▪•J‚E2ñ\u001a#\\åçưK◊ÁÁ5EáCâÉQ}ưKtñQçâ‟Xv6G•ìâ® $ B9OEé8Ezè #ﬂ▪•5Kâ:û\u001aZ9•àEﬂY#7▪9$äàVY{­ñ5▪Eù3▪ç5▪ZúYñY+EJơQç%î4ñ$‭©▪•~⁄ê$ç▪éÉ⅓Á⅓#Qìư~ë®#◊2QÚ@º⅞B©ơ®‭6▪©î#⁄â~®́5Záí9▪7▪>àE‒=ơ5E5▪3▪Q~,ìVëÉ#A­˚9▪Xñî̀#J‧-▪ôéçì9•3▪¾▪á7▪5▪\u001aä#▪#ñ#ă‧#î5▪‱DQQ`€8ﬂQçêK|í9â4##ơÚ5▪•G4éQ}7◊$¿EAOKGç¼úKkK˚~{̀:~~\\å︎~Â$ﬂéF•Z[︎®à9K~9%ÁU{ë5▪Qï¾OEEQJQ▪9▪Qé©å#éKîW$èï=$¤—ñH#\\©çÉ#ç9▪3•è#5▪îQç%ä½E©§SOè7•⁄=EÉXñ$ẦàEì7▪5▪êQ‚▪‱5▪QñÂEQ$ø⅓YT>{çÉÚ7îÉ¼Zñî5▪\n",
            "\n",
            "\n",
            "\n",
            "Attempt: \"The\" + 0.4\n",
            "-----------------------------------\n",
            "???? The9▪▪9▪9▪EXX▪EEÉE5EEX•WZE`̀•î5Eí“_è“å#ưñ7▪EQ▪Z︎K®âEQ⅞KÉ▪î7▪Q#ñ®®3E9EZî5EWQx▪•#▪Uí5▪7▪7▪E•E#▪Z︎Z5E4EXÉEÉZ9E+-▪E#QâUÉW9E%É KYàE4E5E™Q▪Eí9▪7EEÉNQ▪•G4▪•3▪7▪•G4▪EQÉ▪7▪▪í5▪7▪•4EE5E&KQñí#úQç9▪í7▪•Qç9▪9▪EQç▪7▪5▪9▪7▪7▪EZW5▪Zè5EX%%©Qç▪5▪QÉZ§Q▪EE5E#éQEEIKKíQíëQñ9▪Q%ZZ#︎KK¤Q▪Eç5▪•3▪á7EEQñàEéQÉ€©#▪EEÉXEEíQEEEQ▪Eí:9•ñ9▪7▪EEQÉEX%ñT©]%KJ0E2E9•V‚EEíYë#ﬂQë9▪9▪E9EÉÉX•GXçîÚÉQ▪9▪9ÉQ▪L5G4E#EXEE%X%XN´K#Qñ9▪7EX•3▪•í9▪î#ó9EQ▪▪é®â5▪Eí:é4E%3EÉYí9•G4▪Q~àEñZJQ▪EKKYEéE%Táè̀ÚXYÉEY⅞EYè7E#ñKKZEQë▪EE%XV®ÉXQç9▪7EEWXKíâîÂ9▪Eă3▪9▪4▪Qç9▪9▪9▪5▪▪9▪•K4EKKZHàE9EXEUAEE5E#EZç#▪7▪▪EEè5Eè™Eç9▪9▪EEXEEXE‟KKKKKK®KG®EèTE%®FE>%&VYÉ°˚Q▪EEJ€¾Eè7▪EEWX▪Q▪EéE#EñKK>©~í9EñJºQ▪Xéå‟É#Q▪EZZXZÉ#í5▪7▪•G4▪EQ▪7▪5▪9▪9EE3▪EÉﬂ•‟#ÉK%©$çÉ▪7▪E3▪Zè9▪7▪E#$••3▪#▪•3▪E#▪5E#▪5▪9▪É7▪•WK9•4E“™Y€ZÉ\\Ú︎ZX%+=é5▪E3EXZXEOE%%X#EX%®KÚ®|KKNWY‭9•ỲEí7▪ûE#É▪Qñ9▪EÚë5E2EQ▪EXñ8EáEÉ▪E§EQ˚Gñå#×E9▪EX•G9▪Q§KKV®EQx▪9▪EÚÉ4E`ÂÉEé#$ñ9EÉ▪E9EäEEÉQ́‭è7E%X%4E%%3•5▪9•3▪•3▪9•GJ°K®KB7EEKKKKE%EEAEEAEEZKKKAEEUUUDZ>íÉ▪EQ▪EQ▪EEå#àE~èEÉ▪7E#©▪9▪E%í5▪•í#ﬂGX▪•$ç5▪5E5EQ¤E%5EKKKíAEÉ•C9•3▪7▪E#é\n",
            "\n",
            "\n",
            "\n",
            "Attempt: \"The\" + 0.2\n",
            "-----------------------------------\n",
            "???? The▪7▪EE#▪EX•K®7•3▪9•X•G4▪•KKKKKKEEEEEAEEEEEEETT!%EECREEAEEEEEEEEAEEET$í%#EEXEEKKKKREEEAEEEEEAEEEEEEEEEEEEEEEEEEEEEEEEEAEEEEEEEEAEEEEEEEEEEEEEEEWYéEEEWYYíå9EEXYEX•EKKKKKEEEAEEEEEEEEEEEEEEAEEEAEEEEEEEEEEEAEEEEEEEEKKKKKTNEEEN␣␣␣␣␣␣␣␣␣␣␣␣␣␣␣␣␣␣␣␣␣␣␣␣␣␣␣␣␣␣␣␣␣␣␣␣␣␣␣␣␣␣␣␣␣␣␣␣␣␣␣␣␣␣␣␣␣␣␣␣␣␣␣␣␣␣␣␣␣␣␣␣␣␣␣␣␣␣␣␣␣␣␣␣␣␣␣␣␣␣␣␣␣␣␣␣␣␣␣␣␣␣␣␣␣␣␣␣␣␣␣␣␣␣␣␣␣␣␣␣␣␣␣␣␣␣␣␣␣␣␣␣␣␣␣␣␣␣␣␣␣␣␣␣␣␣␣␣␣␣␣␣␣␣␣␣␣␣␣␣␣␣␣␣␣␣␣␣␣␣␣␣␣␣␣␣␣␣␣␣␣␣␣␣␣␣␣␣␣␣␣␣␣␣␣␣␣␣␣␣␣␣␣␣␣␣␣␣␣␣␣␣␣␣␣␣␣␣␣␣␣␣␣␣␣␣␣␣␣␣␣␣␣␣␣␣␣␣␣␣␣␣␣␣␣␣␣␣␣␣␣␣␣␣␣␣␣␣␣␣␣␣␣␣␣␣␣␣␣␣␣␣␣␣␣␣␣␣␣␣␣␣␣␣␣␣␣␣␣␣␣␣␣␣␣␣␣␣␣␣␣␣␣␣␣␣␣␣␣␣␣␣␣␣␣␣␣␣␣␣␣␣␣␣␣␣␣␣␣␣␣␣␣␣␣␣␣␣␣␣␣␣␣␣␣␣␣␣␣␣␣␣␣␣␣␣␣␣␣␣␣␣␣␣␣␣␣␣␣␣␣␣␣␣␣␣␣␣␣␣␣␣␣␣␣␣␣␣␣␣␣␣␣␣␣␣␣␣␣␣␣␣␣␣␣␣␣␣␣␣␣␣␣␣␣␣␣␣␣␣␣␣␣␣␣␣␣␣␣␣␣␣␣␣␣␣␣␣␣␣␣␣␣␣␣␣␣␣␣␣␣␣␣␣␣␣␣␣␣␣␣␣␣␣␣␣␣␣␣␣␣␣␣␣␣␣␣␣␣␣␣␣␣␣␣␣␣␣␣␣␣␣␣␣␣␣␣␣␣␣␣␣␣␣␣␣␣␣␣␣␣␣␣␣␣␣␣␣␣␣␣␣␣␣␣␣␣␣␣␣␣␣␣␣␣␣␣␣␣␣␣␣␣␣␣␣␣␣␣␣␣␣␣␣␣␣␣␣␣␣␣␣␣␣␣␣␣␣␣␣␣␣␣␣␣␣␣␣␣␣␣␣␣␣␣␣␣␣␣␣␣␣␣␣␣␣␣␣␣␣␣␣␣␣␣␣␣␣␣␣␣␣␣␣␣␣␣␣␣␣␣␣␣␣␣␣␣␣␣␣␣␣␣␣␣␣␣␣␣␣␣␣␣␣␣␣␣␣␣␣␣␣␣␣␣␣␣␣␣␣␣␣␣␣␣␣␣␣␣␣␣␣␣␣␣␣␣␣␣␣␣␣␣␣␣␣␣␣␣␣␣␣␣␣␣␣␣␣␣␣␣␣␣␣␣␣␣␣␣␣␣␣␣␣␣␣␣␣␣␣␣␣␣␣␣␣␣␣␣␣␣␣␣␣␣␣␣␣␣␣␣␣␣␣␣␣␣␣␣␣␣␣␣␣␣␣␣␣␣␣␣␣␣␣␣␣␣␣␣␣␣␣␣␣␣␣␣␣␣␣\n",
            "\n",
            "\n",
            "\n",
            "Attempt: \"Banana\" + 1.0\n",
            "-----------------------------------\n",
            "???? Banana▪‱%Á⁄ơ­‒Q̀%QÉñ»ì{QñW®́à7éèJñ︎Fâlä•à7̀9▪▪É9▪U•˚ü§Fè7EBầ0ï5E~è‟ÉøIå 7ù /î]E#Hå|ñ2#©°[́é︎¾ứ́⁄ 8▪N3▪▪•“‭5Xñç½~2$́­Á9ñ7▪QV®:˚©çç™!ñ¼ë”?Á½▪3▪•UYåL5Q¤å¾I#⁄Y%3Zîơ¿é[ăåç▪5éE⅞øXơÁXçEà'_E´åEôF▪ •Á!™⅛|—#ñ #▪{ìì7\\︎•�⅛QOEO$ºô»5áU­å‚E3Z—#Á|í%Ú}ONî⁄åóÉ•W9EÉZ>́⅛­#×ÉK9_°™Iî×ïưưé|&##é8E7▪ô9E~Â4J—ïYú®íTí$nñ#€©êY▪ç⅞êH‧ç9Z‧%“5Eé4Eﬂ▪̀É½K‒E`ÁÁé#̀4▪ë9Eô%~è7▪⅓ç⅓Që‭9>%= 8É¤Q]XO9▪®4v‟–ù⅛®úEQ◊¼EGü®7Ez}K®Ká7QáWX~X︎S‧̀‱“¼+ơ§8▪èT¤Âçú%CBüá6EÚ#ìW%23▪83▪•G7⅛í8▪#¤4ë©zﬂ␣é½§˚~Â‒‧ê▪U@çEíQ}âP▪è︎#´áè ư⁄︎ºE®%T4vïáYâÉ⅞ø�ơRZ@︎‭™âE%OÁQéQﬂî5▪5öW°EX‧03▪•ç°9øEưU#îl3J€G:9­•T#$|ằ8Áçü9à▪W]”E5+¾YE+G`é4•5E#»~ô•®ûW‟°ñ®YY°àEMKGKÂL´ø–‒⅞èIâﬂñîK̀í’@⅛XNzè¿èM‧6▪äKàíáE•Q︎ñG5OìGk_KZ¤EKñ˚︎ñ5EÂX%Ví#$ơäø7&ÉQ;⅛#EM‚XVZ>ï7ôó\\ ⅛Y@©9▪E%3ZơíÚëZ6ñ×$°1íJEôKKXGWYÚïûöﬂ4&~éú4Eñ‧\u001aî4&|¼øÂ#×ñK‧—ïJíâEXÉ !#É7ë~ëÉ7•&¾î9•&í9Eí©ñ{Éﬂ&|é[ÚÉÚ◊ö´á‱#Y$ơñYà▪Q3▪“éE•9•Cë®=í®ì2ëOôåéﬂYE@AEY{6EàEÉî⁄OøäYîï´èÁ�ă5#ÂEç9̀#\n",
            "å#-ì‱ùM▪6▪O⅛$#[\\‱{ç˚ü9•f2 àE5▪=(‒âKWWY⁄ëXç‱5G9•î4K?⅛‒JGZÁOâỲ}ùETè`#éåQ{}$KX­Úó©íÉZG®&\n",
            ";í2◊:á)\n",
            "␣␣␣␣␣␣␣␣␣␣␣␣␣␣␣␣␣␣␣␣␣␣␣␣␣␣␣␣␣␣␣␣\n",
            "\n",
            "\n",
            "\n",
            "Attempt: \"Banana\" + 0.8\n",
            "-----------------------------------\n",
            "???? Bananaé9▪<~0EOEX®ôKT⅓¼L’EàKíí5▪]J1$ÁEZWGÚG7_ëÚ®{ùQ‒á‒©©9⅓Á%#$‱Q▪̀9\\5▪ü9▪•8Gç¿°*˚ç\u001a]åJºóQÁÉlQñ{\\ú¿ÉXñ$”ZZí™+‒I®öî#¿ñơ—‱ﬂ#â¤â7▪E¿í»8J\\+©©@Y⅛Eè]EEÂ7EO⁄ü8▪▪EOQ½▪9E X▪•#▪TÉ �ç9▪©ü9▪‧PAá2▪€XéâPầ©­;︎HçSUí°§¿⅓}â=‭_áH‧Yñﬂﬂ#&çWç4#E7EL#‟K4Eô9â_é©â´#Q¤ëQî¤9▪Z9ư§ÚMàéă9Eè6Z%¤Éí5▪€9EÉX•©\\¤øW 5▪¤Ká9•9}7E9▪EíÉàEKKEèQ“~ó¤»Z§jWèÚâ®Eﬂ‧âJ⅞‱KZî#éÉEç®\u001aE#çáÚ=€®◊!EKàEûøJá#‱ºﬂèﬂà︎G»Á2E4▪9E3E#=▪O#Â9íºàE>®“â︎K#HïX%©§—èù€éY‱ú9▪ÚïÚằKá9&Q▪’à ©9▪‭7E“YV“ “â®âéN◊‱!öZ>ñWỲÉW|íYÚ7EEưN»íE™É}KZÁ9•ÉQJ‱Q▪´é9•3¼âEî5#$èùEô#“óU˚%︎NñY{´É▪ûJXö½K‧á:Ú•T¾6•h́úZ#~É7‱Q▪U´\"̀½E9▪Eî~YKKMYY˚§êE1ZKNư9G︎KW+à\u001aXºKáê¼GW!ÚùC\"[¾EèÉ▪}X“$®7ç5•»8•▪QXN©3▪XEä⅞Q#Z[íXUñ#¤⁄LÚÚàK‭7î9ë▪U5%ưV0åÁ7Eì>ë:6j︎RWﬂOì▪YXøåë︎ơﬂî9Eê5▪QºE@XEuYé9TơàEâ#EZ4▪OàEYïâGXF▪4E°®ö<�X3ø$áQ▪´!–_\"é&#–ï¼k»ê▪G2XQÉ‱°fG*í9•âG4>$ï>EEk‧_“©W5QéQçº5O▪#ê▪é7Eáí7ECè»6Eú3ê|EÂ4E\\\u001aç9▪Ú®©$‒ :3�`▪í9▪7▪ç°™3▪•Gú8ECù8▪ëÚ®8▪©¾E`GYă !üZ̀7▪\u001a4[ô$¤␣#‟KYGñë‱•4E#|Fü5EQ‭O»í7▪⅓ă5Úư⅛|¤#—ù[ÉZ¿Ú9åK€EQ€KÉ7▪0ñëX⅓4•j⅛Wà#3▪Zî5Z3••WX=éE´‭%åáàìÉèé‭:33Y‟Y‟4E`ñRVü•Ú‒çXzY“‒í—▪Â}3E4E$‱7O’Áá´©íç9•_áÉ#ëW\n",
            "\n",
            "\n",
            "\n",
            "Attempt: \"Banana\" + 0.4\n",
            "-----------------------------------\n",
            "???? Banana▪Hñ9▪9▪EEEEW5▪9EEEXéQâYXE%YﬂXè5▪•Y#EèQè7EEEQ▪▪EÉX•K#ú5▪5▪▪3▪7▪EÉÉ4▪#EW•5▪#|î5▪G3▪E3▪•Xç4▪▪9▪#É•3▪#▪E8▪EE#EEKNàEEK®~©éXEç7▪•3▪7▪7▪E2EXENKKZZUWXá▪ÉQ▪É~Qâë5▪#▪▪U‱#$k%W%ZÉYx▪7▪EQx▪•3▪•G4▪Qñ9•G4G4EQơ9▪E5EE5EÉ▪EÉÂÉ#Qñ9▪▪Qç9▪9▪EEZç▪7▪àEEOQåÚé9▪E%EQ▪5▪5EO9EKKZ~XéEIQñW5E#E▪#ñXQáEñT$ÁơVìXàE9EE%%%#=%3▪3▪5▪4▪•9▪9▪▪Qç9▪â]#▪EY3E‱É5▪5▪7EX3▪5▪9E•C•G4•G•É3▪E4E3▪5▪E5EEø%3E#$âÉXñJ▪Kí%%#=#â¾▪9▪9▪▪9▪7E2E▪▪QíâQñ4Eé7E3EX▪Z°óÉ~©©éEQç9•Kí7EE#▪▪QE4EKKV®E#Q␣9EÉơQXí7▪▪E5EOEXYëYìE×EEäEÚY▪Éî5EXç4▪8▪E⅛K%3▪•KơX•T®î7•ZÉ#EKKKNWZHHHîÉ▪•Q▪7▪E#Qó5▪9▪9▪9▪Q▪7▪EEXZGZ°ÚÉ⁄ÁG%YîZY+EEÉX•KK®KT®N;␣␣␣␣␣␣␣␣␣␣␣␣␣␣␣␣␣␣␣␣␣␣␣␣␣␣␣␣␣␣␣␣␣␣␣␣␣␣␣␣␣␣␣␣␣␣␣␣␣␣␣␣␣␣␣␣␣␣␣␣␣␣␣␣␣␣␣␣␣␣␣␣␣␣␣␣␣␣␣␣␣␣␣␣␣␣␣␣␣␣␣␣␣␣␣␣␣␣␣␣␣␣␣␣␣␣␣␣␣␣␣␣␣␣␣␣␣␣␣␣␣␣␣␣␣␣␣␣␣␣␣␣␣␣␣␣␣␣␣␣␣␣␣␣␣␣␣␣␣␣␣␣␣␣␣␣␣␣␣␣␣␣␣␣␣␣␣␣␣␣␣␣␣␣␣␣␣␣␣␣␣␣␣␣␣␣␣␣␣␣␣␣␣␣␣␣␣␣␣␣␣␣␣␣␣␣␣␣␣␣␣␣␣␣␣␣␣␣␣␣␣␣␣␣␣␣␣␣␣␣␣␣␣␣␣␣␣␣␣␣␣␣␣␣␣␣␣␣␣␣␣␣␣␣␣␣␣␣␣␣␣␣␣␣␣␣␣␣␣␣␣␣␣␣␣␣␣␣␣␣␣␣␣␣␣␣␣␣␣␣␣␣␣␣␣␣␣␣␣␣␣␣␣␣␣␣␣␣␣␣␣␣␣␣␣␣␣␣␣␣␣␣␣␣␣␣␣␣␣␣␣␣␣␣␣␣␣␣␣␣␣␣␣␣␣␣␣␣␣␣␣␣␣␣␣␣␣␣␣␣␣␣␣␣␣␣␣␣␣␣␣␣␣␣␣␣␣␣␣␣␣␣␣␣␣␣␣␣␣␣␣␣␣␣␣␣␣␣␣␣␣␣␣␣␣␣␣␣␣␣␣␣␣␣␣␣␣␣␣␣␣␣␣␣␣␣␣␣␣␣␣␣␣␣␣␣␣\n",
            "\n",
            "\n",
            "\n",
            "Attempt: \"Banana\" + 0.2\n",
            "-----------------------------------\n",
            "???? BananaE#▪éQ▪EEXEXEEXEXEEXE%%X%%%%J%%%%%%á•G%®5•V®9•9•9•9•3▪7•3▪•3▪5▪9▪7▪•#▪•G4EEX•G4EéX•G4▪•G4▪7▪EEQ▪EEEXEX•G4EEX•G4E%KT®âàEÉ5EEXEEXEEXEEKKKKT®T®␣␣␣␣␣␣␣␣␣␣␣␣␣␣␣␣␣␣␣␣␣␣␣␣␣␣␣␣␣␣␣␣␣␣␣␣␣␣␣␣␣␣␣␣␣␣␣␣␣␣␣␣␣␣␣␣␣␣␣␣␣␣␣␣␣␣␣␣␣␣␣␣␣␣␣␣␣␣␣␣␣␣␣␣␣␣␣␣␣␣␣␣␣␣␣␣␣␣␣␣␣␣␣␣␣␣␣␣␣␣␣␣␣␣␣␣␣␣␣␣␣␣␣␣␣␣␣␣␣␣␣␣␣␣␣␣␣␣␣␣␣␣␣␣␣␣␣␣␣␣␣␣␣␣␣␣␣␣␣␣␣␣␣␣␣␣␣␣␣␣␣␣␣␣␣␣␣␣␣␣␣␣␣␣␣␣␣␣␣␣␣␣␣␣␣␣␣␣␣␣␣␣␣␣␣␣␣␣␣␣␣␣␣␣␣␣␣␣␣␣␣␣␣␣␣␣␣␣␣␣␣␣␣␣␣␣␣␣␣␣␣␣␣␣␣␣␣␣␣␣␣␣␣␣␣␣␣␣␣␣␣␣␣␣␣␣␣␣␣␣␣␣␣␣␣␣␣␣␣␣␣␣␣␣␣␣␣␣␣␣␣␣␣␣␣␣␣␣␣␣␣␣␣␣␣␣␣␣␣␣␣␣␣␣␣␣␣␣␣␣␣␣␣␣␣␣␣␣␣␣␣␣␣␣␣␣␣␣␣␣␣␣␣␣␣␣␣␣␣␣␣␣␣␣␣␣␣␣␣␣␣␣␣␣␣␣␣␣␣␣␣␣␣␣␣␣␣␣␣␣␣␣␣␣␣␣␣␣␣␣␣␣␣␣␣␣␣␣␣␣␣␣␣␣␣␣␣␣␣␣␣␣␣␣␣␣␣␣␣␣␣␣␣␣␣␣␣␣␣␣␣␣␣␣␣␣␣␣␣␣␣␣␣␣␣␣␣␣␣␣␣␣␣␣␣␣␣␣␣␣␣␣␣␣␣␣␣␣␣␣␣␣␣␣␣␣␣␣␣␣␣␣␣␣␣␣␣␣␣␣␣␣␣␣␣␣␣␣␣␣␣␣␣␣␣␣␣␣␣␣␣␣␣␣␣␣␣␣␣␣␣␣␣␣␣␣␣␣␣␣␣␣␣␣␣␣␣␣␣␣␣␣␣␣␣␣␣␣␣␣␣␣␣␣␣␣␣␣␣␣␣␣␣␣␣␣␣␣␣␣␣␣␣␣␣␣␣␣␣␣␣␣␣␣␣␣␣␣␣␣␣␣␣␣␣␣␣␣␣␣␣␣␣␣␣␣␣␣␣␣␣␣␣␣␣␣␣␣␣␣␣␣␣␣␣␣␣␣␣␣␣␣␣␣␣␣␣␣␣␣␣␣␣␣␣␣␣␣␣␣␣␣␣␣␣␣␣␣␣␣␣␣␣␣␣␣␣␣␣␣␣␣␣␣␣␣␣␣␣␣␣␣␣␣␣␣␣␣␣␣␣␣␣␣␣␣␣␣␣␣␣␣␣␣␣␣␣␣␣␣␣␣␣␣␣␣␣␣␣␣␣␣␣␣␣␣␣␣␣␣␣␣␣␣␣␣␣␣␣␣␣␣␣␣␣␣␣␣␣␣␣␣␣␣␣␣␣␣␣␣␣␣␣␣␣␣␣␣␣␣␣␣␣␣␣␣␣␣␣␣␣␣␣␣␣␣␣␣␣␣␣␣␣␣␣␣␣␣␣␣␣␣␣␣␣␣␣␣␣␣␣␣␣␣␣␣␣␣␣␣␣␣␣␣␣␣␣␣␣␣␣␣␣␣␣␣␣␣␣␣␣␣␣␣␣␣␣␣␣␣␣␣␣␣␣␣␣␣␣␣␣\n",
            "\n",
            "\n",
            "\n",
            "Attempt: \"Homemade\" + 1.0\n",
            "-----------------------------------\n",
            "???? Homemade9▪ﬂákK9E\\°©⅛q\\XO8▪í$V;ñ—Áùà#$áB7ä§E€W»KñZ⅛öÂ5=‟øé3$î¾»5▪9▪5▪•E7GB•E+⅛ù“8•EAEí©⅓︎‟`î\n",
            "́Á™\u001ajZøïTà$äâ#é‭Q︎6íâ‱ú4½E5EEí0ô’ëøU¿E‚è7E#úCü# ¤—ú9▪ñ4▪TTä~ﬂ6▪Áô\u001aç4̀é$É́=AXY︎#▪èú9⅓á7▪ETÁZX@ì8E~×EEà+EúMéøø¿ ç_<!öÚ“â{|ÉQù⁄Úë\u001aZ>[”�◊´I3Qñá•úQN®6`\\⅛‭é◊EO#KKKZG–>©û}!ÉÚ­︎3ö~]êE\\YKEAâ\n",
            "␣•#%,ST.␣␣␣␣␣␣␣␣␣␣␣␣␣␣␣␣␣␣␣␣␣␣␣␣␣␣␣␣␣␣␣␣␣␣␣␣␣␣␣␣␣␣␣␣␣␣␣␣␣␣␣␣␣␣␣␣␣␣␣␣␣␣␣␣␣␣␣␣␣␣␣␣␣␣␣␣␣␣␣␣␣␣␣␣␣␣␣␣␣␣␣␣␣␣␣␣␣␣␣␣␣␣␣␣␣␣␣␣␣␣␣␣␣␣␣␣␣␣␣␣␣␣␣␣␣␣␣␣␣␣␣␣␣␣␣␣␣␣␣␣␣␣␣␣␣␣␣␣␣␣␣␣␣␣␣␣␣␣␣␣␣␣␣␣␣␣␣␣␣␣␣␣␣␣␣␣␣␣␣␣␣␣␣␣␣␣␣␣␣␣␣␣␣␣␣␣␣␣␣␣␣␣␣␣␣␣␣␣␣␣␣␣␣␣␣␣␣␣␣␣␣␣␣␣␣␣␣␣␣␣␣␣␣␣␣␣␣␣␣␣␣␣␣␣␣␣␣␣␣␣␣␣␣␣␣␣␣␣␣␣␣␣␣␣␣␣␣␣␣␣␣␣␣␣␣␣␣␣␣␣␣␣␣␣␣␣␣␣␣␣␣␣␣␣␣␣␣␣␣␣␣␣␣␣␣␣␣␣␣␣␣␣␣␣␣␣␣␣␣␣␣␣␣␣␣␣␣␣␣␣␣␣␣␣␣␣␣␣␣␣␣␣␣␣␣␣␣␣␣␣␣␣␣␣␣␣␣␣␣␣␣␣␣␣␣␣␣␣␣␣␣␣␣␣␣␣␣␣␣␣␣␣␣␣␣␣␣␣␣␣␣␣␣␣␣␣␣␣␣␣␣␣␣␣␣␣␣␣␣␣␣␣␣␣␣␣␣␣␣␣␣␣␣␣␣␣␣␣␣␣␣␣␣␣␣␣␣␣␣␣␣␣␣␣␣␣␣␣␣␣␣␣␣␣␣␣␣␣␣␣␣␣␣␣␣␣␣␣␣␣␣␣␣␣␣␣␣␣␣␣␣␣␣␣␣␣␣␣␣␣␣␣␣␣␣␣␣␣␣␣␣␣␣␣␣␣␣␣␣␣␣␣␣␣␣␣␣␣␣␣␣␣␣␣␣␣␣␣␣␣␣␣␣␣␣␣␣␣␣␣␣␣␣␣␣␣␣␣␣␣␣␣␣␣␣␣␣␣␣␣␣␣␣␣␣␣␣␣␣␣␣␣␣␣␣␣␣␣␣␣␣␣␣␣␣␣␣␣␣␣␣␣␣␣␣␣␣␣␣␣␣␣␣␣␣␣␣␣␣␣␣␣␣␣␣␣␣␣␣␣␣␣␣␣␣␣␣␣␣␣␣␣␣␣␣␣␣␣␣␣␣␣␣␣␣␣␣␣␣␣␣␣␣␣␣␣␣␣␣␣␣␣␣␣␣␣␣␣␣␣␣␣␣␣␣␣␣␣␣␣␣␣␣␣␣␣␣␣␣␣␣␣␣␣␣␣␣␣␣␣␣␣␣␣␣␣␣␣␣␣␣␣␣␣␣␣␣␣\n",
            "\n",
            "\n",
            "\n",
            "Attempt: \"Homemade\" + 0.8\n",
            "-----------------------------------\n",
            "???? Homemade•◊ùă9•G%ưê•|Y‱•ñ9Eâ%T︎#ú4▪Q”▪▪Eí9T®àEé&äG6▪Oư#‱KQ▪í#˚>ëàEë⅛ﬂGKúK®0E#éL\u001a9I¿ê⁄©ñN°◊óí@E7´è5É︎4ơLưÉ{0P▪>î5E×#▪7E“î2K‧®êûQè7E6EH︎Xî▪•½▪QÁ7Eë>>Z#Q©́ơ#8•ç▪5▪|ư5é¿‒Ú9ñQ½#▪>E⅞€8§{E6{ô½WQx©¾H‟%ëÉâ ©⅓#▪5▪7▪7▪4Iê▪´É×©íUç4EIåâP#ù3▪U\\�7•ñú6GQùvK$ÉXưáéñ_ëYçN‟Ú~=‟9▪%3É▪7\u001a#é5▪íD½T9è7{�¾ZñQX▪D•í%X+$¾YYôé⅛Z⅓ç7̀▪3▪=©©Që 5▪▪7E‒%X•ñ®Eé◊K\\ç:3è°+Bưø˚5▪—‭⅞F▪E�ăé▪%Y#EàE7ç•Yñ#à•ó9▪K5▪EKK5K®C0Vôô7ÂEcE˚+½Y“»9EëQç5Z5N�•úZç5E⅞4E3Eâ5EOEíQ¤˚Qñ§#ơñ#▪5▪9Qîé7Eä“%©©‭︎Â×Q©jZ€Yø5▪4EE:G⅓#àéåø˚í%@5▪8E8▪5Ew5E€4EKWZLá◊#Kîâxà#ﬂ8E XXY5Y9▪í7=º¤ơ×¾Zê• —Á•LP_°áøû#×Qx▪9Qí®7EAÉXñ6▪Áﬂ©ﬂ­ââ#?︎®7•7&åB9•ﬂ6▪QºZñ®9óQ“é7E%33▪9▪™äKUU%Gû%Xü#äﬂ9•‚ơVå!ﬂ_ç7▪QưçE4[–ëí9▪•5▪“◊—üEêQïN>få:©7$ﬂ▪ Â9É%⅛2Z5ü9“â#⁄‱7▪•Tñ5‱N<˚AE$üX˚‒Kç#6Dûă=▪Q▪ư—˚—ﬂ‟E9▪5▪W6E>™G2•&X•ó7E•TèQ =à◊Qàﬂ°%#eC4»X\\äLäB9⅞Hì9EÉQ▪ﬂ>êQ▪é+ëQ×~⅞®7z½#5É~èKT#è€\\︎˚®íàZè#‟çâ§▪8•3EZ%Y◊⁄®3`▪EB+#ä¤#7“ăéăÉ5▪QGñ¿ä]ñ#éP+Eo5▪Yí#ñ—▪€§áơ!é⅛ZX¼KUWZóAW0E%X4E#©»ÚJ#ﬂç9îWXEJﬂÚàñ9•ïTKèZÉ%ûO9•◊#êăÉ4▪5EK”5•SEJ︎́å×YíìYâ»E‚J´§K»E&E2Kăâ+�9▪5E9•W6▪OàA#\\XñH©íxÉÂ[å03▪ÂàEô7E°Ú@É9•V°Q~⁄Éí�︎»\n",
            "\n",
            "\n",
            "\n",
            "Attempt: \"Homemade\" + 0.4\n",
            "-----------------------------------\n",
            "???? Homemade▪É▪Q▪Eâ5▪#EXÉ4EOEÉXâÉç9▪•3▪EÉ•3▪É9▪9▪<GÂ7EE™X%X•JEKG%Eè◊E$íÚíW7EXQEXEYG%%4EEK%KNW×®︎9•K$&EQäEXÉ©#́G%3▪•G4•3▪9•3▪2▪9▪5▪5▪ﬂYåí9▪9▪7▪7▪EOQñY—É%~U#E•T®9•î9•3▪5▪9•KG3▪9EEQ©ñ5▪ë9•KGöZ#©▪#ó6▪▪â5EXQ▪EáEEè7EXEEí%âW7E•ET3Xé9•EQâQñ9▪OEÉ7EEX•EXZ%~%ñ5▪E5E2E2EW%•Gñ4▪#ơ5▪9▪ZçNë9Eﬂç▪9▪9▪8EEí7▪•XV®K#$çÚ9•E#\\éEXñK⅛áE%¤EíG%J##º‟É5▪9▪•5▪KGç7▪•QE™X•G4EE%KKT®◊Q▪9•3▪•G4QâÉE2#ÉW\"|7Eí̀7E%ZçYYYKYùEXEX▪E¤EÉX$ø⅛9Eﬂ•E\u001aEEXé5E#̀Xà▪EEÉXàE#ç9▪•3▪•3▪•3▪8E5EÉÉQÉç9•X▪•G8•GQç︎XÉ#ñ9•3▪€ÉQå~Q▪9▪▪7▪E4▪EQ▪EEXWKKKQâà▪7▪EOE5EYè9•X•ñ9•ñB9•XEEX•7EEQëEX•ZXñ®E9EçYﬂ▪—\\︎K”KKTWZJN␣®@V®'=E©$▪▪EèQç▪9•3▪Z9•3▪é#àEí5▪9▪•9▪3▪Qç7▪7▪7▪7▪EE5E2E3EXÉZ%è%Q‱︎KKí!E:K9•âG>#KN#ê7•#▪Qñ9▪7▪•GñE»KZ®9•%‧5▪9▪â7▪EEQ▪5▪7▪9▪9▪E4▪E#ÉEô7▪àE2EEXEEKKKKíQ°%E$◊EÉXEÉJ—▪EKKKZEQ§E“EXY&EE%K¼EèÉÉN®7EY˚ZçY9EEéEXçY︎E\\ºí9▪▪Eü5EXEXEé5EEKKKYíâWç7▪9▪Eﬂ4EYÉóEî%X©í$ç4▪9▪7EX•EK®9E9•Y~éÉ▪7E•5•X•G%KK%®KT®ZJNEUWZ9í%XZNéÉ4▪9▪7▪EYåXÉé5EâôE%#ÁÉK•©▪E5▪3▪É4▪EQî7▪EEÉZ3EEWXçW9EYéE>|E#éE‧9•GXç▪5▪9▪#E\u001aE5EEX▪EEX%K&QâQç9▪7▪EÉ5▪Eî5E$ôÉE#‱Yí5▪9E@EéQ´É$ø 7•Qç9▪▪5EÉ▪8E3▪#©E5▪EEX▪EíYñå︎í9▪Eé\n",
            "\n",
            "\n",
            "\n",
            "Attempt: \"Homemade\" + 0.2\n",
            "-----------------------------------\n",
            "???? Homemade▪EQ▪EEXEEXEE%%%%%JJ0E5EEX•KKKKKEEEEAEEEEEAEETT!␣␣␣␣␣␣␣␣␣␣␣␣␣␣␣␣␣␣␣␣␣␣␣␣␣␣␣␣␣␣␣␣␣␣␣␣␣␣␣␣␣␣␣␣␣␣␣␣␣␣␣␣␣␣␣␣␣␣␣␣␣␣␣␣␣␣␣␣␣␣␣␣␣␣␣␣␣␣␣␣␣␣␣␣␣␣␣␣␣␣␣␣␣␣␣␣␣␣␣␣␣␣␣␣␣␣␣␣␣␣␣␣␣␣␣␣␣␣␣␣␣␣␣␣␣␣␣␣␣␣␣␣␣␣␣␣␣␣␣␣␣␣␣␣␣␣␣␣␣␣␣␣␣␣␣␣␣␣␣␣␣␣␣␣␣␣␣␣␣␣␣␣␣␣␣␣␣␣␣␣␣␣␣␣␣␣␣␣␣␣␣␣␣␣␣␣␣␣␣␣␣␣␣␣␣␣␣␣␣␣␣␣␣␣␣␣␣␣␣␣␣␣␣␣␣␣␣␣␣␣␣␣␣␣␣␣␣␣␣␣␣␣␣␣␣␣␣␣␣␣␣␣␣␣␣␣␣␣␣␣␣␣␣␣␣␣␣␣␣␣␣␣␣␣␣␣␣␣␣␣␣␣␣␣␣␣␣␣␣␣␣␣␣␣␣␣␣␣␣␣␣␣␣␣␣␣␣␣␣␣␣␣␣␣␣␣␣␣␣␣␣␣␣␣␣␣␣␣␣␣␣␣␣␣␣␣␣␣␣␣␣␣␣␣␣␣␣␣␣␣␣␣␣␣␣␣␣␣␣␣␣␣␣␣␣␣␣␣␣␣␣␣␣␣␣␣␣␣␣␣␣␣␣␣␣␣␣␣␣␣␣␣␣␣␣␣␣␣␣␣␣␣␣␣␣␣␣␣␣␣␣␣␣␣␣␣␣␣␣␣␣␣␣␣␣␣␣␣␣␣␣␣␣␣␣␣␣␣␣␣␣␣␣␣␣␣␣␣␣␣␣␣␣␣␣␣␣␣␣␣␣␣␣␣␣␣␣␣␣␣␣␣␣␣␣␣␣␣␣␣␣␣␣␣␣␣␣␣␣␣␣␣␣␣␣␣␣␣␣␣␣␣␣␣␣␣␣␣␣␣␣␣␣␣␣␣␣␣␣␣␣␣␣␣␣␣␣␣␣␣␣␣␣␣␣␣␣␣␣␣␣␣␣␣␣␣␣␣␣␣␣␣␣␣␣␣␣␣␣␣␣␣␣␣␣␣␣␣␣␣␣␣␣␣␣␣␣␣␣␣␣␣␣␣␣␣␣␣␣␣␣␣␣␣␣␣␣␣␣␣␣␣␣␣␣␣␣␣␣␣␣␣␣␣␣␣␣␣␣␣␣␣␣␣␣␣␣␣␣␣␣␣␣␣␣␣␣␣␣␣␣␣␣␣␣␣␣␣␣␣␣␣␣␣␣␣␣␣␣␣␣␣␣␣␣␣␣␣␣␣␣␣␣␣␣␣␣␣␣␣␣␣␣␣␣␣␣␣␣␣␣␣␣␣␣␣␣␣␣␣␣␣␣␣␣␣␣␣␣␣␣␣␣␣␣␣␣␣␣␣␣␣␣␣␣␣␣␣␣␣␣␣␣␣␣␣␣␣␣␣␣␣␣␣␣␣␣␣␣␣␣␣␣␣␣␣␣␣␣␣␣␣␣␣␣␣␣␣␣␣␣␣␣␣␣␣␣␣␣␣␣␣␣␣␣␣␣␣␣␣␣␣␣␣␣␣␣␣␣␣␣␣␣␣␣␣␣␣␣␣␣␣␣␣␣␣␣␣␣␣␣␣␣␣␣␣␣␣␣␣␣␣␣␣␣␣␣␣␣␣␣␣␣␣␣␣␣␣␣␣␣␣␣␣␣␣␣␣␣␣␣␣␣␣␣␣␣␣␣␣␣␣␣␣␣␣␣␣␣␣␣␣␣␣␣␣␣␣␣␣␣␣␣␣␣␣␣␣␣␣␣␣␣␣␣␣␣␣␣␣␣␣␣␣␣␣␣␣␣␣␣␣␣␣␣␣␣␣␣␣␣␣␣␣␣␣␣␣␣␣␣␣␣␣␣␣␣␣␣␣␣␣␣\n",
            "\n",
            "\n",
            "\n"
          ]
        }
      ]
    },
    {
      "cell_type": "code",
      "source": [],
      "metadata": {
        "id": "_I97YqWSbn29"
      },
      "execution_count": null,
      "outputs": []
    }
  ]
}