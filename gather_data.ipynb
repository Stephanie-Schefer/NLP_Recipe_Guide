{
 "cells": [
  {
   "cell_type": "raw",
   "id": "256d0a45-63fb-4364-a9cc-ce2b295c2f88",
   "metadata": {},
   "source": [
    "# https://serpapi.com/recipes-results"
   ]
  },
  {
   "cell_type": "code",
   "execution_count": 3,
   "id": "66ecec78-1e1f-4eba-aedc-cb660f7946f8",
   "metadata": {},
   "outputs": [
    {
     "name": "stdout",
     "output_type": "stream",
     "text": [
      "Collecting serpapi\n",
      "  Obtaining dependency information for serpapi from https://files.pythonhosted.org/packages/df/6a/21deade04100d64844e494353a5d65e7971fbdfddf78eb1f248423593ad0/serpapi-0.1.5-py2.py3-none-any.whl.metadata\n",
      "  Downloading serpapi-0.1.5-py2.py3-none-any.whl.metadata (10 kB)\n",
      "Requirement already satisfied: requests in c:\\users\\stephanie\\appdata\\local\\programs\\python\\python311\\lib\\site-packages (from serpapi) (2.31.0)\n",
      "Requirement already satisfied: charset-normalizer<4,>=2 in c:\\users\\stephanie\\appdata\\local\\programs\\python\\python311\\lib\\site-packages (from requests->serpapi) (3.2.0)\n",
      "Requirement already satisfied: idna<4,>=2.5 in c:\\users\\stephanie\\appdata\\local\\programs\\python\\python311\\lib\\site-packages (from requests->serpapi) (3.4)\n",
      "Requirement already satisfied: urllib3<3,>=1.21.1 in c:\\users\\stephanie\\appdata\\local\\programs\\python\\python311\\lib\\site-packages (from requests->serpapi) (1.26.16)\n",
      "Requirement already satisfied: certifi>=2017.4.17 in c:\\users\\stephanie\\appdata\\local\\programs\\python\\python311\\lib\\site-packages (from requests->serpapi) (2023.7.22)\n",
      "Downloading serpapi-0.1.5-py2.py3-none-any.whl (10 kB)\n",
      "Installing collected packages: serpapi\n",
      "Successfully installed serpapi-0.1.5\n"
     ]
    },
    {
     "name": "stderr",
     "output_type": "stream",
     "text": [
      "\n",
      "[notice] A new release of pip is available: 23.2.1 -> 23.3.1\n",
      "[notice] To update, run: python.exe -m pip install --upgrade pip\n"
     ]
    }
   ],
   "source": [
    "!pip install serpapi"
   ]
  },
  {
   "cell_type": "code",
   "execution_count": 31,
   "id": "4a7c495a-7a77-4876-9b16-7c785e28ddf0",
   "metadata": {},
   "outputs": [
    {
     "name": "stdout",
     "output_type": "stream",
     "text": [
      "Requirement already satisfied: google-search-results in c:\\users\\stephanie\\appdata\\local\\programs\\python\\python311\\lib\\site-packages (2.4.2)\n",
      "Requirement already satisfied: requests in c:\\users\\stephanie\\appdata\\local\\programs\\python\\python311\\lib\\site-packages (from google-search-results) (2.31.0)\n",
      "Requirement already satisfied: charset-normalizer<4,>=2 in c:\\users\\stephanie\\appdata\\local\\programs\\python\\python311\\lib\\site-packages (from requests->google-search-results) (3.2.0)\n",
      "Requirement already satisfied: idna<4,>=2.5 in c:\\users\\stephanie\\appdata\\local\\programs\\python\\python311\\lib\\site-packages (from requests->google-search-results) (3.4)\n",
      "Requirement already satisfied: urllib3<3,>=1.21.1 in c:\\users\\stephanie\\appdata\\local\\programs\\python\\python311\\lib\\site-packages (from requests->google-search-results) (1.26.16)\n",
      "Requirement already satisfied: certifi>=2017.4.17 in c:\\users\\stephanie\\appdata\\local\\programs\\python\\python311\\lib\\site-packages (from requests->google-search-results) (2023.7.22)\n"
     ]
    },
    {
     "name": "stderr",
     "output_type": "stream",
     "text": [
      "\n",
      "[notice] A new release of pip is available: 23.2.1 -> 23.3.1\n",
      "[notice] To update, run: python.exe -m pip install --upgrade pip\n"
     ]
    }
   ],
   "source": [
    "!pip install google-search-results"
   ]
  },
  {
   "cell_type": "code",
   "execution_count": 32,
   "id": "dfa1198f-d7b3-463b-9fd5-03478599a167",
   "metadata": {},
   "outputs": [
    {
     "ename": "ImportError",
     "evalue": "cannot import name 'GoogleSearch' from 'serpapi' (C:\\Users\\Stephanie\\AppData\\Local\\Programs\\Python\\Python311\\Lib\\site-packages\\serpapi\\__init__.py)",
     "output_type": "error",
     "traceback": [
      "\u001b[1;31m---------------------------------------------------------------------------\u001b[0m",
      "\u001b[1;31mImportError\u001b[0m                               Traceback (most recent call last)",
      "Cell \u001b[1;32mIn[32], line 1\u001b[0m\n\u001b[1;32m----> 1\u001b[0m \u001b[38;5;28;01mfrom\u001b[39;00m \u001b[38;5;21;01mserpapi\u001b[39;00m \u001b[38;5;28;01mimport\u001b[39;00m GoogleSearch\n",
      "\u001b[1;31mImportError\u001b[0m: cannot import name 'GoogleSearch' from 'serpapi' (C:\\Users\\Stephanie\\AppData\\Local\\Programs\\Python\\Python311\\Lib\\site-packages\\serpapi\\__init__.py)"
     ]
    }
   ],
   "source": [
    "from serpapi import GoogleSearch"
   ]
  },
  {
   "cell_type": "raw",
   "id": "e63a4e07-16ec-4e2a-8c24-b9aac34fea30",
   "metadata": {},
   "source": [
    "https://pypi.org/project/google-search-results/"
   ]
  },
  {
   "cell_type": "code",
   "execution_count": 21,
   "id": "e2f617a4-130a-42e5-8445-0bc0b51d6245",
   "metadata": {},
   "outputs": [
    {
     "name": "stdout",
     "output_type": "stream",
     "text": [
      "Help on package serpapi:\n",
      "\n",
      "NAME\n",
      "    serpapi\n",
      "\n",
      "PACKAGE CONTENTS\n",
      "    __version__\n",
      "    client\n",
      "    core\n",
      "    exceptions\n",
      "    http\n",
      "    models\n",
      "    textui\n",
      "    utils\n",
      "\n",
      "VERSION\n",
      "    0.1.5\n",
      "\n",
      "FILE\n",
      "    c:\\users\\stephanie\\appdata\\local\\programs\\python\\python311\\lib\\site-packages\\serpapi\\__init__.py\n",
      "\n",
      "\n"
     ]
    }
   ],
   "source": [
    "help(serpapi)"
   ]
  },
  {
   "cell_type": "code",
   "execution_count": null,
   "id": "cea8ce07-a36f-4930-83c8-ca73a442f673",
   "metadata": {},
   "outputs": [],
   "source": [
    "# Use this link in a browser\n",
    "# https://serpapi.com/search.json?q=American%20Recipes&location=Austin,Texas,United+States&hl=en&gl=us"
   ]
  },
  {
   "cell_type": "code",
   "execution_count": 6,
   "id": "6df8a9da-0c4a-450b-a62c-2a9539015f48",
   "metadata": {},
   "outputs": [
    {
     "name": "stdout",
     "output_type": "stream",
     "text": [
      "Name: serpapi\n",
      "Version: 0.1.5\n",
      "Summary: The official Python client for SerpApi.com.\n",
      "Home-page: https://github.com/serpapi/serpapi-python\n",
      "Author: SerpApi.com\n",
      "Author-email: kenneth@serpapi.com\n",
      "License: MIT\n",
      "Location: C:\\Users\\Stephanie\\AppData\\Local\\Programs\\Python\\Python311\\Lib\\site-packages\n",
      "Requires: requests\n",
      "Required-by: \n"
     ]
    }
   ],
   "source": [
    "!pip show serpapi"
   ]
  },
  {
   "cell_type": "code",
   "execution_count": 13,
   "id": "3b04b307-3f07-41d7-8c79-48bb99906f10",
   "metadata": {},
   "outputs": [],
   "source": [
    "from serpapi import search"
   ]
  },
  {
   "cell_type": "code",
   "execution_count": 15,
   "id": "0d47fcc0-b8eb-40c2-84c6-5525261551c4",
   "metadata": {},
   "outputs": [
    {
     "ename": "AttributeError",
     "evalue": "'SerpResults' object has no attribute 'get_dict'",
     "output_type": "error",
     "traceback": [
      "\u001b[1;31m---------------------------------------------------------------------------\u001b[0m",
      "\u001b[1;31mAttributeError\u001b[0m                            Traceback (most recent call last)",
      "Cell \u001b[1;32mIn[15], line 10\u001b[0m\n\u001b[0;32m      1\u001b[0m params \u001b[38;5;241m=\u001b[39m {\n\u001b[0;32m      2\u001b[0m   \u001b[38;5;124m\"\u001b[39m\u001b[38;5;124mq\u001b[39m\u001b[38;5;124m\"\u001b[39m: \u001b[38;5;124m\"\u001b[39m\u001b[38;5;124mAmerican Recipes\u001b[39m\u001b[38;5;124m\"\u001b[39m,\n\u001b[0;32m      3\u001b[0m   \u001b[38;5;124m\"\u001b[39m\u001b[38;5;124mlocation\u001b[39m\u001b[38;5;124m\"\u001b[39m: \u001b[38;5;124m\"\u001b[39m\u001b[38;5;124mWilliamsburg,Virginia,United States\u001b[39m\u001b[38;5;124m\"\u001b[39m,\n\u001b[1;32m   (...)\u001b[0m\n\u001b[0;32m      6\u001b[0m   \u001b[38;5;124m\"\u001b[39m\u001b[38;5;124mapi_key\u001b[39m\u001b[38;5;124m\"\u001b[39m: \u001b[38;5;124m\"\u001b[39m\u001b[38;5;124mc200e13038a0ed2f30d0a0c1029e0d047a92a8d716fc4527994345c71409a6d0\u001b[39m\u001b[38;5;124m\"\u001b[39m\n\u001b[0;32m      7\u001b[0m }\n\u001b[0;32m      9\u001b[0m search \u001b[38;5;241m=\u001b[39m search(params)\n\u001b[1;32m---> 10\u001b[0m results \u001b[38;5;241m=\u001b[39m \u001b[43msearch\u001b[49m\u001b[38;5;241;43m.\u001b[39;49m\u001b[43mget_dict\u001b[49m()\n\u001b[0;32m     11\u001b[0m recipes_results \u001b[38;5;241m=\u001b[39m results[\u001b[38;5;124m\"\u001b[39m\u001b[38;5;124mrecipes_results\u001b[39m\u001b[38;5;124m\"\u001b[39m]\n",
      "\u001b[1;31mAttributeError\u001b[0m: 'SerpResults' object has no attribute 'get_dict'"
     ]
    }
   ],
   "source": [
    "params = {\n",
    "  \"q\": \"American Recipes\",\n",
    "  \"location\": \"Williamsburg,Virginia,United States\",\n",
    "  \"hl\": \"en\", # English\n",
    "  \"gl\": \"us\", # USA results\n",
    "  \"api_key\": \"c200e13038a0ed2f30d0a0c1029e0d047a92a8d716fc4527994345c71409a6d0\"\n",
    "}\n",
    "\n",
    "search = GoogleSearch(params)\n",
    "results = search.get_dict()\n",
    "recipes_results = results[\"recipes_results\"]"
   ]
  },
  {
   "cell_type": "code",
   "execution_count": null,
   "id": "6958b483-21a0-433b-8756-35dd08e36983",
   "metadata": {},
   "outputs": [],
   "source": []
  }
 ],
 "metadata": {
  "kernelspec": {
   "display_name": "Python 3 (ipykernel)",
   "language": "python",
   "name": "python3"
  },
  "language_info": {
   "codemirror_mode": {
    "name": "ipython",
    "version": 3
   },
   "file_extension": ".py",
   "mimetype": "text/x-python",
   "name": "python",
   "nbconvert_exporter": "python",
   "pygments_lexer": "ipython3",
   "version": "3.9.7"
  }
 },
 "nbformat": 4,
 "nbformat_minor": 5
}
