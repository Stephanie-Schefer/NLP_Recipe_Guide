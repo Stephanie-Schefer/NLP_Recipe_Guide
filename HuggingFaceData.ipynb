{
 "cells": [
  {
   "cell_type": "code",
   "execution_count": 1,
   "id": "c75ea26c",
   "metadata": {},
   "outputs": [],
   "source": [
    "import pandas as pd"
   ]
  },
  {
   "cell_type": "code",
   "execution_count": 10,
   "id": "1e0ce000",
   "metadata": {},
   "outputs": [
    {
     "data": {
      "text/html": [
       "<div>\n",
       "<style scoped>\n",
       "    .dataframe tbody tr th:only-of-type {\n",
       "        vertical-align: middle;\n",
       "    }\n",
       "\n",
       "    .dataframe tbody tr th {\n",
       "        vertical-align: top;\n",
       "    }\n",
       "\n",
       "    .dataframe thead th {\n",
       "        text-align: right;\n",
       "    }\n",
       "</style>\n",
       "<table border=\"1\" class=\"dataframe\">\n",
       "  <thead>\n",
       "    <tr style=\"text-align: right;\">\n",
       "      <th></th>\n",
       "      <th>Unnamed: 0</th>\n",
       "      <th>title</th>\n",
       "      <th>ingredients</th>\n",
       "      <th>directions</th>\n",
       "      <th>link</th>\n",
       "      <th>source</th>\n",
       "      <th>NER</th>\n",
       "    </tr>\n",
       "  </thead>\n",
       "  <tbody>\n",
       "    <tr>\n",
       "      <th>0</th>\n",
       "      <td>0</td>\n",
       "      <td>No-Bake Nut Cookies</td>\n",
       "      <td>[\"1 c. firmly packed brown sugar\", \"1/2 c. eva...</td>\n",
       "      <td>[\"In a heavy 2-quart saucepan, mix brown sugar...</td>\n",
       "      <td>www.cookbooks.com/Recipe-Details.aspx?id=44874</td>\n",
       "      <td>Gathered</td>\n",
       "      <td>[\"brown sugar\", \"milk\", \"vanilla\", \"nuts\", \"bu...</td>\n",
       "    </tr>\n",
       "    <tr>\n",
       "      <th>1</th>\n",
       "      <td>1</td>\n",
       "      <td>Jewell Ball'S Chicken</td>\n",
       "      <td>[\"1 small jar chipped beef, cut up\", \"4 boned ...</td>\n",
       "      <td>[\"Place chipped beef on bottom of baking dish....</td>\n",
       "      <td>www.cookbooks.com/Recipe-Details.aspx?id=699419</td>\n",
       "      <td>Gathered</td>\n",
       "      <td>[\"beef\", \"chicken breasts\", \"cream of mushroom...</td>\n",
       "    </tr>\n",
       "    <tr>\n",
       "      <th>2</th>\n",
       "      <td>2</td>\n",
       "      <td>Creamy Corn</td>\n",
       "      <td>[\"2 (16 oz.) pkg. frozen corn\", \"1 (8 oz.) pkg...</td>\n",
       "      <td>[\"In a slow cooker, combine all ingredients. C...</td>\n",
       "      <td>www.cookbooks.com/Recipe-Details.aspx?id=10570</td>\n",
       "      <td>Gathered</td>\n",
       "      <td>[\"frozen corn\", \"cream cheese\", \"butter\", \"gar...</td>\n",
       "    </tr>\n",
       "    <tr>\n",
       "      <th>3</th>\n",
       "      <td>3</td>\n",
       "      <td>Chicken Funny</td>\n",
       "      <td>[\"1 large whole chicken\", \"2 (10 1/2 oz.) cans...</td>\n",
       "      <td>[\"Boil and debone chicken.\", \"Put bite size pi...</td>\n",
       "      <td>www.cookbooks.com/Recipe-Details.aspx?id=897570</td>\n",
       "      <td>Gathered</td>\n",
       "      <td>[\"chicken\", \"chicken gravy\", \"cream of mushroo...</td>\n",
       "    </tr>\n",
       "    <tr>\n",
       "      <th>4</th>\n",
       "      <td>4</td>\n",
       "      <td>Reeses Cups(Candy)</td>\n",
       "      <td>[\"1 c. peanut butter\", \"3/4 c. graham cracker ...</td>\n",
       "      <td>[\"Combine first four ingredients and press in ...</td>\n",
       "      <td>www.cookbooks.com/Recipe-Details.aspx?id=659239</td>\n",
       "      <td>Gathered</td>\n",
       "      <td>[\"peanut butter\", \"graham cracker crumbs\", \"bu...</td>\n",
       "    </tr>\n",
       "    <tr>\n",
       "      <th>...</th>\n",
       "      <td>...</td>\n",
       "      <td>...</td>\n",
       "      <td>...</td>\n",
       "      <td>...</td>\n",
       "      <td>...</td>\n",
       "      <td>...</td>\n",
       "      <td>...</td>\n",
       "    </tr>\n",
       "    <tr>\n",
       "      <th>2231137</th>\n",
       "      <td>2231137</td>\n",
       "      <td>Sunny's Fake Crepes</td>\n",
       "      <td>[\"1/2 cup chocolate hazelnut spread (recommend...</td>\n",
       "      <td>[\"Spread hazelnut spread on 1 side of each tor...</td>\n",
       "      <td>www.foodnetwork.com/recipes/sunny-anderson/sun...</td>\n",
       "      <td>Recipes1M</td>\n",
       "      <td>[\"chocolate hazelnut spread\", \"tortillas\", \"bu...</td>\n",
       "    </tr>\n",
       "    <tr>\n",
       "      <th>2231138</th>\n",
       "      <td>2231138</td>\n",
       "      <td>Devil Eggs</td>\n",
       "      <td>[\"1 dozen eggs\", \"1 paprika\", \"1 salt and pepp...</td>\n",
       "      <td>[\"Boil eggs on medium for 30mins.\", \"Then cool...</td>\n",
       "      <td>cookpad.com/us/recipes/355411-devil-eggs</td>\n",
       "      <td>Recipes1M</td>\n",
       "      <td>[\"eggs\", \"paprika\", \"salt\", \"choice\", \"miracle...</td>\n",
       "    </tr>\n",
       "    <tr>\n",
       "      <th>2231139</th>\n",
       "      <td>2231139</td>\n",
       "      <td>Extremely Easy and Quick - Namul Daikon Salad</td>\n",
       "      <td>[\"150 grams Daikon radish\", \"1 tbsp Sesame oil...</td>\n",
       "      <td>[\"Julienne the daikon and squeeze out the exce...</td>\n",
       "      <td>cookpad.com/us/recipes/153324-extremely-easy-a...</td>\n",
       "      <td>Recipes1M</td>\n",
       "      <td>[\"radish\", \"Sesame oil\", \"White sesame seeds\",...</td>\n",
       "    </tr>\n",
       "    <tr>\n",
       "      <th>2231140</th>\n",
       "      <td>2231140</td>\n",
       "      <td>Pan-Roasted Pork Chops With Apple Fritters</td>\n",
       "      <td>[\"1 cup apple cider\", \"6 tablespoons sugar\", \"...</td>\n",
       "      <td>[\"In a large bowl, mix the apple cider with 4 ...</td>\n",
       "      <td>cooking.nytimes.com/recipes/1015164</td>\n",
       "      <td>Recipes1M</td>\n",
       "      <td>[\"apple cider\", \"sugar\", \"kosher salt\", \"bay l...</td>\n",
       "    </tr>\n",
       "    <tr>\n",
       "      <th>2231141</th>\n",
       "      <td>2231141</td>\n",
       "      <td>Polpette in Spicy Tomato Sauce</td>\n",
       "      <td>[\"1 pound ground veal\", \"1/2 pound sweet Itali...</td>\n",
       "      <td>[\"Preheat the oven to 350.\", \"In a bowl, mix t...</td>\n",
       "      <td>www.foodandwine.com/recipes/polpette-spicy-tom...</td>\n",
       "      <td>Recipes1M</td>\n",
       "      <td>[\"ground veal\", \"sausage\", \"bread crumbs\", \"mi...</td>\n",
       "    </tr>\n",
       "  </tbody>\n",
       "</table>\n",
       "<p>2231142 rows × 7 columns</p>\n",
       "</div>"
      ],
      "text/plain": [
       "         Unnamed: 0                                          title  \\\n",
       "0                 0                            No-Bake Nut Cookies   \n",
       "1                 1                          Jewell Ball'S Chicken   \n",
       "2                 2                                    Creamy Corn   \n",
       "3                 3                                  Chicken Funny   \n",
       "4                 4                           Reeses Cups(Candy)     \n",
       "...             ...                                            ...   \n",
       "2231137     2231137                            Sunny's Fake Crepes   \n",
       "2231138     2231138                                     Devil Eggs   \n",
       "2231139     2231139  Extremely Easy and Quick - Namul Daikon Salad   \n",
       "2231140     2231140     Pan-Roasted Pork Chops With Apple Fritters   \n",
       "2231141     2231141                 Polpette in Spicy Tomato Sauce   \n",
       "\n",
       "                                               ingredients  \\\n",
       "0        [\"1 c. firmly packed brown sugar\", \"1/2 c. eva...   \n",
       "1        [\"1 small jar chipped beef, cut up\", \"4 boned ...   \n",
       "2        [\"2 (16 oz.) pkg. frozen corn\", \"1 (8 oz.) pkg...   \n",
       "3        [\"1 large whole chicken\", \"2 (10 1/2 oz.) cans...   \n",
       "4        [\"1 c. peanut butter\", \"3/4 c. graham cracker ...   \n",
       "...                                                    ...   \n",
       "2231137  [\"1/2 cup chocolate hazelnut spread (recommend...   \n",
       "2231138  [\"1 dozen eggs\", \"1 paprika\", \"1 salt and pepp...   \n",
       "2231139  [\"150 grams Daikon radish\", \"1 tbsp Sesame oil...   \n",
       "2231140  [\"1 cup apple cider\", \"6 tablespoons sugar\", \"...   \n",
       "2231141  [\"1 pound ground veal\", \"1/2 pound sweet Itali...   \n",
       "\n",
       "                                                directions  \\\n",
       "0        [\"In a heavy 2-quart saucepan, mix brown sugar...   \n",
       "1        [\"Place chipped beef on bottom of baking dish....   \n",
       "2        [\"In a slow cooker, combine all ingredients. C...   \n",
       "3        [\"Boil and debone chicken.\", \"Put bite size pi...   \n",
       "4        [\"Combine first four ingredients and press in ...   \n",
       "...                                                    ...   \n",
       "2231137  [\"Spread hazelnut spread on 1 side of each tor...   \n",
       "2231138  [\"Boil eggs on medium for 30mins.\", \"Then cool...   \n",
       "2231139  [\"Julienne the daikon and squeeze out the exce...   \n",
       "2231140  [\"In a large bowl, mix the apple cider with 4 ...   \n",
       "2231141  [\"Preheat the oven to 350.\", \"In a bowl, mix t...   \n",
       "\n",
       "                                                      link     source  \\\n",
       "0           www.cookbooks.com/Recipe-Details.aspx?id=44874   Gathered   \n",
       "1          www.cookbooks.com/Recipe-Details.aspx?id=699419   Gathered   \n",
       "2           www.cookbooks.com/Recipe-Details.aspx?id=10570   Gathered   \n",
       "3          www.cookbooks.com/Recipe-Details.aspx?id=897570   Gathered   \n",
       "4          www.cookbooks.com/Recipe-Details.aspx?id=659239   Gathered   \n",
       "...                                                    ...        ...   \n",
       "2231137  www.foodnetwork.com/recipes/sunny-anderson/sun...  Recipes1M   \n",
       "2231138           cookpad.com/us/recipes/355411-devil-eggs  Recipes1M   \n",
       "2231139  cookpad.com/us/recipes/153324-extremely-easy-a...  Recipes1M   \n",
       "2231140                cooking.nytimes.com/recipes/1015164  Recipes1M   \n",
       "2231141  www.foodandwine.com/recipes/polpette-spicy-tom...  Recipes1M   \n",
       "\n",
       "                                                       NER  \n",
       "0        [\"brown sugar\", \"milk\", \"vanilla\", \"nuts\", \"bu...  \n",
       "1        [\"beef\", \"chicken breasts\", \"cream of mushroom...  \n",
       "2        [\"frozen corn\", \"cream cheese\", \"butter\", \"gar...  \n",
       "3        [\"chicken\", \"chicken gravy\", \"cream of mushroo...  \n",
       "4        [\"peanut butter\", \"graham cracker crumbs\", \"bu...  \n",
       "...                                                    ...  \n",
       "2231137  [\"chocolate hazelnut spread\", \"tortillas\", \"bu...  \n",
       "2231138  [\"eggs\", \"paprika\", \"salt\", \"choice\", \"miracle...  \n",
       "2231139  [\"radish\", \"Sesame oil\", \"White sesame seeds\",...  \n",
       "2231140  [\"apple cider\", \"sugar\", \"kosher salt\", \"bay l...  \n",
       "2231141  [\"ground veal\", \"sausage\", \"bread crumbs\", \"mi...  \n",
       "\n",
       "[2231142 rows x 7 columns]"
      ]
     },
     "execution_count": 10,
     "metadata": {},
     "output_type": "execute_result"
    }
   ],
   "source": [
    "pd.read_csv('Data/full_dataset.csv')"
   ]
  },
  {
   "cell_type": "code",
   "execution_count": 11,
   "id": "c6b3e235",
   "metadata": {},
   "outputs": [],
   "source": [
    "#! pip install datasets"
   ]
  },
  {
   "cell_type": "code",
   "execution_count": 9,
   "id": "614076a0",
   "metadata": {},
   "outputs": [
    {
     "data": {
      "application/vnd.jupyter.widget-view+json": {
       "model_id": "0ea4ca91aad04df498e80523e2bde8f7",
       "version_major": 2,
       "version_minor": 0
      },
      "text/plain": [
       "Generating train split:   0%|          | 0/2231142 [00:00<?, ? examples/s]"
      ]
     },
     "metadata": {},
     "output_type": "display_data"
    },
    {
     "name": "stdout",
     "output_type": "stream",
     "text": [
      "{'id': 0, 'title': 'No-Bake Nut Cookies', 'ingredients': ['1 c. firmly packed brown sugar', '1/2 c. evaporated milk', '1/2 tsp. vanilla', '1/2 c. broken nuts (pecans)', '2 Tbsp. butter or margarine', '3 1/2 c. bite size shredded rice biscuits'], 'directions': ['In a heavy 2-quart saucepan, mix brown sugar, nuts, evaporated milk and butter or margarine.', 'Stir over medium heat until mixture bubbles all over top.', 'Boil and stir 5 minutes more. Take off heat.', 'Stir in vanilla and cereal; mix well.', 'Using 2 teaspoons, drop and shape into 30 clusters on wax paper.', 'Let stand until firm, about 30 minutes.'], 'link': 'www.cookbooks.com/Recipe-Details.aspx?id=44874', 'source': 0, 'ner': ['brown sugar', 'milk', 'vanilla', 'nuts', 'butter', 'bite size shredded rice biscuits']}\n"
     ]
    }
   ],
   "source": [
    "from datasets import load_dataset\n",
    "\n",
    "dataset =load_dataset('recipe_nlg',data_dir='Data')\n",
    "train_data = dataset['train']\n",
    "example_recipe = train_data[0]\n",
    "print(example_recipe)"
   ]
  },
  {
   "cell_type": "markdown",
   "id": "9dccfc2b",
   "metadata": {},
   "source": [
    "# Exploratory Data Analysis\n",
    "\n",
    "## Inspect the Data\n",
    "- Size\n",
    "- Display first few rows\n",
    "- Data types of columns\n",
    "- Look for missing or null values"
   ]
  },
  {
   "cell_type": "code",
   "execution_count": 16,
   "id": "290b9919",
   "metadata": {},
   "outputs": [],
   "source": [
    "train_data_df = pd.DataFrame(train_data)"
   ]
  },
  {
   "cell_type": "code",
   "execution_count": 26,
   "id": "7212cac9",
   "metadata": {},
   "outputs": [],
   "source": [
    "train_data_df.set_index('id',inplace=True)"
   ]
  },
  {
   "cell_type": "code",
   "execution_count": 27,
   "id": "ec6efef0",
   "metadata": {},
   "outputs": [
    {
     "data": {
      "text/html": [
       "<div>\n",
       "<style scoped>\n",
       "    .dataframe tbody tr th:only-of-type {\n",
       "        vertical-align: middle;\n",
       "    }\n",
       "\n",
       "    .dataframe tbody tr th {\n",
       "        vertical-align: top;\n",
       "    }\n",
       "\n",
       "    .dataframe thead th {\n",
       "        text-align: right;\n",
       "    }\n",
       "</style>\n",
       "<table border=\"1\" class=\"dataframe\">\n",
       "  <thead>\n",
       "    <tr style=\"text-align: right;\">\n",
       "      <th></th>\n",
       "      <th>title</th>\n",
       "      <th>ingredients</th>\n",
       "      <th>directions</th>\n",
       "      <th>link</th>\n",
       "      <th>source</th>\n",
       "      <th>ner</th>\n",
       "    </tr>\n",
       "    <tr>\n",
       "      <th>id</th>\n",
       "      <th></th>\n",
       "      <th></th>\n",
       "      <th></th>\n",
       "      <th></th>\n",
       "      <th></th>\n",
       "      <th></th>\n",
       "    </tr>\n",
       "  </thead>\n",
       "  <tbody>\n",
       "    <tr>\n",
       "      <th>0</th>\n",
       "      <td>No-Bake Nut Cookies</td>\n",
       "      <td>[1 c. firmly packed brown sugar, 1/2 c. evapor...</td>\n",
       "      <td>[In a heavy 2-quart saucepan, mix brown sugar,...</td>\n",
       "      <td>www.cookbooks.com/Recipe-Details.aspx?id=44874</td>\n",
       "      <td>0</td>\n",
       "      <td>[brown sugar, milk, vanilla, nuts, butter, bit...</td>\n",
       "    </tr>\n",
       "    <tr>\n",
       "      <th>1</th>\n",
       "      <td>Jewell Ball'S Chicken</td>\n",
       "      <td>[1 small jar chipped beef, cut up, 4 boned chi...</td>\n",
       "      <td>[Place chipped beef on bottom of baking dish.,...</td>\n",
       "      <td>www.cookbooks.com/Recipe-Details.aspx?id=699419</td>\n",
       "      <td>0</td>\n",
       "      <td>[beef, chicken breasts, cream of mushroom soup...</td>\n",
       "    </tr>\n",
       "    <tr>\n",
       "      <th>2</th>\n",
       "      <td>Creamy Corn</td>\n",
       "      <td>[2 (16 oz.) pkg. frozen corn, 1 (8 oz.) pkg. c...</td>\n",
       "      <td>[In a slow cooker, combine all ingredients. Co...</td>\n",
       "      <td>www.cookbooks.com/Recipe-Details.aspx?id=10570</td>\n",
       "      <td>0</td>\n",
       "      <td>[frozen corn, cream cheese, butter, garlic pow...</td>\n",
       "    </tr>\n",
       "    <tr>\n",
       "      <th>3</th>\n",
       "      <td>Chicken Funny</td>\n",
       "      <td>[1 large whole chicken, 2 (10 1/2 oz.) cans ch...</td>\n",
       "      <td>[Boil and debone chicken., Put bite size piece...</td>\n",
       "      <td>www.cookbooks.com/Recipe-Details.aspx?id=897570</td>\n",
       "      <td>0</td>\n",
       "      <td>[chicken, chicken gravy, cream of mushroom sou...</td>\n",
       "    </tr>\n",
       "    <tr>\n",
       "      <th>4</th>\n",
       "      <td>Reeses Cups(Candy)</td>\n",
       "      <td>[1 c. peanut butter, 3/4 c. graham cracker cru...</td>\n",
       "      <td>[Combine first four ingredients and press in 1...</td>\n",
       "      <td>www.cookbooks.com/Recipe-Details.aspx?id=659239</td>\n",
       "      <td>0</td>\n",
       "      <td>[peanut butter, graham cracker crumbs, butter,...</td>\n",
       "    </tr>\n",
       "  </tbody>\n",
       "</table>\n",
       "</div>"
      ],
      "text/plain": [
       "                    title                                        ingredients  \\\n",
       "id                                                                             \n",
       "0     No-Bake Nut Cookies  [1 c. firmly packed brown sugar, 1/2 c. evapor...   \n",
       "1   Jewell Ball'S Chicken  [1 small jar chipped beef, cut up, 4 boned chi...   \n",
       "2             Creamy Corn  [2 (16 oz.) pkg. frozen corn, 1 (8 oz.) pkg. c...   \n",
       "3           Chicken Funny  [1 large whole chicken, 2 (10 1/2 oz.) cans ch...   \n",
       "4    Reeses Cups(Candy)    [1 c. peanut butter, 3/4 c. graham cracker cru...   \n",
       "\n",
       "                                           directions  \\\n",
       "id                                                      \n",
       "0   [In a heavy 2-quart saucepan, mix brown sugar,...   \n",
       "1   [Place chipped beef on bottom of baking dish.,...   \n",
       "2   [In a slow cooker, combine all ingredients. Co...   \n",
       "3   [Boil and debone chicken., Put bite size piece...   \n",
       "4   [Combine first four ingredients and press in 1...   \n",
       "\n",
       "                                               link  source  \\\n",
       "id                                                            \n",
       "0    www.cookbooks.com/Recipe-Details.aspx?id=44874       0   \n",
       "1   www.cookbooks.com/Recipe-Details.aspx?id=699419       0   \n",
       "2    www.cookbooks.com/Recipe-Details.aspx?id=10570       0   \n",
       "3   www.cookbooks.com/Recipe-Details.aspx?id=897570       0   \n",
       "4   www.cookbooks.com/Recipe-Details.aspx?id=659239       0   \n",
       "\n",
       "                                                  ner  \n",
       "id                                                     \n",
       "0   [brown sugar, milk, vanilla, nuts, butter, bit...  \n",
       "1   [beef, chicken breasts, cream of mushroom soup...  \n",
       "2   [frozen corn, cream cheese, butter, garlic pow...  \n",
       "3   [chicken, chicken gravy, cream of mushroom sou...  \n",
       "4   [peanut butter, graham cracker crumbs, butter,...  "
      ]
     },
     "execution_count": 27,
     "metadata": {},
     "output_type": "execute_result"
    }
   ],
   "source": [
    "train_data_df.head()"
   ]
  },
  {
   "cell_type": "code",
   "execution_count": 28,
   "id": "ba74244a",
   "metadata": {},
   "outputs": [
    {
     "data": {
      "text/plain": [
       "(2231142, 6)"
      ]
     },
     "execution_count": 28,
     "metadata": {},
     "output_type": "execute_result"
    }
   ],
   "source": [
    "train_data_df.shape"
   ]
  },
  {
   "cell_type": "code",
   "execution_count": 29,
   "id": "e1031ab5",
   "metadata": {},
   "outputs": [
    {
     "name": "stdout",
     "output_type": "stream",
     "text": [
      "<class 'pandas.core.frame.DataFrame'>\n",
      "Int64Index: 2231142 entries, 0 to 2231141\n",
      "Data columns (total 6 columns):\n",
      " #   Column       Dtype \n",
      "---  ------       ----- \n",
      " 0   title        object\n",
      " 1   ingredients  object\n",
      " 2   directions   object\n",
      " 3   link         object\n",
      " 4   source       int64 \n",
      " 5   ner          object\n",
      "dtypes: int64(1), object(5)\n",
      "memory usage: 119.2+ MB\n"
     ]
    }
   ],
   "source": [
    "train_data_df.info()"
   ]
  },
  {
   "cell_type": "code",
   "execution_count": 32,
   "id": "aeb5e542",
   "metadata": {},
   "outputs": [],
   "source": [
    "rows_with_null = train_data_df[train_data_df.isnull().any(axis=1)]"
   ]
  },
  {
   "cell_type": "code",
   "execution_count": 35,
   "id": "4f0c7af4",
   "metadata": {},
   "outputs": [
    {
     "data": {
      "text/plain": [
       "0"
      ]
     },
     "execution_count": 35,
     "metadata": {},
     "output_type": "execute_result"
    }
   ],
   "source": [
    "len(rows_with_null)\n",
    "# no null values"
   ]
  },
  {
   "cell_type": "markdown",
   "id": "4b98264a",
   "metadata": {},
   "source": [
    "## Exploring Categorical Variables\n",
    "- count the requency of each category\n",
    "- visualize the distributions using bar charts or pie charts"
   ]
  },
  {
   "cell_type": "code",
   "execution_count": null,
   "id": "9a18e0d9",
   "metadata": {},
   "outputs": [],
   "source": []
  },
  {
   "cell_type": "markdown",
   "id": "56f40f8b",
   "metadata": {},
   "source": [
    "Exploring Categorical Variables:\n",
    "For categorical columns like 'cuisine', 'ingredients', etc.:\n",
    "\n",
    "Count the frequency of each category.\n",
    "Visualize the distribution using bar charts or pie charts.\n",
    "Analyzing Ratings:\n",
    "If the dataset contains a 'rating' column:\n",
    "\n",
    "Examine the distribution of ratings.\n",
    "Calculate average ratings for different cuisines or other categories.\n",
    "Text Data Analysis (Ingredients, Recipe Titles, etc.):\n",
    "\n",
    "Perform text preprocessing (lowercasing, tokenization, etc.).\n",
    "Analyze most frequent words or ingredients using word clouds, frequency distributions, or bar charts.\n",
    "Explore n-grams (sequences of words) to understand common ingredient combinations or recipe titles.\n",
    "Visualization:\n",
    "Create visualizations to explore relationships or patterns:\n",
    "\n",
    "Correlation matrix for numeric features.\n",
    "Pair plots for numerical features.\n",
    "Plotting graphs or histograms to visualize distributions.\n",
    "Additional Analysis:\n",
    "\n",
    "Identify outliers or anomalies.\n",
    "Explore relationships between variables (e.g., cuisine and ingredients).\n",
    "Perform any specific analysis based on your project goals."
   ]
  },
  {
   "cell_type": "code",
   "execution_count": null,
   "id": "e3901bfc",
   "metadata": {},
   "outputs": [],
   "source": []
  }
 ],
 "metadata": {
  "kernelspec": {
   "display_name": "Python 3 (ipykernel)",
   "language": "python",
   "name": "python3"
  },
  "language_info": {
   "codemirror_mode": {
    "name": "ipython",
    "version": 3
   },
   "file_extension": ".py",
   "mimetype": "text/x-python",
   "name": "python",
   "nbconvert_exporter": "python",
   "pygments_lexer": "ipython3",
   "version": "3.9.7"
  }
 },
 "nbformat": 4,
 "nbformat_minor": 5
}
